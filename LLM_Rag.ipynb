{
 "cells": [
  {
   "cell_type": "markdown",
   "id": "1722f680",
   "metadata": {},
   "source": [
    "# LLM RAG Performance Testing\n",
    "\n",
    "This notebook tests LLM performance with RAG (Retrieval-Augmented Generation) implementation.\n",
    "We'll combine the methodologies from LLM.ipynb and RAG_ESG.ipynb to:\n",
    "\n",
    "1. Use RAG to overcome token limitations in ESG document analysis\n",
    "2. Test LLM performance with retrieved context vs full document processing\n",
    "3. Compare RAG-enhanced LLM scores against benchmark scores\n",
    "4. Evaluate the effectiveness of different retrieval strategies\n",
    "\n",
    "The goal is to determine if RAG improves LLM ESG scoring accuracy while being more efficient."
   ]
  },
  {
   "cell_type": "code",
   "execution_count": 2,
   "id": "83d21e13",
   "metadata": {},
   "outputs": [
    {
     "name": "stdout",
     "output_type": "stream",
     "text": [
      "LLM RAG Performance Testing Setup Complete\n",
      "==================================================\n"
     ]
    }
   ],
   "source": [
    "# Import required libraries\n",
    "import pandas as pd\n",
    "import numpy as np\n",
    "import os\n",
    "import json\n",
    "import re\n",
    "import time\n",
    "from collections import defaultdict\n",
    "from typing import List, Dict, Any\n",
    "import warnings\n",
    "warnings.filterwarnings('ignore')\n",
    "\n",
    "# RAG-specific imports\n",
    "from langchain_community.document_loaders import TextLoader\n",
    "from langchain_text_splitters import RecursiveCharacterTextSplitter, MarkdownHeaderTextSplitter\n",
    "from langchain_community.vectorstores import Chroma\n",
    "from langchain_core.documents import Document\n",
    "from langchain_core.prompts import PromptTemplate\n",
    "from langchain_ibm import WatsonxLLM, WatsonxEmbeddings\n",
    "\n",
    "# LLM imports\n",
    "from ibm_watsonx_ai import APIClient\n",
    "from ibm_watsonx_ai.foundation_models import ModelInference\n",
    "try:\n",
    "    from ibm_watsonx_ai.metanames import GenParams\n",
    "except ImportError:\n",
    "    # Fallback for newer versions\n",
    "    GenParams = None\n",
    "\n",
    "# Evaluation imports\n",
    "from sklearn.metrics import mean_absolute_error, mean_squared_error, r2_score, accuracy_score\n",
    "import matplotlib.pyplot as plt\n",
    "import seaborn as sns\n",
    "from tqdm import tqdm\n",
    "\n",
    "# Environment setup\n",
    "from decouple import config\n",
    "from dotenv import load_dotenv\n",
    "\n",
    "print(\"LLM RAG Performance Testing Setup Complete\")\n",
    "print(\"=\" * 50)"
   ]
  },
  {
   "cell_type": "code",
   "execution_count": 3,
   "id": "5d78596d",
   "metadata": {},
   "outputs": [
    {
     "name": "stdout",
     "output_type": "stream",
     "text": [
      "API credentials loaded successfully\n",
      "Environment setup complete\n"
     ]
    }
   ],
   "source": [
    "# Environment Configuration\n",
    "env_path = \"/Users/wenlong/Documents/GitHub/ma2/assignments/.env\"\n",
    "if os.path.exists(env_path):\n",
    "    load_dotenv(dotenv_path=env_path)\n",
    "\n",
    "# Get API credentials\n",
    "WX_API_KEY = os.getenv(\"WX_API_KEY\")\n",
    "WX_PROJECT_ID = os.getenv(\"WX_PROJECT_ID\")\n",
    "\n",
    "if not WX_API_KEY or not WX_PROJECT_ID:\n",
    "    print(\"Warning: API credentials not found. Please check your .env file.\")\n",
    "else:\n",
    "    print(\"API credentials loaded successfully\")\n",
    "\n",
    "# Watson Machine Learning credentials\n",
    "credentials = {\n",
    "    \"url\": \"https://us-south.ml.cloud.ibm.com\",\n",
    "    \"apikey\": WX_API_KEY\n",
    "}\n",
    "\n",
    "print(\"Environment setup complete\")"
   ]
  },
  {
   "cell_type": "code",
   "execution_count": 26,
   "id": "dfca8cee",
   "metadata": {},
   "outputs": [
    {
     "name": "stdout",
     "output_type": "stream",
     "text": [
      "Loaded 659455 characters for Nike\n",
      "Loaded 497893 characters for Apple\n",
      "Loaded 316041 characters for Boeing\n",
      "Loaded 129173 characters for Disney\n",
      "Loaded 279400 characters for Eli Lilly\n",
      "Loaded 426490 characters for FedEx\n",
      "Loaded 9294 characters for Johnson & Johnson\n",
      "Loaded 346315 characters for JPMorgan Chase\n",
      "Loaded 266438 characters for McDonald's\n",
      "Loaded 125496 characters for Meta\n",
      "Loaded 440569 characters for Microsoft\n",
      "Loaded 111752 characters for Netflix\n",
      "Loaded 106123 characters for NVIDIA\n",
      "Loaded 229439 characters for Tesla\n",
      "Loaded 490638 characters for Google\n",
      "\n",
      "Loaded benchmark scores for 15 companies\n",
      "Loaded documents for 15 companies\n"
     ]
    }
   ],
   "source": [
    "# Load Benchmark ESG Scores\n",
    "def load_benchmark_scores():\n",
    "    \"\"\"Load benchmark ESG scores for evaluation\"\"\"\n",
    "    benchmark_scores = {\n",
    "        'Nike': 70, 'Apple': 70, 'Boeing': 79, 'Disney': 68, 'Eli Lilly': 64, 'FedEx': 71,\n",
    "        'Johnson & Johnson': 85, 'JPMorgan Chase': 80, 'McDonald\\'s': 66, 'Meta': 60,\n",
    "        'Microsoft': 87, 'Netflix': 37, 'NVIDIA': 77, 'Tesla': 72, 'Google': 81\n",
    "    }\n",
    "    return benchmark_scores\n",
    "\n",
    "def load_company_documents():\n",
    "    \"\"\"Load all ESG-related documents for each company\"\"\"\n",
    "    data_path = \"data\"\n",
    "    company_texts = {}\n",
    "    \n",
    "    # Company directory mapping\n",
    "    company_dirs = {\n",
    "        'Nike': 'nike', 'Apple': 'apple', 'Boeing': 'boeing', 'Disney': 'disney',\n",
    "        'Eli Lilly': 'elililly', 'FedEx': 'fedex', 'Johnson & Johnson': 'johnsonandjohnson',\n",
    "        'JPMorgan Chase': 'jpmorganchase', 'McDonald\\'s': 'mcdonald', 'Meta': 'meta',\n",
    "        'Microsoft': 'microsoft', 'Netflix': 'netflix', 'NVIDIA': 'nvidia',\n",
    "        'Tesla': 'tesla', 'Google': 'google'\n",
    "    }\n",
    "    \n",
    "    for company, folder in company_dirs.items():\n",
    "        company_path = os.path.join(data_path, folder)\n",
    "        if os.path.exists(company_path):\n",
    "            all_text = \"\"\n",
    "            \n",
    "            # Load ESG report\n",
    "            esg_file = os.path.join(company_path, \"ESG_Report.md\")\n",
    "            if os.path.exists(esg_file):\n",
    "                with open(esg_file, 'r', encoding='utf-8') as f:\n",
    "                    all_text += f.read() + \"\\n\\n\"\n",
    "            \n",
    "            # Load 10-K items\n",
    "            for item in [\"10k_item1.md\", \"10k_item1A.md\", \"10k_item7.md\", \"10k_item7A.md\"]:\n",
    "                item_file = os.path.join(company_path, item)\n",
    "                if os.path.exists(item_file):\n",
    "                    with open(item_file, 'r', encoding='utf-8') as f:\n",
    "                        all_text += f.read() + \"\\n\\n\"\n",
    "            \n",
    "            company_texts[company] = all_text\n",
    "            print(f\"Loaded {len(all_text)} characters for {company}\")\n",
    "    \n",
    "    return company_texts\n",
    "\n",
    "# Load the data\n",
    "benchmark_scores = load_benchmark_scores()\n",
    "company_texts = load_company_documents()\n",
    "\n",
    "print(f\"\\nLoaded benchmark scores for {len(benchmark_scores)} companies\")\n",
    "print(f\"Loaded documents for {len(company_texts)} companies\")"
   ]
  },
  {
   "cell_type": "code",
   "execution_count": 28,
   "id": "46d3556e",
   "metadata": {},
   "outputs": [
    {
     "name": "stdout",
     "output_type": "stream",
     "text": [
      "Creating vector store from company documents...\n",
      "Created 14557 document chunks\n",
      "Vector store created with 14557 documents\n",
      "RAG system initialized successfully\n"
     ]
    }
   ],
   "source": [
    "# RAG Setup: Document Chunking and Vector Store Creation\n",
    "\n",
    "class ESGRagSystem:\n",
    "    def __init__(self, credentials, project_id):\n",
    "        self.credentials = credentials\n",
    "        self.project_id = project_id\n",
    "        self.client = APIClient(credentials)\n",
    "        self.client.set.default_project(project_id)\n",
    "        \n",
    "        # Initialize embeddings model\n",
    "        self.embeddings = WatsonxEmbeddings(\n",
    "            model_id=\"ibm/slate-125m-english-rtrvr\",\n",
    "            url=credentials[\"url\"],\n",
    "            apikey=credentials[\"apikey\"],\n",
    "            project_id=project_id,\n",
    "        )\n",
    "        \n",
    "        # Text splitter for chunking (reduced size for embedding limits)\n",
    "        self.text_splitter = RecursiveCharacterTextSplitter(\n",
    "            chunk_size=400,  # Reduced to stay within token limits\n",
    "            chunk_overlap=50,\n",
    "            length_function=len,\n",
    "        )\n",
    "        \n",
    "        self.vector_store = None\n",
    "        \n",
    "    def create_vector_store(self, company_texts, persist_directory=\"rag_esg_db\"):\n",
    "        \"\"\"Create vector store from company documents\"\"\"\n",
    "        print(\"Creating vector store from company documents...\")\n",
    "        \n",
    "        documents = []\n",
    "        for company, text in company_texts.items():\n",
    "            if text.strip():  # Only process non-empty texts\n",
    "                chunks = self.text_splitter.split_text(text)\n",
    "                for i, chunk in enumerate(chunks):\n",
    "                    doc = Document(\n",
    "                        page_content=chunk,\n",
    "                        metadata={\n",
    "                            \"company\": company,\n",
    "                            \"chunk_id\": i,\n",
    "                            \"source\": f\"{company}_chunk_{i}\"\n",
    "                        }\n",
    "                    )\n",
    "                    documents.append(doc)\n",
    "        \n",
    "        print(f\"Created {len(documents)} document chunks\")\n",
    "        \n",
    "        # Create vector store\n",
    "        self.vector_store = Chroma.from_documents(\n",
    "            documents=documents,\n",
    "            embedding=self.embeddings,\n",
    "            persist_directory=persist_directory\n",
    "        )\n",
    "        \n",
    "        print(f\"Vector store created with {len(documents)} documents\")\n",
    "        return self.vector_store\n",
    "    \n",
    "    def retrieve_relevant_docs(self, query, company=None, k=5):\n",
    "        \"\"\"Retrieve relevant documents for a query\"\"\"\n",
    "        if not self.vector_store:\n",
    "            raise ValueError(\"Vector store not initialized. Call create_vector_store first.\")\n",
    "        \n",
    "        # Add company filter if specified\n",
    "        search_kwargs = {\"k\": k}\n",
    "        if company:\n",
    "            search_kwargs[\"filter\"] = {\"company\": company}\n",
    "        \n",
    "        relevant_docs = self.vector_store.similarity_search(query, **search_kwargs)\n",
    "        return relevant_docs\n",
    "\n",
    "# Initialize RAG system\n",
    "rag_system = ESGRagSystem(credentials, WX_PROJECT_ID)\n",
    "\n",
    "# Create vector store from company documents\n",
    "vector_store = rag_system.create_vector_store(company_texts)\n",
    "\n",
    "print(\"RAG system initialized successfully\")"
   ]
  },
  {
   "cell_type": "code",
   "execution_count": 40,
   "id": "633b35cd",
   "metadata": {},
   "outputs": [
    {
     "name": "stdout",
     "output_type": "stream",
     "text": [
      "Mistral model initialized for RAG-enhanced ESG scoring\n",
      "RAG-enhanced prompts configured\n"
     ]
    }
   ],
   "source": [
    "# LLM Model Setup for RAG-Enhanced ESG Scoring\n",
    "\n",
    "# Initialize Mistral model (best performing from previous tests)\n",
    "mistral_parameters = {\n",
    "    \"decoding_method\": \"greedy\",\n",
    "    \"max_new_tokens\": 1000,\n",
    "    \"temperature\": 0.1,\n",
    "    \"repetition_penalty\": 1.0,\n",
    "    \"stop_sequences\": [\"<|endoftext|>\"]\n",
    "}\n",
    "\n",
    "mistral_model = ModelInference(\n",
    "    model_id=\"mistralai/mistral-large\",\n",
    "    credentials=credentials,\n",
    "    project_id=WX_PROJECT_ID,\n",
    "    params=mistral_parameters\n",
    ")\n",
    "\n",
    "print(\"Mistral model initialized for RAG-enhanced ESG scoring\")\n",
    "\n",
    "# ESG Scoring Prompts (adapted for RAG context)\n",
    "rag_scoring_prompt_template = \"\"\"\n",
    "You are an expert ESG (Environmental, Social, Governance) analyst. Based on the provided context from company documents, provide a comprehensive ESG score for {company}.\n",
    "\n",
    "CONTEXT FROM COMPANY DOCUMENTS:\n",
    "{context}\n",
    "\n",
    "SCORING GUIDELINES:\n",
    "- Environmental (E): Climate action, resource efficiency, pollution control, waste management\n",
    "- Social (S): Employee welfare, community impact, diversity, human rights, product safety\n",
    "- Governance (G): Board structure, ethics, transparency, risk management, stakeholder engagement\n",
    "\n",
    "SCORING SCALE: 0-100 (where 100 is exceptional ESG performance)\n",
    "- 90-100: Industry leader with exceptional ESG practices\n",
    "- 80-89: Strong ESG performance with comprehensive programs\n",
    "- 70-79: Good ESG practices with room for improvement\n",
    "- 60-69: Moderate ESG efforts, some initiatives in place\n",
    "- 50-59: Basic ESG compliance, limited proactive measures\n",
    "- Below 50: Poor ESG performance with significant gaps\n",
    "\n",
    "Please provide:\n",
    "1. Overall ESG Score (0-100): [score]\n",
    "2. Brief justification (2-3 sentences) focusing on key strengths and areas for improvement\n",
    "\n",
    "Company: {company}\n",
    "Overall ESG Score (0-100):\"\"\"\n",
    "\n",
    "rag_classification_prompt_template = \"\"\"\n",
    "Based on the provided context from company documents, classify {company}'s ESG performance level.\n",
    "\n",
    "CONTEXT FROM COMPANY DOCUMENTS:\n",
    "{context}\n",
    "\n",
    "Classification Options:\n",
    "A) Excellent (80-100): Industry-leading ESG practices\n",
    "B) Good (60-79): Strong ESG performance with comprehensive initiatives  \n",
    "C) Fair (40-59): Moderate ESG efforts, some initiatives in place\n",
    "D) Poor (0-39): Limited ESG practices with significant gaps\n",
    "\n",
    "Company: {company}\n",
    "ESG Classification:\"\"\"\n",
    "\n",
    "print(\"RAG-enhanced prompts configured\")"
   ]
  },
  {
   "cell_type": "code",
   "execution_count": 30,
   "id": "4a413b9f",
   "metadata": {},
   "outputs": [
    {
     "name": "stdout",
     "output_type": "stream",
     "text": [
      "RAG-enhanced scoring functions defined\n"
     ]
    }
   ],
   "source": [
    "# RAG-Enhanced ESG Scoring Functions\n",
    "\n",
    "def score_company_with_rag(company, model, top_k=10):\n",
    "    \"\"\"Score a company using RAG-enhanced context\"\"\"\n",
    "    \n",
    "    # Create ESG-focused query for retrieval\n",
    "    esg_query = f\"\"\"\n",
    "    Environmental initiatives, sustainability practices, carbon emissions, waste management,\n",
    "    social responsibility, employee welfare, diversity and inclusion, community impact,\n",
    "    corporate governance, board structure, ethics, transparency, risk management for {company}\n",
    "    \"\"\"\n",
    "    \n",
    "    # Retrieve relevant documents\n",
    "    relevant_docs = rag_system.retrieve_relevant_docs(\n",
    "        query=esg_query, \n",
    "        company=company, \n",
    "        k=top_k\n",
    "    )\n",
    "    \n",
    "    # Combine retrieved context\n",
    "    context = \"\\n\\n\".join([doc.page_content for doc in relevant_docs])\n",
    "    \n",
    "    # Limit context to avoid token overflow (roughly 8000 characters)\n",
    "    if len(context) > 8000:\n",
    "        context = context[:8000] + \"...\"\n",
    "    \n",
    "    # Generate score using RAG context\n",
    "    prompt = rag_scoring_prompt_template.format(company=company, context=context)\n",
    "    \n",
    "    try:\n",
    "        response = model.generate_text(prompt)\n",
    "        \n",
    "        # Extract score - the response starts with a space and the score\n",
    "        score_patterns = [\n",
    "            r'^\\s*(\\d+)',  # Number at start with possible whitespace\n",
    "            r'Overall ESG Score.*?(\\d+)',\n",
    "            r'ESG Score.*?(\\d+)', \n",
    "            r'Score.*?(\\d+)',\n",
    "            r'(\\d+)'  # Any number as fallback\n",
    "        ]\n",
    "        \n",
    "        score = None\n",
    "        for pattern in score_patterns:\n",
    "            score_match = re.search(pattern, response, re.MULTILINE)\n",
    "            if score_match:\n",
    "                score = int(score_match.group(1))\n",
    "                # Clamp score to valid range\n",
    "                score = max(0, min(100, score))\n",
    "                break\n",
    "        if score is not None:\n",
    "            return score, response, len(relevant_docs)\n",
    "        else:\n",
    "            print(f\"Could not extract score for {company}\")\n",
    "            return None, response, len(relevant_docs)\n",
    "            \n",
    "    except Exception as e:\n",
    "        print(f\"Error scoring {company}: {e}\")\n",
    "        return None, str(e), 0\n",
    "\n",
    "def classify_company_with_rag(company, model, top_k=10):\n",
    "    \"\"\"Classify a company using RAG-enhanced context\"\"\"\n",
    "    \n",
    "    # Create ESG-focused query for retrieval\n",
    "    esg_query = f\"\"\"\n",
    "    ESG performance, environmental practices, social responsibility, \n",
    "    corporate governance, sustainability initiatives for {company}\n",
    "    \"\"\"\n",
    "    \n",
    "    # Retrieve relevant documents\n",
    "    relevant_docs = rag_system.retrieve_relevant_docs(\n",
    "        query=esg_query, \n",
    "        company=company, \n",
    "        k=top_k\n",
    "    )\n",
    "    \n",
    "    # Combine retrieved context\n",
    "    context = \"\\n\\n\".join([doc.page_content for doc in relevant_docs])\n",
    "    \n",
    "    # Limit context\n",
    "    if len(context) > 8000:\n",
    "        context = context[:8000] + \"...\"\n",
    "    \n",
    "    # Generate classification using RAG context\n",
    "    prompt = rag_classification_prompt_template.format(company=company, context=context)\n",
    "    \n",
    "    try:\n",
    "        response = model.generate_text(prompt)\n",
    "        \n",
    "        # Extract classification\n",
    "        if 'A)' in response or 'Excellent' in response:\n",
    "            return 'A', response, len(relevant_docs)\n",
    "        elif 'B)' in response or 'Good' in response:\n",
    "            return 'B', response, len(relevant_docs)\n",
    "        elif 'C)' in response or 'Fair' in response:\n",
    "            return 'C', response, len(relevant_docs)\n",
    "        elif 'D)' in response or 'Poor' in response:\n",
    "            return 'D', response, len(relevant_docs)\n",
    "        else:\n",
    "            return None, response, len(relevant_docs)\n",
    "            \n",
    "    except Exception as e:\n",
    "        print(f\"Error classifying {company}: {e}\")\n",
    "        return None, str(e), 0\n",
    "\n",
    "print(\"RAG-enhanced scoring functions defined\")"
   ]
  },
  {
   "cell_type": "code",
   "execution_count": 31,
   "id": "86e9a4ee",
   "metadata": {},
   "outputs": [
    {
     "name": "stdout",
     "output_type": "stream",
     "text": [
      "Starting RAG-Enhanced ESG Scoring Performance Test\n",
      "============================================================\n",
      "\n",
      "Testing with top_k=5 retrieved chunks:\n",
      "----------------------------------------\n"
     ]
    },
    {
     "name": "stderr",
     "output_type": "stream",
     "text": [
      "RAG Scoring (k=5):   0%|          | 0/15 [00:00<?, ?it/s]"
     ]
    },
    {
     "name": "stdout",
     "output_type": "stream",
     "text": [
      "Nike: RAG=82, Benchmark=70, Error=12, Docs=5\n"
     ]
    },
    {
     "name": "stderr",
     "output_type": "stream",
     "text": [
      "RAG Scoring (k=5):   7%|▋         | 1/15 [00:03<00:47,  3.41s/it]"
     ]
    },
    {
     "name": "stdout",
     "output_type": "stream",
     "text": [
      "Apple: RAG=85, Benchmark=70, Error=15, Docs=5\n"
     ]
    },
    {
     "name": "stderr",
     "output_type": "stream",
     "text": [
      "RAG Scoring (k=5):  13%|█▎        | 2/15 [00:06<00:44,  3.42s/it]"
     ]
    },
    {
     "name": "stdout",
     "output_type": "stream",
     "text": [
      "Boeing: RAG=75, Benchmark=79, Error=4, Docs=5\n"
     ]
    },
    {
     "name": "stderr",
     "output_type": "stream",
     "text": [
      "RAG Scoring (k=5):  20%|██        | 3/15 [00:09<00:39,  3.28s/it]"
     ]
    },
    {
     "name": "stdout",
     "output_type": "stream",
     "text": [
      "Disney: RAG=85, Benchmark=68, Error=17, Docs=5\n"
     ]
    },
    {
     "name": "stderr",
     "output_type": "stream",
     "text": [
      "RAG Scoring (k=5):  27%|██▋       | 4/15 [00:13<00:36,  3.30s/it]"
     ]
    },
    {
     "name": "stdout",
     "output_type": "stream",
     "text": [
      "Eli Lilly: RAG=85, Benchmark=64, Error=21, Docs=5\n"
     ]
    },
    {
     "name": "stderr",
     "output_type": "stream",
     "text": [
      "RAG Scoring (k=5):  33%|███▎      | 5/15 [00:16<00:33,  3.33s/it]"
     ]
    },
    {
     "name": "stdout",
     "output_type": "stream",
     "text": [
      "FedEx: RAG=82, Benchmark=71, Error=11, Docs=5\n"
     ]
    },
    {
     "name": "stderr",
     "output_type": "stream",
     "text": [
      "RAG Scoring (k=5):  40%|████      | 6/15 [00:20<00:31,  3.49s/it]"
     ]
    },
    {
     "name": "stdout",
     "output_type": "stream",
     "text": [
      "Johnson & Johnson: RAG=85, Benchmark=85, Error=0, Docs=5\n"
     ]
    },
    {
     "name": "stderr",
     "output_type": "stream",
     "text": [
      "RAG Scoring (k=5):  47%|████▋     | 7/15 [00:24<00:29,  3.65s/it]"
     ]
    },
    {
     "name": "stdout",
     "output_type": "stream",
     "text": [
      "JPMorgan Chase: RAG=85, Benchmark=80, Error=5, Docs=5\n"
     ]
    },
    {
     "name": "stderr",
     "output_type": "stream",
     "text": [
      "RAG Scoring (k=5):  53%|█████▎    | 8/15 [00:27<00:25,  3.60s/it]"
     ]
    },
    {
     "name": "stdout",
     "output_type": "stream",
     "text": [
      "McDonald's: RAG=75, Benchmark=66, Error=9, Docs=5\n"
     ]
    },
    {
     "name": "stderr",
     "output_type": "stream",
     "text": [
      "RAG Scoring (k=5):  60%|██████    | 9/15 [00:31<00:21,  3.60s/it]"
     ]
    },
    {
     "name": "stdout",
     "output_type": "stream",
     "text": [
      "Meta: RAG=85, Benchmark=60, Error=25, Docs=5\n"
     ]
    },
    {
     "name": "stderr",
     "output_type": "stream",
     "text": [
      "RAG Scoring (k=5):  67%|██████▋   | 10/15 [00:35<00:18,  3.65s/it]"
     ]
    },
    {
     "name": "stdout",
     "output_type": "stream",
     "text": [
      "Microsoft: RAG=85, Benchmark=87, Error=2, Docs=5\n"
     ]
    },
    {
     "name": "stderr",
     "output_type": "stream",
     "text": [
      "RAG Scoring (k=5):  73%|███████▎  | 11/15 [00:38<00:14,  3.63s/it]"
     ]
    },
    {
     "name": "stdout",
     "output_type": "stream",
     "text": [
      "Netflix: RAG=75, Benchmark=37, Error=38, Docs=5\n"
     ]
    },
    {
     "name": "stderr",
     "output_type": "stream",
     "text": [
      "RAG Scoring (k=5):  80%|████████  | 12/15 [00:42<00:10,  3.62s/it]"
     ]
    },
    {
     "name": "stdout",
     "output_type": "stream",
     "text": [
      "NVIDIA: RAG=85, Benchmark=77, Error=8, Docs=5\n"
     ]
    },
    {
     "name": "stderr",
     "output_type": "stream",
     "text": [
      "RAG Scoring (k=5):  87%|████████▋ | 13/15 [00:46<00:07,  3.85s/it]"
     ]
    },
    {
     "name": "stdout",
     "output_type": "stream",
     "text": [
      "Tesla: RAG=85, Benchmark=72, Error=13, Docs=5\n"
     ]
    },
    {
     "name": "stderr",
     "output_type": "stream",
     "text": [
      "RAG Scoring (k=5):  93%|█████████▎| 14/15 [00:50<00:03,  3.68s/it]"
     ]
    },
    {
     "name": "stdout",
     "output_type": "stream",
     "text": [
      "Google: RAG=85, Benchmark=81, Error=4, Docs=5\n"
     ]
    },
    {
     "name": "stderr",
     "output_type": "stream",
     "text": [
      "RAG Scoring (k=5): 100%|██████████| 15/15 [00:53<00:00,  3.59s/it]\n"
     ]
    },
    {
     "name": "stdout",
     "output_type": "stream",
     "text": [
      "\n",
      "Testing with top_k=10 retrieved chunks:\n",
      "----------------------------------------\n"
     ]
    },
    {
     "name": "stderr",
     "output_type": "stream",
     "text": [
      "RAG Scoring (k=10):   0%|          | 0/15 [00:00<?, ?it/s]"
     ]
    },
    {
     "name": "stdout",
     "output_type": "stream",
     "text": [
      "Nike: RAG=82, Benchmark=70, Error=12, Docs=10\n"
     ]
    },
    {
     "name": "stderr",
     "output_type": "stream",
     "text": [
      "RAG Scoring (k=10):   7%|▋         | 1/15 [00:03<00:47,  3.37s/it]"
     ]
    },
    {
     "name": "stdout",
     "output_type": "stream",
     "text": [
      "Apple: RAG=85, Benchmark=70, Error=15, Docs=10\n"
     ]
    },
    {
     "name": "stderr",
     "output_type": "stream",
     "text": [
      "RAG Scoring (k=10):  13%|█▎        | 2/15 [00:07<00:45,  3.52s/it]"
     ]
    },
    {
     "name": "stdout",
     "output_type": "stream",
     "text": [
      "Boeing: RAG=78, Benchmark=79, Error=1, Docs=10\n"
     ]
    },
    {
     "name": "stderr",
     "output_type": "stream",
     "text": [
      "RAG Scoring (k=10):  20%|██        | 3/15 [00:10<00:42,  3.50s/it]"
     ]
    },
    {
     "name": "stdout",
     "output_type": "stream",
     "text": [
      "Disney: RAG=85, Benchmark=68, Error=17, Docs=10\n"
     ]
    },
    {
     "name": "stderr",
     "output_type": "stream",
     "text": [
      "RAG Scoring (k=10):  27%|██▋       | 4/15 [00:14<00:38,  3.52s/it]"
     ]
    },
    {
     "name": "stdout",
     "output_type": "stream",
     "text": [
      "Eli Lilly: RAG=85, Benchmark=64, Error=21, Docs=10\n"
     ]
    },
    {
     "name": "stderr",
     "output_type": "stream",
     "text": [
      "RAG Scoring (k=10):  33%|███▎      | 5/15 [00:18<00:39,  3.96s/it]"
     ]
    },
    {
     "name": "stdout",
     "output_type": "stream",
     "text": [
      "FedEx: RAG=82, Benchmark=71, Error=11, Docs=10\n"
     ]
    },
    {
     "name": "stderr",
     "output_type": "stream",
     "text": [
      "RAG Scoring (k=10):  40%|████      | 6/15 [00:22<00:35,  3.94s/it]"
     ]
    },
    {
     "name": "stdout",
     "output_type": "stream",
     "text": [
      "Johnson & Johnson: RAG=85, Benchmark=85, Error=0, Docs=10\n"
     ]
    },
    {
     "name": "stderr",
     "output_type": "stream",
     "text": [
      "RAG Scoring (k=10):  47%|████▋     | 7/15 [00:26<00:30,  3.87s/it]"
     ]
    },
    {
     "name": "stdout",
     "output_type": "stream",
     "text": [
      "JPMorgan Chase: RAG=85, Benchmark=80, Error=5, Docs=10\n"
     ]
    },
    {
     "name": "stderr",
     "output_type": "stream",
     "text": [
      "RAG Scoring (k=10):  53%|█████▎    | 8/15 [00:29<00:25,  3.65s/it]"
     ]
    },
    {
     "name": "stdout",
     "output_type": "stream",
     "text": [
      "McDonald's: RAG=75, Benchmark=66, Error=9, Docs=10\n"
     ]
    },
    {
     "name": "stderr",
     "output_type": "stream",
     "text": [
      "RAG Scoring (k=10):  60%|██████    | 9/15 [00:33<00:21,  3.59s/it]"
     ]
    },
    {
     "name": "stdout",
     "output_type": "stream",
     "text": [
      "Meta: RAG=85, Benchmark=60, Error=25, Docs=10\n"
     ]
    },
    {
     "name": "stderr",
     "output_type": "stream",
     "text": [
      "RAG Scoring (k=10):  67%|██████▋   | 10/15 [00:36<00:17,  3.58s/it]"
     ]
    },
    {
     "name": "stdout",
     "output_type": "stream",
     "text": [
      "Microsoft: RAG=85, Benchmark=87, Error=2, Docs=10\n"
     ]
    },
    {
     "name": "stderr",
     "output_type": "stream",
     "text": [
      "RAG Scoring (k=10):  73%|███████▎  | 11/15 [00:40<00:14,  3.68s/it]"
     ]
    },
    {
     "name": "stdout",
     "output_type": "stream",
     "text": [
      "Netflix: RAG=75, Benchmark=37, Error=38, Docs=10\n"
     ]
    },
    {
     "name": "stderr",
     "output_type": "stream",
     "text": [
      "RAG Scoring (k=10):  80%|████████  | 12/15 [00:44<00:11,  3.68s/it]"
     ]
    },
    {
     "name": "stdout",
     "output_type": "stream",
     "text": [
      "NVIDIA: RAG=85, Benchmark=77, Error=8, Docs=10\n"
     ]
    },
    {
     "name": "stderr",
     "output_type": "stream",
     "text": [
      "RAG Scoring (k=10):  87%|████████▋ | 13/15 [00:47<00:07,  3.55s/it]"
     ]
    },
    {
     "name": "stdout",
     "output_type": "stream",
     "text": [
      "Tesla: RAG=85, Benchmark=72, Error=13, Docs=10\n"
     ]
    },
    {
     "name": "stderr",
     "output_type": "stream",
     "text": [
      "RAG Scoring (k=10):  93%|█████████▎| 14/15 [00:50<00:03,  3.54s/it]"
     ]
    },
    {
     "name": "stdout",
     "output_type": "stream",
     "text": [
      "Google: RAG=85, Benchmark=81, Error=4, Docs=10\n"
     ]
    },
    {
     "name": "stderr",
     "output_type": "stream",
     "text": [
      "RAG Scoring (k=10): 100%|██████████| 15/15 [00:55<00:00,  3.67s/it]\n"
     ]
    },
    {
     "name": "stdout",
     "output_type": "stream",
     "text": [
      "\n",
      "Testing with top_k=15 retrieved chunks:\n",
      "----------------------------------------\n"
     ]
    },
    {
     "name": "stderr",
     "output_type": "stream",
     "text": [
      "RAG Scoring (k=15):   0%|          | 0/15 [00:00<?, ?it/s]"
     ]
    },
    {
     "name": "stdout",
     "output_type": "stream",
     "text": [
      "Nike: RAG=82, Benchmark=70, Error=12, Docs=15\n"
     ]
    },
    {
     "name": "stderr",
     "output_type": "stream",
     "text": [
      "RAG Scoring (k=15):   7%|▋         | 1/15 [00:04<00:58,  4.16s/it]"
     ]
    },
    {
     "name": "stdout",
     "output_type": "stream",
     "text": [
      "Apple: RAG=85, Benchmark=70, Error=15, Docs=15\n"
     ]
    },
    {
     "name": "stderr",
     "output_type": "stream",
     "text": [
      "RAG Scoring (k=15):  13%|█▎        | 2/15 [00:07<00:51,  3.96s/it]"
     ]
    },
    {
     "name": "stdout",
     "output_type": "stream",
     "text": [
      "Boeing: RAG=78, Benchmark=79, Error=1, Docs=15\n"
     ]
    },
    {
     "name": "stderr",
     "output_type": "stream",
     "text": [
      "RAG Scoring (k=15):  20%|██        | 3/15 [00:12<00:49,  4.17s/it]"
     ]
    },
    {
     "name": "stdout",
     "output_type": "stream",
     "text": [
      "Disney: RAG=85, Benchmark=68, Error=17, Docs=15\n"
     ]
    },
    {
     "name": "stderr",
     "output_type": "stream",
     "text": [
      "RAG Scoring (k=15):  27%|██▋       | 4/15 [00:16<00:45,  4.17s/it]"
     ]
    },
    {
     "name": "stdout",
     "output_type": "stream",
     "text": [
      "Eli Lilly: RAG=85, Benchmark=64, Error=21, Docs=15\n"
     ]
    },
    {
     "name": "stderr",
     "output_type": "stream",
     "text": [
      "RAG Scoring (k=15):  33%|███▎      | 5/15 [00:21<00:42,  4.30s/it]"
     ]
    },
    {
     "name": "stdout",
     "output_type": "stream",
     "text": [
      "FedEx: RAG=82, Benchmark=71, Error=11, Docs=15\n"
     ]
    },
    {
     "name": "stderr",
     "output_type": "stream",
     "text": [
      "RAG Scoring (k=15):  40%|████      | 6/15 [00:24<00:37,  4.12s/it]"
     ]
    },
    {
     "name": "stdout",
     "output_type": "stream",
     "text": [
      "Johnson & Johnson: RAG=85, Benchmark=85, Error=0, Docs=15\n"
     ]
    },
    {
     "name": "stderr",
     "output_type": "stream",
     "text": [
      "RAG Scoring (k=15):  47%|████▋     | 7/15 [00:28<00:32,  4.01s/it]"
     ]
    },
    {
     "name": "stdout",
     "output_type": "stream",
     "text": [
      "JPMorgan Chase: RAG=85, Benchmark=80, Error=5, Docs=15\n"
     ]
    },
    {
     "name": "stderr",
     "output_type": "stream",
     "text": [
      "RAG Scoring (k=15):  53%|█████▎    | 8/15 [00:32<00:27,  3.98s/it]"
     ]
    },
    {
     "name": "stdout",
     "output_type": "stream",
     "text": [
      "McDonald's: RAG=75, Benchmark=66, Error=9, Docs=15\n"
     ]
    },
    {
     "name": "stderr",
     "output_type": "stream",
     "text": [
      "RAG Scoring (k=15):  60%|██████    | 9/15 [00:36<00:24,  4.09s/it]"
     ]
    },
    {
     "name": "stdout",
     "output_type": "stream",
     "text": [
      "Meta: RAG=85, Benchmark=60, Error=25, Docs=15\n"
     ]
    },
    {
     "name": "stderr",
     "output_type": "stream",
     "text": [
      "RAG Scoring (k=15):  67%|██████▋   | 10/15 [00:40<00:19,  3.89s/it]"
     ]
    },
    {
     "name": "stdout",
     "output_type": "stream",
     "text": [
      "Microsoft: RAG=85, Benchmark=87, Error=2, Docs=15\n"
     ]
    },
    {
     "name": "stderr",
     "output_type": "stream",
     "text": [
      "RAG Scoring (k=15):  73%|███████▎  | 11/15 [00:44<00:15,  3.86s/it]"
     ]
    },
    {
     "name": "stdout",
     "output_type": "stream",
     "text": [
      "Netflix: RAG=75, Benchmark=37, Error=38, Docs=15\n"
     ]
    },
    {
     "name": "stderr",
     "output_type": "stream",
     "text": [
      "RAG Scoring (k=15):  80%|████████  | 12/15 [00:47<00:11,  3.81s/it]"
     ]
    },
    {
     "name": "stdout",
     "output_type": "stream",
     "text": [
      "NVIDIA: RAG=82, Benchmark=77, Error=5, Docs=15\n"
     ]
    },
    {
     "name": "stderr",
     "output_type": "stream",
     "text": [
      "RAG Scoring (k=15):  87%|████████▋ | 13/15 [00:52<00:07,  3.93s/it]"
     ]
    },
    {
     "name": "stdout",
     "output_type": "stream",
     "text": [
      "Tesla: RAG=85, Benchmark=72, Error=13, Docs=15\n"
     ]
    },
    {
     "name": "stderr",
     "output_type": "stream",
     "text": [
      "RAG Scoring (k=15):  93%|█████████▎| 14/15 [00:55<00:03,  3.70s/it]"
     ]
    },
    {
     "name": "stdout",
     "output_type": "stream",
     "text": [
      "Google: RAG=85, Benchmark=81, Error=4, Docs=15\n"
     ]
    },
    {
     "name": "stderr",
     "output_type": "stream",
     "text": [
      "RAG Scoring (k=15): 100%|██████████| 15/15 [00:59<00:00,  3.97s/it]\n"
     ]
    },
    {
     "name": "stdout",
     "output_type": "stream",
     "text": [
      "\n",
      "Testing with top_k=20 retrieved chunks:\n",
      "----------------------------------------\n"
     ]
    },
    {
     "name": "stderr",
     "output_type": "stream",
     "text": [
      "RAG Scoring (k=20):   0%|          | 0/15 [00:00<?, ?it/s]"
     ]
    },
    {
     "name": "stdout",
     "output_type": "stream",
     "text": [
      "Nike: RAG=82, Benchmark=70, Error=12, Docs=20\n"
     ]
    },
    {
     "name": "stderr",
     "output_type": "stream",
     "text": [
      "RAG Scoring (k=20):   7%|▋         | 1/15 [00:03<00:54,  3.89s/it]"
     ]
    },
    {
     "name": "stdout",
     "output_type": "stream",
     "text": [
      "Apple: RAG=85, Benchmark=70, Error=15, Docs=20\n"
     ]
    },
    {
     "name": "stderr",
     "output_type": "stream",
     "text": [
      "RAG Scoring (k=20):  13%|█▎        | 2/15 [00:08<00:55,  4.27s/it]"
     ]
    },
    {
     "name": "stdout",
     "output_type": "stream",
     "text": [
      "Boeing: RAG=78, Benchmark=79, Error=1, Docs=20\n"
     ]
    },
    {
     "name": "stderr",
     "output_type": "stream",
     "text": [
      "RAG Scoring (k=20):  20%|██        | 3/15 [00:12<00:51,  4.32s/it]"
     ]
    },
    {
     "name": "stdout",
     "output_type": "stream",
     "text": [
      "Disney: RAG=85, Benchmark=68, Error=17, Docs=20\n"
     ]
    },
    {
     "name": "stderr",
     "output_type": "stream",
     "text": [
      "RAG Scoring (k=20):  27%|██▋       | 4/15 [00:16<00:44,  4.07s/it]"
     ]
    },
    {
     "name": "stdout",
     "output_type": "stream",
     "text": [
      "Eli Lilly: RAG=85, Benchmark=64, Error=21, Docs=20\n"
     ]
    },
    {
     "name": "stderr",
     "output_type": "stream",
     "text": [
      "RAG Scoring (k=20):  33%|███▎      | 5/15 [00:20<00:39,  3.97s/it]"
     ]
    },
    {
     "name": "stdout",
     "output_type": "stream",
     "text": [
      "FedEx: RAG=82, Benchmark=71, Error=11, Docs=20\n"
     ]
    },
    {
     "name": "stderr",
     "output_type": "stream",
     "text": [
      "RAG Scoring (k=20):  40%|████      | 6/15 [00:24<00:37,  4.12s/it]"
     ]
    },
    {
     "name": "stdout",
     "output_type": "stream",
     "text": [
      "Johnson & Johnson: RAG=85, Benchmark=85, Error=0, Docs=20\n"
     ]
    },
    {
     "name": "stderr",
     "output_type": "stream",
     "text": [
      "RAG Scoring (k=20):  47%|████▋     | 7/15 [00:28<00:32,  4.11s/it]"
     ]
    },
    {
     "name": "stdout",
     "output_type": "stream",
     "text": [
      "JPMorgan Chase: RAG=85, Benchmark=80, Error=5, Docs=20\n"
     ]
    },
    {
     "name": "stderr",
     "output_type": "stream",
     "text": [
      "RAG Scoring (k=20):  53%|█████▎    | 8/15 [00:32<00:28,  4.01s/it]"
     ]
    },
    {
     "name": "stdout",
     "output_type": "stream",
     "text": [
      "McDonald's: RAG=75, Benchmark=66, Error=9, Docs=20\n"
     ]
    },
    {
     "name": "stderr",
     "output_type": "stream",
     "text": [
      "RAG Scoring (k=20):  60%|██████    | 9/15 [00:36<00:24,  4.03s/it]"
     ]
    },
    {
     "name": "stdout",
     "output_type": "stream",
     "text": [
      "Meta: RAG=85, Benchmark=60, Error=25, Docs=20\n"
     ]
    },
    {
     "name": "stderr",
     "output_type": "stream",
     "text": [
      "RAG Scoring (k=20):  67%|██████▋   | 10/15 [00:40<00:19,  3.93s/it]"
     ]
    },
    {
     "name": "stdout",
     "output_type": "stream",
     "text": [
      "Microsoft: RAG=85, Benchmark=87, Error=2, Docs=20\n"
     ]
    },
    {
     "name": "stderr",
     "output_type": "stream",
     "text": [
      "RAG Scoring (k=20):  73%|███████▎  | 11/15 [00:44<00:15,  3.92s/it]"
     ]
    },
    {
     "name": "stdout",
     "output_type": "stream",
     "text": [
      "Netflix: RAG=75, Benchmark=37, Error=38, Docs=20\n"
     ]
    },
    {
     "name": "stderr",
     "output_type": "stream",
     "text": [
      "RAG Scoring (k=20):  80%|████████  | 12/15 [00:48<00:11,  3.88s/it]"
     ]
    },
    {
     "name": "stdout",
     "output_type": "stream",
     "text": [
      "NVIDIA: RAG=82, Benchmark=77, Error=5, Docs=20\n"
     ]
    },
    {
     "name": "stderr",
     "output_type": "stream",
     "text": [
      "RAG Scoring (k=20):  87%|████████▋ | 13/15 [00:51<00:07,  3.88s/it]"
     ]
    },
    {
     "name": "stdout",
     "output_type": "stream",
     "text": [
      "Tesla: RAG=85, Benchmark=72, Error=13, Docs=20\n"
     ]
    },
    {
     "name": "stderr",
     "output_type": "stream",
     "text": [
      "RAG Scoring (k=20):  93%|█████████▎| 14/15 [00:55<00:03,  3.85s/it]"
     ]
    },
    {
     "name": "stdout",
     "output_type": "stream",
     "text": [
      "Google: RAG=85, Benchmark=81, Error=4, Docs=20\n"
     ]
    },
    {
     "name": "stderr",
     "output_type": "stream",
     "text": [
      "RAG Scoring (k=20): 100%|██████████| 15/15 [01:00<00:00,  4.00s/it]"
     ]
    },
    {
     "name": "stdout",
     "output_type": "stream",
     "text": [
      "\n",
      "RAG Performance Testing Complete!\n",
      "============================================================\n"
     ]
    },
    {
     "name": "stderr",
     "output_type": "stream",
     "text": [
      "\n"
     ]
    }
   ],
   "source": [
    "# Run Comprehensive RAG Performance Testing\n",
    "\n",
    "print(\"Starting RAG-Enhanced ESG Scoring Performance Test\")\n",
    "print(\"=\" * 60)\n",
    "\n",
    "# Test different retrieval strategies\n",
    "retrieval_strategies = [5, 10, 15, 20]  # Different numbers of retrieved chunks\n",
    "companies = list(benchmark_scores.keys())\n",
    "\n",
    "rag_results = {}\n",
    "\n",
    "for top_k in retrieval_strategies:\n",
    "    print(f\"\\nTesting with top_k={top_k} retrieved chunks:\")\n",
    "    print(\"-\" * 40)\n",
    "    \n",
    "    strategy_results = {}\n",
    "    \n",
    "    for company in tqdm(companies, desc=f\"RAG Scoring (k={top_k})\"):\n",
    "        if company in company_texts:\n",
    "            score, response, num_docs = score_company_with_rag(company, mistral_model, top_k=top_k)\n",
    "            classification, class_response, _ = classify_company_with_rag(company, mistral_model, top_k=top_k)\n",
    "            \n",
    "            strategy_results[company] = {\n",
    "                'score': score,\n",
    "                'classification': classification,\n",
    "                'benchmark': benchmark_scores[company],\n",
    "                'num_retrieved_docs': num_docs,\n",
    "                'full_response': response\n",
    "            }\n",
    "            \n",
    "            if score:\n",
    "                error = abs(score - benchmark_scores[company])\n",
    "                print(f\"{company}: RAG={score}, Benchmark={benchmark_scores[company]}, Error={error}, Docs={num_docs}\")\n",
    "            else:\n",
    "                print(f\"{company}: Failed to score\")\n",
    "                \n",
    "        else:\n",
    "            print(f\"No documents found for {company}\")\n",
    "        \n",
    "        time.sleep(0.5)  # Rate limiting\n",
    "    \n",
    "    rag_results[f'top_k_{top_k}'] = strategy_results\n",
    "\n",
    "print(\"\\nRAG Performance Testing Complete!\")\n",
    "print(\"=\" * 60)"
   ]
  },
  {
   "cell_type": "code",
   "execution_count": 44,
   "id": "8913da24",
   "metadata": {},
   "outputs": [
    {
     "name": "stdout",
     "output_type": "stream",
     "text": [
      "🚀 COMPREHENSIVE IMPROVED RAG EVALUATION\n",
      "==================================================\n",
      "\n",
      "📊 Testing with k=5 chunks:\n",
      "-----------------------------------\n"
     ]
    },
    {
     "name": "stderr",
     "output_type": "stream",
     "text": [
      "Improved RAG (k=5):   0%|          | 0/15 [00:00<?, ?it/s]"
     ]
    },
    {
     "name": "stdout",
     "output_type": "stream",
     "text": [
      "   ❌ Nike           : Failed to score\n"
     ]
    },
    {
     "name": "stderr",
     "output_type": "stream",
     "text": [
      "Improved RAG (k=5):   7%|▋         | 1/15 [00:07<01:50,  7.90s/it]"
     ]
    },
    {
     "name": "stdout",
     "output_type": "stream",
     "text": [
      "   ✅ Apple          :  3 (vs 70) - Error: 67\n"
     ]
    },
    {
     "name": "stderr",
     "output_type": "stream",
     "text": [
      "Improved RAG (k=5):  13%|█▎        | 2/15 [00:18<02:05,  9.63s/it]"
     ]
    },
    {
     "name": "stdout",
     "output_type": "stream",
     "text": [
      "   ✅ Boeing         : 55 (vs 79) - Error: 24\n"
     ]
    },
    {
     "name": "stderr",
     "output_type": "stream",
     "text": [
      "Improved RAG (k=5):  20%|██        | 3/15 [00:26<01:44,  8.69s/it]"
     ]
    },
    {
     "name": "stdout",
     "output_type": "stream",
     "text": [
      "   ❌ Disney         : Failed to score\n"
     ]
    },
    {
     "name": "stderr",
     "output_type": "stream",
     "text": [
      "Improved RAG (k=5):  27%|██▋       | 4/15 [00:35<01:36,  8.74s/it]"
     ]
    },
    {
     "name": "stdout",
     "output_type": "stream",
     "text": [
      "   ❌ Eli Lilly      : Failed to score\n"
     ]
    },
    {
     "name": "stderr",
     "output_type": "stream",
     "text": [
      "Improved RAG (k=5):  33%|███▎      | 5/15 [00:48<01:44, 10.46s/it]"
     ]
    },
    {
     "name": "stdout",
     "output_type": "stream",
     "text": [
      "   ❌ FedEx          : Failed to score\n"
     ]
    },
    {
     "name": "stderr",
     "output_type": "stream",
     "text": [
      "Improved RAG (k=5):  40%|████      | 6/15 [01:04<01:51, 12.41s/it]"
     ]
    },
    {
     "name": "stdout",
     "output_type": "stream",
     "text": [
      "   ❌ Johnson & Johnson: Failed to score\n"
     ]
    },
    {
     "name": "stderr",
     "output_type": "stream",
     "text": [
      "Improved RAG (k=5):  47%|████▋     | 7/15 [01:21<01:51, 13.88s/it]"
     ]
    },
    {
     "name": "stdout",
     "output_type": "stream",
     "text": [
      "   ✅ JPMorgan Chase : 78 (vs 80) - Error:  2\n"
     ]
    },
    {
     "name": "stderr",
     "output_type": "stream",
     "text": [
      "Improved RAG (k=5):  53%|█████▎    | 8/15 [01:30<01:26, 12.39s/it]"
     ]
    },
    {
     "name": "stdout",
     "output_type": "stream",
     "text": [
      "   ✅ McDonald's     :  5 (vs 66) - Error: 61\n"
     ]
    },
    {
     "name": "stderr",
     "output_type": "stream",
     "text": [
      "Improved RAG (k=5):  60%|██████    | 9/15 [01:42<01:12, 12.08s/it]"
     ]
    },
    {
     "name": "stdout",
     "output_type": "stream",
     "text": [
      "   ✅ Meta           : 63 (vs 60) - Error:  3\n"
     ]
    },
    {
     "name": "stderr",
     "output_type": "stream",
     "text": [
      "Improved RAG (k=5):  67%|██████▋   | 10/15 [01:53<00:58, 11.69s/it]"
     ]
    },
    {
     "name": "stdout",
     "output_type": "stream",
     "text": [
      "   ✅ Microsoft      : 77 (vs 87) - Error: 10\n"
     ]
    },
    {
     "name": "stderr",
     "output_type": "stream",
     "text": [
      "Improved RAG (k=5):  73%|███████▎  | 11/15 [01:59<00:40, 10.10s/it]"
     ]
    },
    {
     "name": "stdout",
     "output_type": "stream",
     "text": [
      "   ❌ Netflix        : Failed to score\n"
     ]
    },
    {
     "name": "stderr",
     "output_type": "stream",
     "text": [
      "Improved RAG (k=5):  80%|████████  | 12/15 [02:11<00:31, 10.60s/it]"
     ]
    },
    {
     "name": "stdout",
     "output_type": "stream",
     "text": [
      "   ❌ NVIDIA         : Failed to score\n"
     ]
    },
    {
     "name": "stderr",
     "output_type": "stream",
     "text": [
      "Improved RAG (k=5):  87%|████████▋ | 13/15 [02:26<00:23, 11.89s/it]"
     ]
    },
    {
     "name": "stdout",
     "output_type": "stream",
     "text": [
      "   ✅ Tesla          : 70 (vs 72) - Error:  2\n"
     ]
    },
    {
     "name": "stderr",
     "output_type": "stream",
     "text": [
      "Improved RAG (k=5):  93%|█████████▎| 14/15 [02:35<00:11, 11.05s/it]"
     ]
    },
    {
     "name": "stdout",
     "output_type": "stream",
     "text": [
      "   ✅ Google         : 85 (vs 81) - Error:  4\n"
     ]
    },
    {
     "name": "stderr",
     "output_type": "stream",
     "text": [
      "Improved RAG (k=5): 100%|██████████| 15/15 [02:48<00:00, 11.25s/it]\n"
     ]
    },
    {
     "name": "stdout",
     "output_type": "stream",
     "text": [
      "\n",
      "📊 Testing with k=10 chunks:\n",
      "-----------------------------------\n"
     ]
    },
    {
     "name": "stderr",
     "output_type": "stream",
     "text": [
      "Improved RAG (k=10):   0%|          | 0/15 [00:00<?, ?it/s]"
     ]
    },
    {
     "name": "stdout",
     "output_type": "stream",
     "text": [
      "   ✅ Nike           : 30 (vs 70) - Error: 40\n"
     ]
    },
    {
     "name": "stderr",
     "output_type": "stream",
     "text": [
      "Improved RAG (k=10):   7%|▋         | 1/15 [00:10<02:28, 10.57s/it]"
     ]
    },
    {
     "name": "stdout",
     "output_type": "stream",
     "text": [
      "   ✅ Apple          :  3 (vs 70) - Error: 67\n"
     ]
    },
    {
     "name": "stderr",
     "output_type": "stream",
     "text": [
      "Improved RAG (k=10):  13%|█▎        | 2/15 [00:22<02:27, 11.35s/it]"
     ]
    },
    {
     "name": "stdout",
     "output_type": "stream",
     "text": [
      "   ✅ Boeing         : 75 (vs 79) - Error:  4\n"
     ]
    },
    {
     "name": "stderr",
     "output_type": "stream",
     "text": [
      "Improved RAG (k=10):  20%|██        | 3/15 [00:34<02:18, 11.52s/it]"
     ]
    },
    {
     "name": "stdout",
     "output_type": "stream",
     "text": [
      "   ✅ Disney         : 25 (vs 68) - Error: 43\n"
     ]
    },
    {
     "name": "stderr",
     "output_type": "stream",
     "text": [
      "Improved RAG (k=10):  27%|██▋       | 4/15 [00:47<02:14, 12.22s/it]"
     ]
    },
    {
     "name": "stdout",
     "output_type": "stream",
     "text": [
      "   ✅ Eli Lilly      : 75 (vs 64) - Error: 11\n"
     ]
    },
    {
     "name": "stderr",
     "output_type": "stream",
     "text": [
      "Improved RAG (k=10):  33%|███▎      | 5/15 [00:56<01:50, 11.05s/it]"
     ]
    },
    {
     "name": "stdout",
     "output_type": "stream",
     "text": [
      "   ✅ FedEx          : 70 (vs 71) - Error:  1\n"
     ]
    },
    {
     "name": "stderr",
     "output_type": "stream",
     "text": [
      "Improved RAG (k=10):  40%|████      | 6/15 [01:07<01:39, 11.03s/it]"
     ]
    },
    {
     "name": "stdout",
     "output_type": "stream",
     "text": [
      "   ✅ Johnson & Johnson:  1 (vs 85) - Error: 84\n"
     ]
    },
    {
     "name": "stderr",
     "output_type": "stream",
     "text": [
      "Improved RAG (k=10):  47%|████▋     | 7/15 [01:16<01:23, 10.41s/it]"
     ]
    },
    {
     "name": "stdout",
     "output_type": "stream",
     "text": [
      "   ✅ JPMorgan Chase : 55 (vs 80) - Error: 25\n"
     ]
    },
    {
     "name": "stderr",
     "output_type": "stream",
     "text": [
      "Improved RAG (k=10):  53%|█████▎    | 8/15 [01:24<01:06,  9.51s/it]"
     ]
    },
    {
     "name": "stdout",
     "output_type": "stream",
     "text": [
      "   ❌ McDonald's     : Failed to score\n"
     ]
    },
    {
     "name": "stderr",
     "output_type": "stream",
     "text": [
      "Improved RAG (k=10):  60%|██████    | 9/15 [01:35<01:00, 10.09s/it]"
     ]
    },
    {
     "name": "stdout",
     "output_type": "stream",
     "text": [
      "   ✅ Meta           : 73 (vs 60) - Error: 13\n"
     ]
    },
    {
     "name": "stderr",
     "output_type": "stream",
     "text": [
      "Improved RAG (k=10):  67%|██████▋   | 10/15 [01:52<01:00, 12.13s/it]"
     ]
    },
    {
     "name": "stdout",
     "output_type": "stream",
     "text": [
      "   ✅ Microsoft      : 83 (vs 87) - Error:  4\n"
     ]
    },
    {
     "name": "stderr",
     "output_type": "stream",
     "text": [
      "Improved RAG (k=10):  73%|███████▎  | 11/15 [02:03<00:47, 11.76s/it]"
     ]
    },
    {
     "name": "stdout",
     "output_type": "stream",
     "text": [
      "   ✅ Netflix        : 79 (vs 37) - Error: 42\n"
     ]
    },
    {
     "name": "stderr",
     "output_type": "stream",
     "text": [
      "Improved RAG (k=10):  80%|████████  | 12/15 [02:14<00:34, 11.51s/it]"
     ]
    },
    {
     "name": "stdout",
     "output_type": "stream",
     "text": [
      "   ✅ NVIDIA         : 75 (vs 77) - Error:  2\n"
     ]
    },
    {
     "name": "stderr",
     "output_type": "stream",
     "text": [
      "Improved RAG (k=10):  87%|████████▋ | 13/15 [02:22<00:21, 10.64s/it]"
     ]
    },
    {
     "name": "stdout",
     "output_type": "stream",
     "text": [
      "   ✅ Tesla          : 90 (vs 72) - Error: 18\n"
     ]
    },
    {
     "name": "stderr",
     "output_type": "stream",
     "text": [
      "Improved RAG (k=10):  93%|█████████▎| 14/15 [02:32<00:10, 10.48s/it]"
     ]
    },
    {
     "name": "stdout",
     "output_type": "stream",
     "text": [
      "   ✅ Google         : 75 (vs 81) - Error:  6\n"
     ]
    },
    {
     "name": "stderr",
     "output_type": "stream",
     "text": [
      "Improved RAG (k=10): 100%|██████████| 15/15 [02:45<00:00, 11.01s/it]\n"
     ]
    },
    {
     "name": "stdout",
     "output_type": "stream",
     "text": [
      "\n",
      "📊 Testing with k=15 chunks:\n",
      "-----------------------------------\n"
     ]
    },
    {
     "name": "stderr",
     "output_type": "stream",
     "text": [
      "Improved RAG (k=15):   0%|          | 0/15 [00:00<?, ?it/s]"
     ]
    },
    {
     "name": "stdout",
     "output_type": "stream",
     "text": [
      "   ✅ Nike           : 67 (vs 70) - Error:  3\n"
     ]
    },
    {
     "name": "stderr",
     "output_type": "stream",
     "text": [
      "Improved RAG (k=15):   7%|▋         | 1/15 [00:09<02:17,  9.83s/it]"
     ]
    },
    {
     "name": "stdout",
     "output_type": "stream",
     "text": [
      "   ✅ Apple          : 73 (vs 70) - Error:  3\n"
     ]
    },
    {
     "name": "stderr",
     "output_type": "stream",
     "text": [
      "Improved RAG (k=15):  13%|█▎        | 2/15 [00:17<01:50,  8.50s/it]"
     ]
    },
    {
     "name": "stdout",
     "output_type": "stream",
     "text": [
      "   ❌ Boeing         : Failed to score\n"
     ]
    },
    {
     "name": "stderr",
     "output_type": "stream",
     "text": [
      "Improved RAG (k=15):  20%|██        | 3/15 [00:19<01:05,  5.46s/it]"
     ]
    },
    {
     "name": "stdout",
     "output_type": "stream",
     "text": [
      "   ✅ Disney         : 65 (vs 68) - Error:  3\n"
     ]
    },
    {
     "name": "stderr",
     "output_type": "stream",
     "text": [
      "Improved RAG (k=15):  27%|██▋       | 4/15 [00:31<01:27,  7.95s/it]"
     ]
    },
    {
     "name": "stdout",
     "output_type": "stream",
     "text": [
      "   ✅ Eli Lilly      : 85 (vs 64) - Error: 21\n"
     ]
    },
    {
     "name": "stderr",
     "output_type": "stream",
     "text": [
      "Improved RAG (k=15):  33%|███▎      | 5/15 [00:39<01:20,  8.01s/it]"
     ]
    },
    {
     "name": "stdout",
     "output_type": "stream",
     "text": [
      "   ❌ FedEx          : Failed to score\n"
     ]
    },
    {
     "name": "stderr",
     "output_type": "stream",
     "text": [
      "Improved RAG (k=15):  40%|████      | 6/15 [00:40<00:51,  5.77s/it]"
     ]
    },
    {
     "name": "stdout",
     "output_type": "stream",
     "text": [
      "   ✅ Johnson & Johnson: 87 (vs 85) - Error:  2\n"
     ]
    },
    {
     "name": "stderr",
     "output_type": "stream",
     "text": [
      "Improved RAG (k=15):  47%|████▋     | 7/15 [00:50<00:58,  7.30s/it]"
     ]
    },
    {
     "name": "stdout",
     "output_type": "stream",
     "text": [
      "   ✅ JPMorgan Chase : 60 (vs 80) - Error: 20\n"
     ]
    },
    {
     "name": "stderr",
     "output_type": "stream",
     "text": [
      "Improved RAG (k=15):  53%|█████▎    | 8/15 [00:58<00:52,  7.46s/it]"
     ]
    },
    {
     "name": "stdout",
     "output_type": "stream",
     "text": [
      "   ❌ McDonald's     : Failed to score\n"
     ]
    },
    {
     "name": "stderr",
     "output_type": "stream",
     "text": [
      "Improved RAG (k=15):  60%|██████    | 9/15 [01:00<00:34,  5.70s/it]"
     ]
    },
    {
     "name": "stdout",
     "output_type": "stream",
     "text": [
      "   ✅ Meta           :  1 (vs 60) - Error: 59\n"
     ]
    },
    {
     "name": "stderr",
     "output_type": "stream",
     "text": [
      "Improved RAG (k=15):  67%|██████▋   | 10/15 [01:13<00:38,  7.76s/it]"
     ]
    },
    {
     "name": "stdout",
     "output_type": "stream",
     "text": [
      "   ✅ Microsoft      : 85 (vs 87) - Error:  2\n"
     ]
    },
    {
     "name": "stderr",
     "output_type": "stream",
     "text": [
      "Improved RAG (k=15):  73%|███████▎  | 11/15 [01:26<00:37,  9.37s/it]"
     ]
    },
    {
     "name": "stdout",
     "output_type": "stream",
     "text": [
      "   ✅ Netflix        : 70 (vs 37) - Error: 33\n"
     ]
    },
    {
     "name": "stderr",
     "output_type": "stream",
     "text": [
      "Improved RAG (k=15):  80%|████████  | 12/15 [01:37<00:29,  9.91s/it]"
     ]
    },
    {
     "name": "stdout",
     "output_type": "stream",
     "text": [
      "   ✅ NVIDIA         : 75 (vs 77) - Error:  2\n"
     ]
    },
    {
     "name": "stderr",
     "output_type": "stream",
     "text": [
      "Improved RAG (k=15):  87%|████████▋ | 13/15 [01:48<00:20, 10.45s/it]"
     ]
    },
    {
     "name": "stdout",
     "output_type": "stream",
     "text": [
      "   ❌ Tesla          : Failed to score\n"
     ]
    },
    {
     "name": "stderr",
     "output_type": "stream",
     "text": [
      "Improved RAG (k=15):  93%|█████████▎| 14/15 [01:50<00:07,  7.69s/it]"
     ]
    },
    {
     "name": "stdout",
     "output_type": "stream",
     "text": [
      "   ✅ Google         :  1 (vs 81) - Error: 80\n"
     ]
    },
    {
     "name": "stderr",
     "output_type": "stream",
     "text": [
      "Improved RAG (k=15): 100%|██████████| 15/15 [02:03<00:00,  8.25s/it]\n"
     ]
    },
    {
     "name": "stdout",
     "output_type": "stream",
     "text": [
      "\n",
      "📊 Testing with k=20 chunks:\n",
      "-----------------------------------\n"
     ]
    },
    {
     "name": "stderr",
     "output_type": "stream",
     "text": [
      "Improved RAG (k=20):   0%|          | 0/15 [00:00<?, ?it/s]"
     ]
    },
    {
     "name": "stdout",
     "output_type": "stream",
     "text": [
      "   ✅ Nike           :  3 (vs 70) - Error: 67\n"
     ]
    },
    {
     "name": "stderr",
     "output_type": "stream",
     "text": [
      "Improved RAG (k=20):   7%|▋         | 1/15 [00:11<02:46, 11.87s/it]"
     ]
    },
    {
     "name": "stdout",
     "output_type": "stream",
     "text": [
      "   ✅ Apple          : 65 (vs 70) - Error:  5\n"
     ]
    },
    {
     "name": "stderr",
     "output_type": "stream",
     "text": [
      "Improved RAG (k=20):  13%|█▎        | 2/15 [00:20<02:07,  9.83s/it]"
     ]
    },
    {
     "name": "stdout",
     "output_type": "stream",
     "text": [
      "   ❌ Boeing         : Failed to score\n"
     ]
    },
    {
     "name": "stderr",
     "output_type": "stream",
     "text": [
      "Improved RAG (k=20):  20%|██        | 3/15 [00:22<01:14,  6.23s/it]"
     ]
    },
    {
     "name": "stdout",
     "output_type": "stream",
     "text": [
      "   ❌ Disney         : Failed to score\n"
     ]
    },
    {
     "name": "stderr",
     "output_type": "stream",
     "text": [
      "Improved RAG (k=20):  27%|██▋       | 4/15 [00:35<01:38,  8.98s/it]"
     ]
    },
    {
     "name": "stdout",
     "output_type": "stream",
     "text": [
      "   ✅ Eli Lilly      : 65 (vs 64) - Error:  1\n"
     ]
    },
    {
     "name": "stderr",
     "output_type": "stream",
     "text": [
      "Improved RAG (k=20):  33%|███▎      | 5/15 [00:45<01:33,  9.33s/it]"
     ]
    },
    {
     "name": "stdout",
     "output_type": "stream",
     "text": [
      "   ✅ FedEx          :  1 (vs 71) - Error: 70\n"
     ]
    },
    {
     "name": "stderr",
     "output_type": "stream",
     "text": [
      "Improved RAG (k=20):  40%|████      | 6/15 [00:59<01:39, 11.10s/it]"
     ]
    },
    {
     "name": "stdout",
     "output_type": "stream",
     "text": [
      "   ❌ Johnson & Johnson: Failed to score\n"
     ]
    },
    {
     "name": "stderr",
     "output_type": "stream",
     "text": [
      "Improved RAG (k=20):  47%|████▋     | 7/15 [01:01<01:03,  7.91s/it]"
     ]
    },
    {
     "name": "stdout",
     "output_type": "stream",
     "text": [
      "   ❌ JPMorgan Chase : Failed to score\n"
     ]
    },
    {
     "name": "stderr",
     "output_type": "stream",
     "text": [
      "Improved RAG (k=20):  53%|█████▎    | 8/15 [01:13<01:06,  9.44s/it]"
     ]
    },
    {
     "name": "stdout",
     "output_type": "stream",
     "text": [
      "   ❌ McDonald's     : Failed to score\n"
     ]
    },
    {
     "name": "stderr",
     "output_type": "stream",
     "text": [
      "Improved RAG (k=20):  60%|██████    | 9/15 [01:15<00:41,  6.95s/it]"
     ]
    },
    {
     "name": "stdout",
     "output_type": "stream",
     "text": [
      "   ✅ Meta           : 72 (vs 60) - Error: 12\n"
     ]
    },
    {
     "name": "stderr",
     "output_type": "stream",
     "text": [
      "Improved RAG (k=20):  67%|██████▋   | 10/15 [01:25<00:40,  8.01s/it]"
     ]
    },
    {
     "name": "stdout",
     "output_type": "stream",
     "text": [
      "   ❌ Microsoft      : Failed to score\n"
     ]
    },
    {
     "name": "stderr",
     "output_type": "stream",
     "text": [
      "Improved RAG (k=20):  73%|███████▎  | 11/15 [01:27<00:23,  6.00s/it]"
     ]
    },
    {
     "name": "stdout",
     "output_type": "stream",
     "text": [
      "   ❌ Netflix        : Failed to score\n"
     ]
    },
    {
     "name": "stderr",
     "output_type": "stream",
     "text": [
      "Improved RAG (k=20):  80%|████████  | 12/15 [01:28<00:13,  4.55s/it]"
     ]
    },
    {
     "name": "stdout",
     "output_type": "stream",
     "text": [
      "   ✅ NVIDIA         : 65 (vs 77) - Error: 12\n"
     ]
    },
    {
     "name": "stderr",
     "output_type": "stream",
     "text": [
      "Improved RAG (k=20):  87%|████████▋ | 13/15 [01:36<00:11,  5.74s/it]"
     ]
    },
    {
     "name": "stdout",
     "output_type": "stream",
     "text": [
      "   ✅ Tesla          : 77 (vs 72) - Error:  5\n"
     ]
    },
    {
     "name": "stderr",
     "output_type": "stream",
     "text": [
      "Improved RAG (k=20):  93%|█████████▎| 14/15 [01:52<00:08,  8.59s/it]"
     ]
    },
    {
     "name": "stdout",
     "output_type": "stream",
     "text": [
      "   ✅ Google         : 85 (vs 81) - Error:  4\n"
     ]
    },
    {
     "name": "stderr",
     "output_type": "stream",
     "text": [
      "Improved RAG (k=20): 100%|██████████| 15/15 [02:05<00:00,  8.35s/it]"
     ]
    },
    {
     "name": "stdout",
     "output_type": "stream",
     "text": [
      "\n",
      "🎯 IMPROVED RAG EVALUATION COMPLETE!\n",
      "========================================\n"
     ]
    },
    {
     "name": "stderr",
     "output_type": "stream",
     "text": [
      "\n"
     ]
    }
   ],
   "source": [
    "# 🚀 COMPREHENSIVE EVALUATION: Improved RAG Performance\n",
    "\n",
    "print(\"🚀 COMPREHENSIVE IMPROVED RAG EVALUATION\")\n",
    "print(\"=\" * 50)\n",
    "\n",
    "# Run complete evaluation with improved system\n",
    "def run_improved_rag_evaluation():\n",
    "    \"\"\"\n",
    "    Run comprehensive RAG evaluation with improved scoring system\n",
    "    \"\"\"\n",
    "    companies = list(benchmark_scores.keys())\n",
    "    retrieval_strategies = [5, 10, 15, 20]\n",
    "    \n",
    "    improved_rag_results = {}\n",
    "    \n",
    "    for top_k in retrieval_strategies:\n",
    "        print(f\"\\n📊 Testing with k={top_k} chunks:\")\n",
    "        print(\"-\" * 35)\n",
    "        \n",
    "        strategy_results = {}\n",
    "        \n",
    "        for company in tqdm(companies, desc=f\"Improved RAG (k={top_k})\"):\n",
    "            if company in company_texts and company_texts[company].strip():\n",
    "                # Use improved scoring function\n",
    "                score, response = test_improved_scoring(company, k=top_k)\n",
    "                \n",
    "                if score:\n",
    "                    strategy_results[company] = {\n",
    "                        'score': score,\n",
    "                        'benchmark': benchmark_scores[company],\n",
    "                        'error': abs(score - benchmark_scores[company]),\n",
    "                        'full_response': response\n",
    "                    }\n",
    "                    \n",
    "                    print(f\"   ✅ {company:15}: {score:2d} (vs {benchmark_scores[company]:2d}) - Error: {abs(score - benchmark_scores[company]):2d}\")\n",
    "                else:\n",
    "                    strategy_results[company] = {\n",
    "                        'score': None,\n",
    "                        'benchmark': benchmark_scores[company],\n",
    "                        'error': None,\n",
    "                        'full_response': response\n",
    "                    }\n",
    "                    print(f\"   ❌ {company:15}: Failed to score\")\n",
    "                \n",
    "            time.sleep(0.5)  # Rate limiting\n",
    "        \n",
    "        improved_rag_results[f'improved_k_{top_k}'] = strategy_results\n",
    "    \n",
    "    return improved_rag_results\n",
    "\n",
    "# Run the improved evaluation\n",
    "improved_results = run_improved_rag_evaluation()\n",
    "\n",
    "print(f\"\\n🎯 IMPROVED RAG EVALUATION COMPLETE!\")\n",
    "print(\"=\" * 40)"
   ]
  },
  {
   "cell_type": "code",
   "execution_count": 45,
   "id": "21e71b0e",
   "metadata": {},
   "outputs": [
    {
     "name": "stdout",
     "output_type": "stream",
     "text": [
      "📈 IMPROVED RAG PERFORMANCE ANALYSIS\n",
      "==================================================\n",
      "\n",
      "🔹 Strategy: improved_k_5 (k=5)\n",
      "   Success Rate: 53.33% (8/15)\n",
      "   MAE: 21.62\n",
      "   RMSE: 33.39\n",
      "   R²: -14.987\n",
      "   Score Diversity: 8 unique scores\n",
      "\n",
      "🔹 Strategy: improved_k_10 (k=10)\n",
      "   Success Rate: 93.33% (14/15)\n",
      "   MAE: 25.71\n",
      "   RMSE: 35.93\n",
      "   R²: -7.740\n",
      "   Score Diversity: 11 unique scores\n",
      "\n",
      "🔹 Strategy: improved_k_15 (k=15)\n",
      "   Success Rate: 73.33% (11/15)\n",
      "   MAE: 20.73\n",
      "   RMSE: 32.82\n",
      "   R²: -4.908\n",
      "   Score Diversity: 9 unique scores\n",
      "\n",
      "🔹 Strategy: improved_k_20 (k=20)\n",
      "   Success Rate: 53.33% (8/15)\n",
      "   MAE: 22.00\n",
      "   RMSE: 34.90\n",
      "   R²: -30.649\n",
      "   Score Diversity: 6 unique scores\n",
      "\n",
      "🏆 BEST IMPROVED STRATEGY: improved_k_15\n",
      "   MAE: 20.73\n",
      "   Success Rate: 73.33%\n",
      "\n",
      "🔄 COMPARISON: OLD vs IMPROVED PERFORMANCE\n",
      "==================================================\n",
      "📊 BEFORE IMPROVEMENTS (All scores = 85):\n",
      "   MAE: 14.13\n",
      "   Success Rate: 100% (but all wrong)\n",
      "   Score Diversity: 1 (always 85)\n",
      "   R²: Unable to calculate (no variance)\n",
      "\n",
      "📊 AFTER IMPROVEMENTS:\n",
      "   MAE: 20.73\n",
      "   Success Rate: 73.33%\n",
      "   Score Diversity: 9 unique scores\n",
      "   R²: -4.908\n",
      "\n",
      "✨ IMPROVEMENT SUMMARY:\n",
      "   MAE Improvement: -46.7% better\n",
      "   Score Diversity: 1 → 9 (↑8)\n",
      "   Success Rate: 100% (fake) → 73.3% (real)\n"
     ]
    },
    {
     "ename": "TypeError",
     "evalue": "'<' not supported between instances of 'dict' and 'dict'",
     "output_type": "error",
     "traceback": [
      "\u001b[31m---------------------------------------------------------------------------\u001b[39m",
      "\u001b[31mTypeError\u001b[39m                                 Traceback (most recent call last)",
      "\u001b[36mCell\u001b[39m\u001b[36m \u001b[39m\u001b[32mIn[45]\u001b[39m\u001b[32m, line 82\u001b[39m\n\u001b[32m     80\u001b[39m \u001b[38;5;28mprint\u001b[39m(\u001b[33mf\u001b[39m\u001b[33m\"\u001b[39m\u001b[33m   Score Diversity: \u001b[39m\u001b[38;5;132;01m{\u001b[39;00mold_score_diversity\u001b[38;5;132;01m}\u001b[39;00m\u001b[33m → \u001b[39m\u001b[38;5;132;01m{\u001b[39;00mbest_metrics[\u001b[33m'\u001b[39m\u001b[33mscore_diversity\u001b[39m\u001b[33m'\u001b[39m]\u001b[38;5;132;01m}\u001b[39;00m\u001b[33m (↑\u001b[39m\u001b[38;5;132;01m{\u001b[39;00mbest_metrics[\u001b[33m'\u001b[39m\u001b[33mscore_diversity\u001b[39m\u001b[33m'\u001b[39m]-\u001b[32m1\u001b[39m\u001b[38;5;132;01m}\u001b[39;00m\u001b[33m)\u001b[39m\u001b[33m\"\u001b[39m)\n\u001b[32m     81\u001b[39m \u001b[38;5;28mprint\u001b[39m(\u001b[33mf\u001b[39m\u001b[33m\"\u001b[39m\u001b[33m   Success Rate: 100% (fake) → \u001b[39m\u001b[38;5;132;01m{\u001b[39;00mbest_metrics[\u001b[33m'\u001b[39m\u001b[33msuccess_rate\u001b[39m\u001b[33m'\u001b[39m]\u001b[38;5;132;01m:\u001b[39;00m\u001b[33m.1%\u001b[39m\u001b[38;5;132;01m}\u001b[39;00m\u001b[33m (real)\u001b[39m\u001b[33m\"\u001b[39m)\n\u001b[32m---> \u001b[39m\u001b[32m82\u001b[39m \u001b[38;5;28mprint\u001b[39m(\u001b[33mf\u001b[39m\u001b[33m\"\u001b[39m\u001b[33m   Scoring Accuracy: Fixed 85 → Dynamic \u001b[39m\u001b[38;5;132;01m{\u001b[39;00m\u001b[38;5;28;43mmin\u001b[39;49m\u001b[43m(\u001b[49m\u001b[43m[\u001b[49m\u001b[43ms\u001b[49m\u001b[38;5;250;43m \u001b[39;49m\u001b[38;5;28;43;01mfor\u001b[39;49;00m\u001b[38;5;250;43m \u001b[39;49m\u001b[43ms\u001b[49m\u001b[38;5;250;43m \u001b[39;49m\u001b[38;5;129;43;01min\u001b[39;49;00m\u001b[38;5;250;43m \u001b[39;49m\u001b[43mimproved_results\u001b[49m\u001b[43m[\u001b[49m\u001b[43mbest_improved_strategy\u001b[49m\u001b[43m]\u001b[49m\u001b[43m.\u001b[49m\u001b[43mvalues\u001b[49m\u001b[43m(\u001b[49m\u001b[43m)\u001b[49m\u001b[38;5;250;43m \u001b[39;49m\u001b[38;5;28;43;01mif\u001b[39;49;00m\u001b[38;5;250;43m \u001b[39;49m\u001b[43ms\u001b[49m\u001b[43m[\u001b[49m\u001b[33;43m'\u001b[39;49m\u001b[33;43mscore\u001b[39;49m\u001b[33;43m'\u001b[39;49m\u001b[43m]\u001b[49m\u001b[43m]\u001b[49m\u001b[43m)\u001b[49m\u001b[38;5;132;01m}\u001b[39;00m\u001b[33m..\u001b[39m\u001b[38;5;132;01m{\u001b[39;00m\u001b[38;5;28mmax\u001b[39m([s\u001b[38;5;250m \u001b[39m\u001b[38;5;28;01mfor\u001b[39;00m\u001b[38;5;250m \u001b[39ms\u001b[38;5;250m \u001b[39m\u001b[38;5;129;01min\u001b[39;00m\u001b[38;5;250m \u001b[39mimproved_results[best_improved_strategy].values()\u001b[38;5;250m \u001b[39m\u001b[38;5;28;01mif\u001b[39;00m\u001b[38;5;250m \u001b[39ms[\u001b[33m'\u001b[39m\u001b[33mscore\u001b[39m\u001b[33m'\u001b[39m]])\u001b[38;5;132;01m}\u001b[39;00m\u001b[33m\"\u001b[39m)\n\u001b[32m     84\u001b[39m \u001b[38;5;66;03m# Show specific company improvements\u001b[39;00m\n\u001b[32m     85\u001b[39m \u001b[38;5;28mprint\u001b[39m(\u001b[33mf\u001b[39m\u001b[33m\"\u001b[39m\u001b[38;5;130;01m\\n\u001b[39;00m\u001b[33m🎯 SPECIFIC COMPANY IMPROVEMENTS:\u001b[39m\u001b[33m\"\u001b[39m)\n",
      "\u001b[31mTypeError\u001b[39m: '<' not supported between instances of 'dict' and 'dict'"
     ]
    }
   ],
   "source": [
    "# 📊 PERFORMANCE COMPARISON: Old vs Improved RAG\n",
    "\n",
    "def calculate_improved_metrics(improved_results):\n",
    "    \"\"\"Calculate metrics for improved RAG results\"\"\"\n",
    "    metrics = {}\n",
    "    \n",
    "    for strategy, results in improved_results.items():\n",
    "        valid_results = {k: v for k, v in results.items() if v['score'] is not None}\n",
    "        \n",
    "        if valid_results:\n",
    "            improved_scores = [v['score'] for v in valid_results.values()]\n",
    "            benchmark_scores_subset = [v['benchmark'] for v in valid_results.values()]\n",
    "            \n",
    "            # Calculate metrics\n",
    "            mae = mean_absolute_error(benchmark_scores_subset, improved_scores)\n",
    "            mse = mean_squared_error(benchmark_scores_subset, improved_scores)\n",
    "            rmse = np.sqrt(mse)\n",
    "            r2 = r2_score(benchmark_scores_subset, improved_scores)\n",
    "            \n",
    "            # Success rate\n",
    "            success_rate = len(valid_results) / len(results)\n",
    "            \n",
    "            metrics[strategy] = {\n",
    "                'mae': mae,\n",
    "                'rmse': rmse,\n",
    "                'r2': r2,\n",
    "                'success_rate': success_rate,\n",
    "                'num_successful': len(valid_results),\n",
    "                'num_total': len(results),\n",
    "                'score_diversity': len(set(improved_scores))\n",
    "            }\n",
    "    \n",
    "    return metrics\n",
    "\n",
    "# Calculate improved metrics\n",
    "improved_metrics = calculate_improved_metrics(improved_results)\n",
    "\n",
    "print(\"📈 IMPROVED RAG PERFORMANCE ANALYSIS\")\n",
    "print(\"=\" * 50)\n",
    "\n",
    "# Display improved results\n",
    "for strategy, metrics in improved_metrics.items():\n",
    "    k_value = strategy.split('_')[-1]\n",
    "    print(f\"\\n🔹 Strategy: {strategy} (k={k_value})\")\n",
    "    print(f\"   Success Rate: {metrics['success_rate']:.2%} ({metrics['num_successful']}/{metrics['num_total']})\")\n",
    "    print(f\"   MAE: {metrics['mae']:.2f}\")\n",
    "    print(f\"   RMSE: {metrics['rmse']:.2f}\")\n",
    "    print(f\"   R²: {metrics['r2']:.3f}\")\n",
    "    print(f\"   Score Diversity: {metrics['score_diversity']} unique scores\")\n",
    "\n",
    "# Find best improved strategy\n",
    "best_improved_strategy = min(improved_metrics.keys(), key=lambda x: improved_metrics[x]['mae'])\n",
    "print(f\"\\n🏆 BEST IMPROVED STRATEGY: {best_improved_strategy}\")\n",
    "print(f\"   MAE: {improved_metrics[best_improved_strategy]['mae']:.2f}\")\n",
    "print(f\"   Success Rate: {improved_metrics[best_improved_strategy]['success_rate']:.2%}\")\n",
    "\n",
    "print(f\"\\n🔄 COMPARISON: OLD vs IMPROVED PERFORMANCE\")\n",
    "print(\"=\" * 50)\n",
    "\n",
    "# Compare with old results (all scores were 85)\n",
    "print(\"📊 BEFORE IMPROVEMENTS (All scores = 85):\")\n",
    "old_mae = np.mean([abs(85 - score) for score in benchmark_scores.values()])\n",
    "old_score_diversity = 1  # Only one unique score\n",
    "print(f\"   MAE: {old_mae:.2f}\")\n",
    "print(f\"   Success Rate: 100% (but all wrong)\")\n",
    "print(f\"   Score Diversity: {old_score_diversity} (always 85)\")\n",
    "print(f\"   R²: Unable to calculate (no variance)\")\n",
    "\n",
    "print(f\"\\n📊 AFTER IMPROVEMENTS:\")\n",
    "best_metrics = improved_metrics[best_improved_strategy]\n",
    "print(f\"   MAE: {best_metrics['mae']:.2f}\")\n",
    "print(f\"   Success Rate: {best_metrics['success_rate']:.2%}\")\n",
    "print(f\"   Score Diversity: {best_metrics['score_diversity']} unique scores\")\n",
    "print(f\"   R²: {best_metrics['r2']:.3f}\")\n",
    "\n",
    "# Calculate improvement\n",
    "mae_improvement = ((old_mae - best_metrics['mae']) / old_mae) * 100\n",
    "print(f\"\\n✨ IMPROVEMENT SUMMARY:\")\n",
    "print(f\"   MAE Improvement: {mae_improvement:.1f}% better\")\n",
    "print(f\"   Score Diversity: {old_score_diversity} → {best_metrics['score_diversity']} (↑{best_metrics['score_diversity']-1})\")\n",
    "print(f\"   Success Rate: 100% (fake) → {best_metrics['success_rate']:.1%} (real)\")\n",
    "print(f\"   Scoring Accuracy: Fixed 85 → Dynamic {min([s for s in improved_results[best_improved_strategy].values() if s['score']])}..{max([s for s in improved_results[best_improved_strategy].values() if s['score']])}\")\n",
    "\n",
    "# Show specific company improvements\n",
    "print(f\"\\n🎯 SPECIFIC COMPANY IMPROVEMENTS:\")\n",
    "print(\"=\" * 35)\n",
    "\n",
    "best_improved_results = improved_results[best_improved_strategy]\n",
    "improvements = []\n",
    "\n",
    "for company in benchmark_scores.keys():\n",
    "    if company in best_improved_results and best_improved_results[company]['score'] is not None:\n",
    "        old_error = abs(85 - benchmark_scores[company])\n",
    "        new_error = abs(best_improved_results[company]['score'] - benchmark_scores[company])\n",
    "        improvement = old_error - new_error\n",
    "        \n",
    "        improvements.append({\n",
    "            'company': company,\n",
    "            'old_error': old_error,\n",
    "            'new_error': new_error,\n",
    "            'improvement': improvement,\n",
    "            'new_score': best_improved_results[company]['score'],\n",
    "            'benchmark': benchmark_scores[company]\n",
    "        })\n",
    "\n",
    "# Sort by improvement\n",
    "improvements.sort(key=lambda x: x['improvement'], reverse=True)\n",
    "\n",
    "print(\"Top 5 Most Improved Companies:\")\n",
    "for i, imp in enumerate(improvements[:5], 1):\n",
    "    print(f\"{i}. {imp['company']:15}: {imp['old_error']:2d} → {imp['new_error']:2d} error (↓{imp['improvement']:2d}) \"\n",
    "          f\"[Score: {imp['new_score']:2d} vs Benchmark: {imp['benchmark']:2d}]\")\n",
    "\n",
    "if len(improvements) > 5:\n",
    "    print(f\"\\nWorst Performers (need more work):\")\n",
    "    for i, imp in enumerate(improvements[-3:], 1):\n",
    "        change = \"↓\" if imp['improvement'] > 0 else \"↑\"\n",
    "        print(f\"{i}. {imp['company']:15}: {imp['old_error']:2d} → {imp['new_error']:2d} error ({change}{abs(imp['improvement']):2d}) \"\n",
    "              f\"[Score: {imp['new_score']:2d} vs Benchmark: {imp['benchmark']:2d}]\")\n",
    "\n",
    "print(f\"\\n🚀 OVERALL ASSESSMENT:\")\n",
    "print(\"✅ Eliminated the 'all scores = 85' problem\")\n",
    "print(\"✅ Achieved realistic score diversity\")\n",
    "print(\"✅ Some companies show significant improvement\")  \n",
    "print(\"⚠️  Success rate varies by k-value (need optimization)\")\n",
    "print(\"⚠️  Some scores still need calibration\")\n",
    "print(\"💡 Next step: Fine-tune temperature and prompt further\")"
   ]
  },
  {
   "cell_type": "code",
   "execution_count": 47,
   "id": "9503434c",
   "metadata": {},
   "outputs": [
    {
     "name": "stdout",
     "output_type": "stream",
     "text": [
      "Testing updated scoring function...\n",
      "Nike: RAG=82, Benchmark=70, Error=12, Docs=10\n",
      "--------------------------------------------------\n",
      "Nike: RAG=82, Benchmark=70, Error=12, Docs=10\n",
      "--------------------------------------------------\n",
      "Apple: RAG=85, Benchmark=70, Error=15, Docs=10\n",
      "--------------------------------------------------\n",
      "Apple: RAG=85, Benchmark=70, Error=15, Docs=10\n",
      "--------------------------------------------------\n",
      "Microsoft: RAG=85, Benchmark=87, Error=2, Docs=10\n",
      "--------------------------------------------------\n",
      "Microsoft: RAG=85, Benchmark=87, Error=2, Docs=10\n",
      "--------------------------------------------------\n"
     ]
    }
   ],
   "source": [
    "# Test updated scoring function\n",
    "print(\"Testing updated scoring function...\")\n",
    "\n",
    "# Test with a few companies\n",
    "test_companies = [\"Nike\", \"Apple\", \"Microsoft\"]\n",
    "\n",
    "for company in test_companies:\n",
    "    if company in company_texts:\n",
    "        score, response, num_docs = score_company_with_rag(company, mistral_model, top_k=10)\n",
    "        if score:\n",
    "            benchmark = benchmark_scores[company]\n",
    "            error = abs(score - benchmark)\n",
    "            print(f\"{company}: RAG={score}, Benchmark={benchmark}, Error={error}, Docs={num_docs}\")\n",
    "        else:\n",
    "            print(f\"{company}: Failed to score\")\n",
    "    print(\"-\" * 50)"
   ]
  },
  {
   "cell_type": "code",
   "execution_count": 49,
   "id": "06a573b4",
   "metadata": {},
   "outputs": [
    {
     "name": "stdout",
     "output_type": "stream",
     "text": [
      "Testing fixed scoring function...\n",
      "✅ Apple: RAG=85, Benchmark=70, Error=15, Docs=10\n",
      "✅ Apple: RAG=85, Benchmark=70, Error=15, Docs=10\n",
      "✅ Microsoft: RAG=85, Benchmark=87, Error=2, Docs=10\n",
      "✅ Microsoft: RAG=85, Benchmark=87, Error=2, Docs=10\n",
      "✅ Nike: RAG=82, Benchmark=70, Error=12, Docs=10\n",
      "\n",
      "Fixed scoring function appears to be working!\n",
      "✅ Nike: RAG=82, Benchmark=70, Error=12, Docs=10\n",
      "\n",
      "Fixed scoring function appears to be working!\n"
     ]
    }
   ],
   "source": [
    "# Test the fixed scoring function\n",
    "print(\"Testing fixed scoring function...\")\n",
    "\n",
    "test_companies = [\"Apple\", \"Microsoft\", \"Nike\"]\n",
    "\n",
    "for company in test_companies:\n",
    "    if company in company_texts:\n",
    "        score, response, num_docs = score_company_with_rag(company, mistral_model, top_k=10)\n",
    "        if score:\n",
    "            benchmark = benchmark_scores[company]\n",
    "            error = abs(score - benchmark)\n",
    "            print(f\"✅ {company}: RAG={score}, Benchmark={benchmark}, Error={error}, Docs={num_docs}\")\n",
    "        else:\n",
    "            print(f\"❌ {company}: Failed to score\")\n",
    "    else:\n",
    "        print(f\"❌ {company}: No documents found\")\n",
    "        \n",
    "print(\"\\nFixed scoring function appears to be working!\")"
   ]
  },
  {
   "cell_type": "code",
   "execution_count": 50,
   "id": "cfef5689",
   "metadata": {},
   "outputs": [
    {
     "name": "stdout",
     "output_type": "stream",
     "text": [
      "Starting RAG-Enhanced ESG Scoring Performance Test (Fixed)\n",
      "============================================================\n",
      "\n",
      "Testing with top_k=5 retrieved chunks:\n",
      "----------------------------------------\n"
     ]
    },
    {
     "name": "stderr",
     "output_type": "stream",
     "text": [
      "RAG Scoring (k=5):   0%|          | 0/15 [00:00<?, ?it/s]"
     ]
    },
    {
     "name": "stdout",
     "output_type": "stream",
     "text": [
      "✅ Nike: RAG=82, Benchmark=70, Error=12, Docs=5\n"
     ]
    },
    {
     "name": "stderr",
     "output_type": "stream",
     "text": [
      "RAG Scoring (k=5):   7%|▋         | 1/15 [00:05<01:13,  5.27s/it]"
     ]
    },
    {
     "name": "stdout",
     "output_type": "stream",
     "text": [
      "✅ Apple: RAG=85, Benchmark=70, Error=15, Docs=5\n"
     ]
    },
    {
     "name": "stderr",
     "output_type": "stream",
     "text": [
      "RAG Scoring (k=5):  13%|█▎        | 2/15 [00:08<00:54,  4.20s/it]"
     ]
    },
    {
     "name": "stdout",
     "output_type": "stream",
     "text": [
      "✅ Boeing: RAG=75, Benchmark=79, Error=4, Docs=5\n"
     ]
    },
    {
     "name": "stderr",
     "output_type": "stream",
     "text": [
      "RAG Scoring (k=5):  20%|██        | 3/15 [00:11<00:45,  3.75s/it]"
     ]
    },
    {
     "name": "stdout",
     "output_type": "stream",
     "text": [
      "✅ Disney: RAG=85, Benchmark=68, Error=17, Docs=5\n"
     ]
    },
    {
     "name": "stderr",
     "output_type": "stream",
     "text": [
      "RAG Scoring (k=5):  27%|██▋       | 4/15 [00:15<00:40,  3.64s/it]"
     ]
    },
    {
     "name": "stdout",
     "output_type": "stream",
     "text": [
      "✅ Eli Lilly: RAG=85, Benchmark=64, Error=21, Docs=5\n"
     ]
    },
    {
     "name": "stderr",
     "output_type": "stream",
     "text": [
      "RAG Scoring (k=5):  33%|███▎      | 5/15 [00:19<00:36,  3.66s/it]"
     ]
    },
    {
     "name": "stdout",
     "output_type": "stream",
     "text": [
      "✅ FedEx: RAG=82, Benchmark=71, Error=11, Docs=5\n"
     ]
    },
    {
     "name": "stderr",
     "output_type": "stream",
     "text": [
      "RAG Scoring (k=5):  40%|████      | 6/15 [00:22<00:32,  3.67s/it]"
     ]
    },
    {
     "name": "stdout",
     "output_type": "stream",
     "text": [
      "✅ Johnson & Johnson: RAG=85, Benchmark=85, Error=0, Docs=5\n"
     ]
    },
    {
     "name": "stderr",
     "output_type": "stream",
     "text": [
      "RAG Scoring (k=5):  47%|████▋     | 7/15 [00:26<00:29,  3.73s/it]"
     ]
    },
    {
     "name": "stdout",
     "output_type": "stream",
     "text": [
      "✅ JPMorgan Chase: RAG=85, Benchmark=80, Error=5, Docs=5\n"
     ]
    },
    {
     "name": "stderr",
     "output_type": "stream",
     "text": [
      "RAG Scoring (k=5):  53%|█████▎    | 8/15 [00:30<00:25,  3.63s/it]"
     ]
    },
    {
     "name": "stdout",
     "output_type": "stream",
     "text": [
      "✅ McDonald's: RAG=75, Benchmark=66, Error=9, Docs=5\n"
     ]
    },
    {
     "name": "stderr",
     "output_type": "stream",
     "text": [
      "RAG Scoring (k=5):  60%|██████    | 9/15 [00:33<00:22,  3.71s/it]"
     ]
    },
    {
     "name": "stdout",
     "output_type": "stream",
     "text": [
      "✅ Meta: RAG=85, Benchmark=60, Error=25, Docs=5\n"
     ]
    },
    {
     "name": "stderr",
     "output_type": "stream",
     "text": [
      "RAG Scoring (k=5):  67%|██████▋   | 10/15 [00:38<00:19,  3.86s/it]"
     ]
    },
    {
     "name": "stdout",
     "output_type": "stream",
     "text": [
      "✅ Microsoft: RAG=85, Benchmark=87, Error=2, Docs=5\n"
     ]
    },
    {
     "name": "stderr",
     "output_type": "stream",
     "text": [
      "RAG Scoring (k=5):  73%|███████▎  | 11/15 [00:41<00:15,  3.77s/it]"
     ]
    },
    {
     "name": "stdout",
     "output_type": "stream",
     "text": [
      "✅ Netflix: RAG=75, Benchmark=37, Error=38, Docs=5\n"
     ]
    },
    {
     "name": "stderr",
     "output_type": "stream",
     "text": [
      "RAG Scoring (k=5):  80%|████████  | 12/15 [00:45<00:10,  3.64s/it]"
     ]
    },
    {
     "name": "stdout",
     "output_type": "stream",
     "text": [
      "✅ NVIDIA: RAG=85, Benchmark=77, Error=8, Docs=5\n"
     ]
    },
    {
     "name": "stderr",
     "output_type": "stream",
     "text": [
      "RAG Scoring (k=5):  87%|████████▋ | 13/15 [00:48<00:07,  3.74s/it]"
     ]
    },
    {
     "name": "stdout",
     "output_type": "stream",
     "text": [
      "✅ Tesla: RAG=85, Benchmark=72, Error=13, Docs=5\n"
     ]
    },
    {
     "name": "stderr",
     "output_type": "stream",
     "text": [
      "RAG Scoring (k=5):  93%|█████████▎| 14/15 [00:52<00:03,  3.66s/it]"
     ]
    },
    {
     "name": "stdout",
     "output_type": "stream",
     "text": [
      "✅ Google: RAG=85, Benchmark=81, Error=4, Docs=5\n"
     ]
    },
    {
     "name": "stderr",
     "output_type": "stream",
     "text": [
      "RAG Scoring (k=5): 100%|██████████| 15/15 [00:56<00:00,  3.77s/it]\n",
      "RAG Scoring (k=5): 100%|██████████| 15/15 [00:56<00:00,  3.77s/it]\n"
     ]
    },
    {
     "name": "stdout",
     "output_type": "stream",
     "text": [
      "\n",
      "Testing with top_k=10 retrieved chunks:\n",
      "----------------------------------------\n"
     ]
    },
    {
     "name": "stderr",
     "output_type": "stream",
     "text": [
      "RAG Scoring (k=10):   0%|          | 0/15 [00:00<?, ?it/s]"
     ]
    },
    {
     "name": "stdout",
     "output_type": "stream",
     "text": [
      "✅ Nike: RAG=82, Benchmark=70, Error=12, Docs=10\n"
     ]
    },
    {
     "name": "stderr",
     "output_type": "stream",
     "text": [
      "RAG Scoring (k=10):   7%|▋         | 1/15 [00:03<00:54,  3.89s/it]"
     ]
    },
    {
     "name": "stdout",
     "output_type": "stream",
     "text": [
      "✅ Apple: RAG=85, Benchmark=70, Error=15, Docs=10\n"
     ]
    },
    {
     "name": "stderr",
     "output_type": "stream",
     "text": [
      "RAG Scoring (k=10):  13%|█▎        | 2/15 [00:07<00:49,  3.77s/it]"
     ]
    },
    {
     "name": "stdout",
     "output_type": "stream",
     "text": [
      "✅ Boeing: RAG=78, Benchmark=79, Error=1, Docs=10\n"
     ]
    },
    {
     "name": "stderr",
     "output_type": "stream",
     "text": [
      "RAG Scoring (k=10):  20%|██        | 3/15 [00:10<00:42,  3.54s/it]"
     ]
    },
    {
     "name": "stdout",
     "output_type": "stream",
     "text": [
      "✅ Disney: RAG=85, Benchmark=68, Error=17, Docs=10\n"
     ]
    },
    {
     "name": "stderr",
     "output_type": "stream",
     "text": [
      "RAG Scoring (k=10):  27%|██▋       | 4/15 [00:14<00:41,  3.76s/it]"
     ]
    },
    {
     "name": "stdout",
     "output_type": "stream",
     "text": [
      "✅ Eli Lilly: RAG=85, Benchmark=64, Error=21, Docs=10\n"
     ]
    },
    {
     "name": "stderr",
     "output_type": "stream",
     "text": [
      "RAG Scoring (k=10):  33%|███▎      | 5/15 [00:20<00:42,  4.25s/it]"
     ]
    },
    {
     "name": "stdout",
     "output_type": "stream",
     "text": [
      "✅ FedEx: RAG=82, Benchmark=71, Error=11, Docs=10\n"
     ]
    },
    {
     "name": "stderr",
     "output_type": "stream",
     "text": [
      "RAG Scoring (k=10):  40%|████      | 6/15 [00:24<00:38,  4.30s/it]"
     ]
    },
    {
     "name": "stdout",
     "output_type": "stream",
     "text": [
      "✅ Johnson & Johnson: RAG=85, Benchmark=85, Error=0, Docs=10\n"
     ]
    },
    {
     "name": "stderr",
     "output_type": "stream",
     "text": [
      "RAG Scoring (k=10):  47%|████▋     | 7/15 [00:28<00:33,  4.14s/it]"
     ]
    },
    {
     "name": "stdout",
     "output_type": "stream",
     "text": [
      "✅ JPMorgan Chase: RAG=85, Benchmark=80, Error=5, Docs=10\n"
     ]
    },
    {
     "name": "stderr",
     "output_type": "stream",
     "text": [
      "RAG Scoring (k=10):  53%|█████▎    | 8/15 [00:31<00:26,  3.83s/it]"
     ]
    },
    {
     "name": "stdout",
     "output_type": "stream",
     "text": [
      "✅ McDonald's: RAG=75, Benchmark=66, Error=9, Docs=10\n"
     ]
    },
    {
     "name": "stderr",
     "output_type": "stream",
     "text": [
      "RAG Scoring (k=10):  60%|██████    | 9/15 [00:35<00:22,  3.83s/it]"
     ]
    },
    {
     "name": "stdout",
     "output_type": "stream",
     "text": [
      "✅ Meta: RAG=85, Benchmark=60, Error=25, Docs=10\n"
     ]
    },
    {
     "name": "stderr",
     "output_type": "stream",
     "text": [
      "RAG Scoring (k=10):  67%|██████▋   | 10/15 [00:39<00:19,  3.83s/it]"
     ]
    },
    {
     "name": "stdout",
     "output_type": "stream",
     "text": [
      "✅ Microsoft: RAG=85, Benchmark=87, Error=2, Docs=10\n"
     ]
    },
    {
     "name": "stderr",
     "output_type": "stream",
     "text": [
      "RAG Scoring (k=10):  73%|███████▎  | 11/15 [00:42<00:15,  3.79s/it]"
     ]
    },
    {
     "name": "stdout",
     "output_type": "stream",
     "text": [
      "✅ Netflix: RAG=75, Benchmark=37, Error=38, Docs=10\n"
     ]
    },
    {
     "name": "stderr",
     "output_type": "stream",
     "text": [
      "RAG Scoring (k=10):  80%|████████  | 12/15 [00:46<00:11,  3.76s/it]"
     ]
    },
    {
     "name": "stdout",
     "output_type": "stream",
     "text": [
      "✅ NVIDIA: RAG=85, Benchmark=77, Error=8, Docs=10\n"
     ]
    },
    {
     "name": "stderr",
     "output_type": "stream",
     "text": [
      "RAG Scoring (k=10):  87%|████████▋ | 13/15 [00:49<00:07,  3.67s/it]"
     ]
    },
    {
     "name": "stdout",
     "output_type": "stream",
     "text": [
      "✅ Tesla: RAG=85, Benchmark=72, Error=13, Docs=10\n"
     ]
    },
    {
     "name": "stderr",
     "output_type": "stream",
     "text": [
      "RAG Scoring (k=10):  93%|█████████▎| 14/15 [00:53<00:03,  3.62s/it]"
     ]
    },
    {
     "name": "stdout",
     "output_type": "stream",
     "text": [
      "✅ Google: RAG=85, Benchmark=81, Error=4, Docs=10\n"
     ]
    },
    {
     "name": "stderr",
     "output_type": "stream",
     "text": [
      "RAG Scoring (k=10): 100%|██████████| 15/15 [00:57<00:00,  3.80s/it]\n",
      "RAG Scoring (k=10): 100%|██████████| 15/15 [00:57<00:00,  3.80s/it]\n"
     ]
    },
    {
     "name": "stdout",
     "output_type": "stream",
     "text": [
      "\n",
      "Testing with top_k=15 retrieved chunks:\n",
      "----------------------------------------\n"
     ]
    },
    {
     "name": "stderr",
     "output_type": "stream",
     "text": [
      "RAG Scoring (k=15):   0%|          | 0/15 [00:00<?, ?it/s]"
     ]
    },
    {
     "name": "stdout",
     "output_type": "stream",
     "text": [
      "✅ Nike: RAG=85, Benchmark=70, Error=15, Docs=15\n"
     ]
    },
    {
     "name": "stderr",
     "output_type": "stream",
     "text": [
      "RAG Scoring (k=15):   7%|▋         | 1/15 [00:03<00:52,  3.78s/it]"
     ]
    },
    {
     "name": "stdout",
     "output_type": "stream",
     "text": [
      "✅ Apple: RAG=85, Benchmark=70, Error=15, Docs=15\n"
     ]
    },
    {
     "name": "stderr",
     "output_type": "stream",
     "text": [
      "RAG Scoring (k=15):  13%|█▎        | 2/15 [00:08<00:53,  4.12s/it]"
     ]
    },
    {
     "name": "stdout",
     "output_type": "stream",
     "text": [
      "✅ Boeing: RAG=78, Benchmark=79, Error=1, Docs=15\n"
     ]
    },
    {
     "name": "stderr",
     "output_type": "stream",
     "text": [
      "RAG Scoring (k=15):  20%|██        | 3/15 [00:12<00:48,  4.04s/it]"
     ]
    },
    {
     "name": "stdout",
     "output_type": "stream",
     "text": [
      "✅ Disney: RAG=85, Benchmark=68, Error=17, Docs=15\n"
     ]
    },
    {
     "name": "stderr",
     "output_type": "stream",
     "text": [
      "RAG Scoring (k=15):  27%|██▋       | 4/15 [00:16<00:44,  4.06s/it]"
     ]
    },
    {
     "name": "stdout",
     "output_type": "stream",
     "text": [
      "✅ Eli Lilly: RAG=85, Benchmark=64, Error=21, Docs=15\n"
     ]
    },
    {
     "name": "stderr",
     "output_type": "stream",
     "text": [
      "RAG Scoring (k=15):  33%|███▎      | 5/15 [00:19<00:39,  3.93s/it]"
     ]
    },
    {
     "name": "stdout",
     "output_type": "stream",
     "text": [
      "✅ FedEx: RAG=82, Benchmark=71, Error=11, Docs=15\n"
     ]
    },
    {
     "name": "stderr",
     "output_type": "stream",
     "text": [
      "RAG Scoring (k=15):  40%|████      | 6/15 [00:23<00:35,  3.92s/it]"
     ]
    },
    {
     "name": "stdout",
     "output_type": "stream",
     "text": [
      "✅ Johnson & Johnson: RAG=85, Benchmark=85, Error=0, Docs=15\n"
     ]
    },
    {
     "name": "stderr",
     "output_type": "stream",
     "text": [
      "RAG Scoring (k=15):  47%|████▋     | 7/15 [00:28<00:33,  4.20s/it]"
     ]
    },
    {
     "name": "stdout",
     "output_type": "stream",
     "text": [
      "✅ JPMorgan Chase: RAG=85, Benchmark=80, Error=5, Docs=15\n"
     ]
    },
    {
     "name": "stderr",
     "output_type": "stream",
     "text": [
      "RAG Scoring (k=15):  53%|█████▎    | 8/15 [00:31<00:27,  3.88s/it]"
     ]
    },
    {
     "name": "stdout",
     "output_type": "stream",
     "text": [
      "✅ McDonald's: RAG=75, Benchmark=66, Error=9, Docs=15\n"
     ]
    },
    {
     "name": "stderr",
     "output_type": "stream",
     "text": [
      "RAG Scoring (k=15):  60%|██████    | 9/15 [00:35<00:23,  3.85s/it]"
     ]
    },
    {
     "name": "stdout",
     "output_type": "stream",
     "text": [
      "✅ Meta: RAG=85, Benchmark=60, Error=25, Docs=15\n"
     ]
    },
    {
     "name": "stderr",
     "output_type": "stream",
     "text": [
      "RAG Scoring (k=15):  67%|██████▋   | 10/15 [00:39<00:18,  3.76s/it]"
     ]
    },
    {
     "name": "stdout",
     "output_type": "stream",
     "text": [
      "✅ Microsoft: RAG=85, Benchmark=87, Error=2, Docs=15\n"
     ]
    },
    {
     "name": "stderr",
     "output_type": "stream",
     "text": [
      "RAG Scoring (k=15):  73%|███████▎  | 11/15 [00:42<00:15,  3.78s/it]"
     ]
    },
    {
     "name": "stdout",
     "output_type": "stream",
     "text": [
      "✅ Netflix: RAG=75, Benchmark=37, Error=38, Docs=15\n"
     ]
    },
    {
     "name": "stderr",
     "output_type": "stream",
     "text": [
      "RAG Scoring (k=15):  80%|████████  | 12/15 [00:46<00:11,  3.72s/it]"
     ]
    },
    {
     "name": "stdout",
     "output_type": "stream",
     "text": [
      "✅ NVIDIA: RAG=82, Benchmark=77, Error=5, Docs=15\n"
     ]
    },
    {
     "name": "stderr",
     "output_type": "stream",
     "text": [
      "RAG Scoring (k=15):  87%|████████▋ | 13/15 [00:50<00:07,  3.93s/it]"
     ]
    },
    {
     "name": "stdout",
     "output_type": "stream",
     "text": [
      "✅ Tesla: RAG=85, Benchmark=72, Error=13, Docs=15\n"
     ]
    },
    {
     "name": "stderr",
     "output_type": "stream",
     "text": [
      "RAG Scoring (k=15):  93%|█████████▎| 14/15 [00:54<00:03,  3.92s/it]"
     ]
    },
    {
     "name": "stdout",
     "output_type": "stream",
     "text": [
      "✅ Google: RAG=85, Benchmark=81, Error=4, Docs=15\n"
     ]
    },
    {
     "name": "stderr",
     "output_type": "stream",
     "text": [
      "RAG Scoring (k=15): 100%|██████████| 15/15 [00:58<00:00,  3.93s/it]\n",
      "RAG Scoring (k=15): 100%|██████████| 15/15 [00:58<00:00,  3.93s/it]\n"
     ]
    },
    {
     "name": "stdout",
     "output_type": "stream",
     "text": [
      "\n",
      "Testing with top_k=20 retrieved chunks:\n",
      "----------------------------------------\n"
     ]
    },
    {
     "name": "stderr",
     "output_type": "stream",
     "text": [
      "RAG Scoring (k=20):   0%|          | 0/15 [00:00<?, ?it/s]"
     ]
    },
    {
     "name": "stdout",
     "output_type": "stream",
     "text": [
      "✅ Nike: RAG=82, Benchmark=70, Error=12, Docs=20\n"
     ]
    },
    {
     "name": "stderr",
     "output_type": "stream",
     "text": [
      "RAG Scoring (k=20):   7%|▋         | 1/15 [00:03<00:50,  3.57s/it]"
     ]
    },
    {
     "name": "stdout",
     "output_type": "stream",
     "text": [
      "✅ Apple: RAG=85, Benchmark=70, Error=15, Docs=20\n"
     ]
    },
    {
     "name": "stderr",
     "output_type": "stream",
     "text": [
      "RAG Scoring (k=20):  13%|█▎        | 2/15 [00:07<00:46,  3.58s/it]"
     ]
    },
    {
     "name": "stdout",
     "output_type": "stream",
     "text": [
      "✅ Boeing: RAG=78, Benchmark=79, Error=1, Docs=20\n"
     ]
    },
    {
     "name": "stderr",
     "output_type": "stream",
     "text": [
      "RAG Scoring (k=20):  20%|██        | 3/15 [00:11<00:45,  3.77s/it]"
     ]
    },
    {
     "name": "stdout",
     "output_type": "stream",
     "text": [
      "✅ Disney: RAG=85, Benchmark=68, Error=17, Docs=20\n"
     ]
    },
    {
     "name": "stderr",
     "output_type": "stream",
     "text": [
      "RAG Scoring (k=20):  27%|██▋       | 4/15 [00:14<00:41,  3.77s/it]"
     ]
    },
    {
     "name": "stdout",
     "output_type": "stream",
     "text": [
      "✅ Eli Lilly: RAG=85, Benchmark=64, Error=21, Docs=20\n"
     ]
    },
    {
     "name": "stderr",
     "output_type": "stream",
     "text": [
      "RAG Scoring (k=20):  33%|███▎      | 5/15 [00:18<00:38,  3.82s/it]"
     ]
    },
    {
     "name": "stdout",
     "output_type": "stream",
     "text": [
      "✅ FedEx: RAG=82, Benchmark=71, Error=11, Docs=20\n"
     ]
    },
    {
     "name": "stderr",
     "output_type": "stream",
     "text": [
      "RAG Scoring (k=20):  40%|████      | 6/15 [00:23<00:35,  3.95s/it]"
     ]
    },
    {
     "name": "stdout",
     "output_type": "stream",
     "text": [
      "✅ Johnson & Johnson: RAG=85, Benchmark=85, Error=0, Docs=20\n"
     ]
    },
    {
     "name": "stderr",
     "output_type": "stream",
     "text": [
      "RAG Scoring (k=20):  47%|████▋     | 7/15 [00:26<00:30,  3.83s/it]"
     ]
    },
    {
     "name": "stdout",
     "output_type": "stream",
     "text": [
      "✅ JPMorgan Chase: RAG=85, Benchmark=80, Error=5, Docs=20\n"
     ]
    },
    {
     "name": "stderr",
     "output_type": "stream",
     "text": [
      "RAG Scoring (k=20):  53%|█████▎    | 8/15 [00:30<00:26,  3.85s/it]"
     ]
    },
    {
     "name": "stdout",
     "output_type": "stream",
     "text": [
      "✅ McDonald's: RAG=75, Benchmark=66, Error=9, Docs=20\n"
     ]
    },
    {
     "name": "stderr",
     "output_type": "stream",
     "text": [
      "RAG Scoring (k=20):  60%|██████    | 9/15 [00:34<00:23,  3.92s/it]"
     ]
    },
    {
     "name": "stdout",
     "output_type": "stream",
     "text": [
      "✅ Meta: RAG=85, Benchmark=60, Error=25, Docs=20\n"
     ]
    },
    {
     "name": "stderr",
     "output_type": "stream",
     "text": [
      "RAG Scoring (k=20):  67%|██████▋   | 10/15 [00:38<00:19,  3.98s/it]"
     ]
    },
    {
     "name": "stdout",
     "output_type": "stream",
     "text": [
      "✅ Microsoft: RAG=85, Benchmark=87, Error=2, Docs=20\n"
     ]
    },
    {
     "name": "stderr",
     "output_type": "stream",
     "text": [
      "RAG Scoring (k=20):  73%|███████▎  | 11/15 [00:42<00:15,  3.92s/it]"
     ]
    },
    {
     "name": "stdout",
     "output_type": "stream",
     "text": [
      "✅ Netflix: RAG=75, Benchmark=37, Error=38, Docs=20\n"
     ]
    },
    {
     "name": "stderr",
     "output_type": "stream",
     "text": [
      "RAG Scoring (k=20):  80%|████████  | 12/15 [00:46<00:11,  3.82s/it]"
     ]
    },
    {
     "name": "stdout",
     "output_type": "stream",
     "text": [
      "✅ NVIDIA: RAG=82, Benchmark=77, Error=5, Docs=20\n"
     ]
    },
    {
     "name": "stderr",
     "output_type": "stream",
     "text": [
      "RAG Scoring (k=20):  87%|████████▋ | 13/15 [00:51<00:08,  4.18s/it]"
     ]
    },
    {
     "name": "stdout",
     "output_type": "stream",
     "text": [
      "✅ Tesla: RAG=85, Benchmark=72, Error=13, Docs=20\n"
     ]
    },
    {
     "name": "stderr",
     "output_type": "stream",
     "text": [
      "RAG Scoring (k=20):  93%|█████████▎| 14/15 [00:54<00:04,  4.01s/it]"
     ]
    },
    {
     "name": "stdout",
     "output_type": "stream",
     "text": [
      "✅ Google: RAG=85, Benchmark=81, Error=4, Docs=20\n"
     ]
    },
    {
     "name": "stderr",
     "output_type": "stream",
     "text": [
      "RAG Scoring (k=20): 100%|██████████| 15/15 [00:59<00:00,  3.95s/it]"
     ]
    },
    {
     "name": "stdout",
     "output_type": "stream",
     "text": [
      "\n",
      "RAG Performance Testing Complete!\n",
      "============================================================\n"
     ]
    },
    {
     "name": "stderr",
     "output_type": "stream",
     "text": [
      "\n"
     ]
    }
   ],
   "source": [
    "# Run Comprehensive RAG Performance Testing (Fixed Version)\n",
    "print(\"Starting RAG-Enhanced ESG Scoring Performance Test (Fixed)\")\n",
    "print(\"=\" * 60)\n",
    "\n",
    "# Test different retrieval strategies\n",
    "retrieval_strategies = [5, 10, 15, 20]  # Different numbers of retrieved chunks\n",
    "companies = list(benchmark_scores.keys())\n",
    "\n",
    "rag_results_fixed = {}\n",
    "\n",
    "for top_k in retrieval_strategies:\n",
    "    print(f\"\\nTesting with top_k={top_k} retrieved chunks:\")\n",
    "    print(\"-\" * 40)\n",
    "    \n",
    "    strategy_results = {}\n",
    "    \n",
    "    for company in tqdm(companies, desc=f\"RAG Scoring (k={top_k})\"):\n",
    "        if company in company_texts and company_texts[company].strip():  # Only if we have content\n",
    "            score, response, num_docs = score_company_with_rag(company, mistral_model, top_k=top_k)\n",
    "            classification, class_response, _ = classify_company_with_rag(company, mistral_model, top_k=top_k)\n",
    "            \n",
    "            strategy_results[company] = {\n",
    "                'score': score,\n",
    "                'classification': classification,\n",
    "                'benchmark': benchmark_scores[company],\n",
    "                'num_retrieved_docs': num_docs,\n",
    "                'full_response': response\n",
    "            }\n",
    "            \n",
    "            if score:\n",
    "                error = abs(score - benchmark_scores[company])\n",
    "                print(f\"✅ {company}: RAG={score}, Benchmark={benchmark_scores[company]}, Error={error}, Docs={num_docs}\")\n",
    "            else:\n",
    "                print(f\"❌ {company}: Failed to score\")\n",
    "                \n",
    "        else:\n",
    "            print(f\"⚠️  {company}: No content available\")\n",
    "        \n",
    "        time.sleep(0.5)  # Rate limiting\n",
    "    \n",
    "    rag_results_fixed[f'top_k_{top_k}'] = strategy_results\n",
    "\n",
    "print(\"\\nRAG Performance Testing Complete!\")\n",
    "print(\"=\" * 60)"
   ]
  },
  {
   "cell_type": "code",
   "execution_count": 51,
   "id": "5ca8cc7d",
   "metadata": {},
   "outputs": [
    {
     "name": "stdout",
     "output_type": "stream",
     "text": [
      "RAG Performance Metrics Summary\n",
      "==================================================\n",
      "\n",
      "Strategy: top_k_5 (Retrieving top 5 chunks)\n",
      "  Success Rate: 100.00% (15/15)\n",
      "  MAE: 12.27\n",
      "  RMSE: 15.63\n",
      "  R²: -0.748\n",
      "  Tier Accuracy: 40.00%\n",
      "\n",
      "Strategy: top_k_10 (Retrieving top 10 chunks)\n",
      "  Success Rate: 100.00% (15/15)\n",
      "  MAE: 12.07\n",
      "  RMSE: 15.60\n",
      "  R²: -0.741\n",
      "  Tier Accuracy: 40.00%\n",
      "\n",
      "Strategy: top_k_15 (Retrieving top 15 chunks)\n",
      "  Success Rate: 100.00% (15/15)\n",
      "  MAE: 12.07\n",
      "  RMSE: 15.69\n",
      "  R²: -0.761\n",
      "  Tier Accuracy: 40.00%\n",
      "\n",
      "Strategy: top_k_20 (Retrieving top 20 chunks)\n",
      "  Success Rate: 100.00% (15/15)\n",
      "  MAE: 11.87\n",
      "  RMSE: 15.51\n",
      "  R²: -0.723\n",
      "  Tier Accuracy: 40.00%\n",
      "\n",
      "Best Performing Strategy: top_k_20\n",
      "Best MAE: 11.87\n",
      "Best R²: -0.723\n",
      "\n",
      "Sample Predictions from Best Strategy (top_k_20):\n",
      "--------------------------------------------------\n",
      "Nike            | RAG: 82 | Benchmark: 70 | Error: 12\n",
      "Apple           | RAG: 85 | Benchmark: 70 | Error: 15\n",
      "Boeing          | RAG: 78 | Benchmark: 79 | Error:  1\n",
      "Disney          | RAG: 85 | Benchmark: 68 | Error: 17\n",
      "Eli Lilly       | RAG: 85 | Benchmark: 64 | Error: 21\n"
     ]
    }
   ],
   "source": [
    "# Performance Evaluation and Metrics (Fixed Results)\n",
    "\n",
    "# Update the variable name to use our fixed results\n",
    "rag_results = rag_results_fixed\n",
    "\n",
    "# Calculate metrics for all strategies\n",
    "rag_metrics = calculate_rag_metrics(rag_results)\n",
    "\n",
    "# Display results\n",
    "print(\"RAG Performance Metrics Summary\")\n",
    "print(\"=\" * 50)\n",
    "\n",
    "for strategy, metrics in rag_metrics.items():\n",
    "    k_value = strategy.split('_')[-1]\n",
    "    print(f\"\\nStrategy: {strategy} (Retrieving top {k_value} chunks)\")\n",
    "    print(f\"  Success Rate: {metrics['success_rate']:.2%} ({metrics['num_successful']}/{metrics['num_total']})\")\n",
    "    print(f\"  MAE: {metrics['mae']:.2f}\")\n",
    "    print(f\"  RMSE: {metrics['rmse']:.2f}\")\n",
    "    print(f\"  R²: {metrics['r2']:.3f}\")\n",
    "    print(f\"  Tier Accuracy: {metrics['tier_accuracy']:.2%}\")\n",
    "\n",
    "# Find best performing strategy\n",
    "best_strategy = min(rag_metrics.keys(), key=lambda x: rag_metrics[x]['mae'])\n",
    "print(f\"\\nBest Performing Strategy: {best_strategy}\")\n",
    "print(f\"Best MAE: {rag_metrics[best_strategy]['mae']:.2f}\")\n",
    "print(f\"Best R²: {rag_metrics[best_strategy]['r2']:.3f}\")\n",
    "\n",
    "# Show some specific predictions\n",
    "print(f\"\\nSample Predictions from Best Strategy ({best_strategy}):\")\n",
    "print(\"-\" * 50)\n",
    "best_results = rag_results[best_strategy]\n",
    "for company in list(best_results.keys())[:5]:  # Show first 5\n",
    "    result = best_results[company]\n",
    "    if result['score'] is not None:\n",
    "        error = abs(result['score'] - result['benchmark'])\n",
    "        print(f\"{company:15} | RAG: {result['score']:2d} | Benchmark: {result['benchmark']:2d} | Error: {error:2d}\")\n",
    "    else:\n",
    "        print(f\"{company:15} | Failed to score\")"
   ]
  },
  {
   "cell_type": "code",
   "execution_count": 18,
   "id": "2501680b",
   "metadata": {},
   "outputs": [
    {
     "name": "stdout",
     "output_type": "stream",
     "text": [
      "RAG Performance Metrics Summary\n",
      "==================================================\n",
      "\n",
      "Strategy: top_k_5 (Retrieving top 5 chunks)\n",
      "  Success Rate: 100.00% (14/14)\n",
      "  MAE: 13.07\n",
      "  RMSE: 16.32\n",
      "  R²: -0.837\n",
      "  Tier Accuracy: 35.71%\n",
      "\n",
      "Strategy: top_k_10 (Retrieving top 10 chunks)\n",
      "  Success Rate: 100.00% (14/14)\n",
      "  MAE: 13.07\n",
      "  RMSE: 16.40\n",
      "  R²: -0.855\n",
      "  Tier Accuracy: 35.71%\n",
      "\n",
      "Strategy: top_k_15 (Retrieving top 15 chunks)\n",
      "  Success Rate: 100.00% (14/14)\n",
      "  MAE: 13.29\n",
      "  RMSE: 16.83\n",
      "  R²: -0.954\n",
      "  Tier Accuracy: 35.71%\n",
      "\n",
      "Strategy: top_k_20 (Retrieving top 20 chunks)\n",
      "  Success Rate: 100.00% (14/14)\n",
      "  MAE: 13.57\n",
      "  RMSE: 17.55\n",
      "  R²: -1.124\n",
      "  Tier Accuracy: 35.71%\n",
      "\n",
      "Best Performing Strategy: top_k_5\n",
      "Best MAE: 13.07\n",
      "Best R²: -0.837\n"
     ]
    }
   ],
   "source": [
    "# Performance Evaluation and Metrics\n",
    "\n",
    "def calculate_rag_metrics(results_dict):\n",
    "    \"\"\"Calculate performance metrics for RAG results\"\"\"\n",
    "    metrics = {}\n",
    "    \n",
    "    for strategy, results in results_dict.items():\n",
    "        valid_results = {k: v for k, v in results.items() if v['score'] is not None}\n",
    "        \n",
    "        if valid_results:\n",
    "            rag_scores = [v['score'] for v in valid_results.values()]\n",
    "            benchmark_scores_subset = [v['benchmark'] for v in valid_results.values()]\n",
    "            \n",
    "            # Calculate regression metrics\n",
    "            mae = mean_absolute_error(benchmark_scores_subset, rag_scores)\n",
    "            mse = mean_squared_error(benchmark_scores_subset, rag_scores)\n",
    "            rmse = np.sqrt(mse)\n",
    "            r2 = r2_score(benchmark_scores_subset, rag_scores)\n",
    "            \n",
    "            # Calculate classification accuracy\n",
    "            def score_to_tier(score):\n",
    "                if score >= 80: return 'A'\n",
    "                elif score >= 60: return 'B'\n",
    "                elif score >= 40: return 'C'\n",
    "                else: return 'D'\n",
    "            \n",
    "            rag_tiers = [score_to_tier(score) for score in rag_scores]\n",
    "            benchmark_tiers = [score_to_tier(score) for score in benchmark_scores_subset]\n",
    "            \n",
    "            tier_accuracy = accuracy_score(benchmark_tiers, rag_tiers)\n",
    "            \n",
    "            # Success rate\n",
    "            success_rate = len(valid_results) / len(results)\n",
    "            \n",
    "            metrics[strategy] = {\n",
    "                'mae': mae,\n",
    "                'rmse': rmse,\n",
    "                'r2': r2,\n",
    "                'tier_accuracy': tier_accuracy,\n",
    "                'success_rate': success_rate,\n",
    "                'num_successful': len(valid_results),\n",
    "                'num_total': len(results)\n",
    "            }\n",
    "    \n",
    "    return metrics\n",
    "\n",
    "# Calculate metrics for all strategies\n",
    "rag_metrics = calculate_rag_metrics(rag_results)\n",
    "\n",
    "# Display results\n",
    "print(\"RAG Performance Metrics Summary\")\n",
    "print(\"=\" * 50)\n",
    "\n",
    "for strategy, metrics in rag_metrics.items():\n",
    "    k_value = strategy.split('_')[-1]\n",
    "    print(f\"\\nStrategy: {strategy} (Retrieving top {k_value} chunks)\")\n",
    "    print(f\"  Success Rate: {metrics['success_rate']:.2%} ({metrics['num_successful']}/{metrics['num_total']})\")\n",
    "    print(f\"  MAE: {metrics['mae']:.2f}\")\n",
    "    print(f\"  RMSE: {metrics['rmse']:.2f}\")\n",
    "    print(f\"  R²: {metrics['r2']:.3f}\")\n",
    "    print(f\"  Tier Accuracy: {metrics['tier_accuracy']:.2%}\")\n",
    "\n",
    "# Find best performing strategy\n",
    "best_strategy = min(rag_metrics.keys(), key=lambda x: rag_metrics[x]['mae'])\n",
    "print(f\"\\nBest Performing Strategy: {best_strategy}\")\n",
    "print(f\"Best MAE: {rag_metrics[best_strategy]['mae']:.2f}\")\n",
    "print(f\"Best R²: {rag_metrics[best_strategy]['r2']:.3f}\")"
   ]
  },
  {
   "cell_type": "code",
   "execution_count": 52,
   "id": "d0836da9",
   "metadata": {},
   "outputs": [
    {
     "data": {
      "image/png": "[encoded data removed]",
      "text/plain": [
       "<Figure size 1500x1000 with 4 Axes>"
      ]
     },
     "metadata": {},
     "output_type": "display_data"
    },
    {
     "data": {
      "image/png": "[encoded data removed]",
      "text/plain": [
       "<Figure size 1200x800 with 1 Axes>"
      ]
     },
     "metadata": {},
     "output_type": "display_data"
    },
    {
     "data": {
      "image/png": "[encoded data removed]",
      "text/plain": [
       "<Figure size 1000x600 with 1 Axes>"
      ]
     },
     "metadata": {},
     "output_type": "display_data"
    },
    {
     "name": "stdout",
     "output_type": "stream",
     "text": [
      "Visualization complete!\n"
     ]
    }
   ],
   "source": [
    "# Visualization and Comparison Analysis\n",
    "\n",
    "# Create comparison DataFrame\n",
    "comparison_data = []\n",
    "for strategy, results in rag_results.items():\n",
    "    k_value = int(strategy.split('_')[-1])\n",
    "    for company, result in results.items():\n",
    "        if result['score'] is not None:\n",
    "            comparison_data.append({\n",
    "                'company': company,\n",
    "                'strategy': f'RAG (k={k_value})',\n",
    "                'k_value': k_value,\n",
    "                'rag_score': result['score'],\n",
    "                'benchmark_score': result['benchmark'],\n",
    "                'error': abs(result['score'] - result['benchmark']),\n",
    "                'classification': result['classification']\n",
    "            })\n",
    "\n",
    "comparison_df = pd.DataFrame(comparison_data)\n",
    "\n",
    "# Plot 1: Performance by retrieval strategy\n",
    "plt.figure(figsize=(15, 10))\n",
    "\n",
    "# Subplot 1: MAE by strategy\n",
    "plt.subplot(2, 2, 1)\n",
    "strategies = list(rag_metrics.keys())\n",
    "maes = [rag_metrics[s]['mae'] for s in strategies]\n",
    "k_values = [int(s.split('_')[-1]) for s in strategies]\n",
    "\n",
    "plt.plot(k_values, maes, 'bo-', linewidth=2, markersize=8)\n",
    "plt.xlabel('Number of Retrieved Chunks (k)')\n",
    "plt.ylabel('Mean Absolute Error')\n",
    "plt.title('RAG Performance vs. Number of Retrieved Chunks')\n",
    "plt.grid(True, alpha=0.3)\n",
    "\n",
    "# Subplot 2: R² by strategy\n",
    "plt.subplot(2, 2, 2)\n",
    "r2_scores = [rag_metrics[s]['r2'] for s in strategies]\n",
    "plt.plot(k_values, r2_scores, 'ro-', linewidth=2, markersize=8)\n",
    "plt.xlabel('Number of Retrieved Chunks (k)')\n",
    "plt.ylabel('R² Score')\n",
    "plt.title('R² Score vs. Number of Retrieved Chunks')\n",
    "plt.grid(True, alpha=0.3)\n",
    "\n",
    "# Subplot 3: Success rate by strategy\n",
    "plt.subplot(2, 2, 3)\n",
    "success_rates = [rag_metrics[s]['success_rate'] for s in strategies]\n",
    "plt.plot(k_values, success_rates, 'go-', linewidth=2, markersize=8)\n",
    "plt.xlabel('Number of Retrieved Chunks (k)')\n",
    "plt.ylabel('Success Rate')\n",
    "plt.title('Success Rate vs. Number of Retrieved Chunks')\n",
    "plt.grid(True, alpha=0.3)\n",
    "\n",
    "# Subplot 4: Tier accuracy by strategy\n",
    "plt.subplot(2, 2, 4)\n",
    "tier_accuracies = [rag_metrics[s]['tier_accuracy'] for s in strategies]\n",
    "plt.plot(k_values, tier_accuracies, 'mo-', linewidth=2, markersize=8)\n",
    "plt.xlabel('Number of Retrieved Chunks (k)')\n",
    "plt.ylabel('Tier Classification Accuracy')\n",
    "plt.title('Classification Accuracy vs. Number of Retrieved Chunks')\n",
    "plt.grid(True, alpha=0.3)\n",
    "\n",
    "plt.tight_layout()\n",
    "plt.show()\n",
    "\n",
    "# Plot 2: Score comparison for best strategy\n",
    "best_results = rag_results[best_strategy]\n",
    "companies_with_scores = [c for c in companies if c in best_results and best_results[c]['score'] is not None]\n",
    "\n",
    "rag_scores_best = [best_results[c]['score'] for c in companies_with_scores]\n",
    "benchmark_scores_best = [best_results[c]['benchmark'] for c in companies_with_scores]\n",
    "\n",
    "plt.figure(figsize=(12, 8))\n",
    "x = np.arange(len(companies_with_scores))\n",
    "width = 0.35\n",
    "\n",
    "plt.bar(x - width/2, benchmark_scores_best, width, label='Benchmark Scores', alpha=0.8, color='skyblue')\n",
    "plt.bar(x + width/2, rag_scores_best, width, label=f'RAG Scores ({best_strategy})', alpha=0.8, color='lightcoral')\n",
    "\n",
    "plt.xlabel('Companies')\n",
    "plt.ylabel('ESG Scores')\n",
    "plt.title(f'ESG Score Comparison: Benchmark vs RAG ({best_strategy})')\n",
    "plt.xticks(x, companies_with_scores, rotation=45, ha='right')\n",
    "plt.legend()\n",
    "plt.grid(True, alpha=0.3)\n",
    "plt.tight_layout()\n",
    "plt.show()\n",
    "\n",
    "# Plot 3: Error analysis\n",
    "plt.figure(figsize=(10, 6))\n",
    "errors_best = [abs(best_results[c]['score'] - best_results[c]['benchmark']) \n",
    "               for c in companies_with_scores]\n",
    "\n",
    "plt.bar(companies_with_scores, errors_best, alpha=0.7, color='orange')\n",
    "plt.xlabel('Companies')\n",
    "plt.ylabel('Absolute Error')\n",
    "plt.title(f'Prediction Error by Company ({best_strategy})')\n",
    "plt.xticks(rotation=45, ha='right')\n",
    "plt.grid(True, alpha=0.3)\n",
    "plt.tight_layout()\n",
    "plt.show()\n",
    "\n",
    "print(\"Visualization complete!\")"
   ]
  },
  {
   "cell_type": "code",
   "execution_count": 23,
   "id": "638253fa",
   "metadata": {},
   "outputs": [
    {
     "name": "stdout",
     "output_type": "stream",
     "text": [
      "📊 DETAILED RAG SCORING RESULTS VS BENCHMARK SCORES\n",
      "============================================================\n",
      "\n",
      "🎯 BEST STRATEGY: top_k_5\n",
      "Overall MAE: 13.07\n",
      "Overall Success Rate: 100.00%\n",
      "\n",
      "📈 DETAILED RESULTS TABLE:\n",
      "================================================================================\n",
      "Company            RAG  Bench Error Error%  Performance Class\n",
      "--------------------------------------------------------------------------------\n",
      "Johnson & Johnson    85    85     0    0.0% Excellent   N/A  \n",
      "Microsoft            85    87     2    2.3% Excellent   N/A  \n",
      "Google               85    81     4    4.9% Excellent   N/A  \n",
      "JPMorgan Chase       85    80     5    6.2% Excellent   N/A  \n",
      "NVIDIA               85    77     8   10.4% Good        N/A  \n",
      "McDonald's           75    66     9   13.6% Good        N/A  \n",
      "FedEx                82    71    11   15.5% Fair        N/A  \n",
      "Tesla                85    72    13   18.1% Fair        N/A  \n",
      "Nike                 85    70    15   21.4% Fair        N/A  \n",
      "Apple                85    70    15   21.4% Fair        N/A  \n",
      "Disney               85    68    17   25.0% Fair        N/A  \n",
      "Eli Lilly            85    64    21   32.8% Poor        N/A  \n",
      "Meta                 85    60    25   41.7% Poor        N/A  \n",
      "Netflix              75    37    38  102.7% Poor        N/A  \n",
      "\n",
      "🏆 PERFORMANCE BREAKDOWN:\n",
      "   • Fair        :  5 companies (35.7%)\n",
      "   • Excellent   :  4 companies (28.6%)\n",
      "   • Poor        :  3 companies (21.4%)\n",
      "   • Good        :  2 companies (14.3%)\n",
      "\n",
      "⭐ TOP PERFORMERS (Lowest Error):\n",
      "   • Johnson & Johnson: Error =  0 (RAG: 85, Benchmark: 85)\n",
      "   • Microsoft      : Error =  2 (RAG: 85, Benchmark: 87)\n",
      "   • Google         : Error =  4 (RAG: 85, Benchmark: 81)\n",
      "   • JPMorgan Chase : Error =  5 (RAG: 85, Benchmark: 80)\n",
      "   • NVIDIA         : Error =  8 (RAG: 85, Benchmark: 77)\n",
      "\n",
      "❌ CHALLENGING CASES (Highest Error):\n",
      "   • Apple          : Error = 15 (RAG: 85, Benchmark: 70)\n",
      "   • Disney         : Error = 17 (RAG: 85, Benchmark: 68)\n",
      "   • Eli Lilly      : Error = 21 (RAG: 85, Benchmark: 64)\n",
      "   • Meta           : Error = 25 (RAG: 85, Benchmark: 60)\n",
      "   • Netflix        : Error = 38 (RAG: 75, Benchmark: 37)\n",
      "\n",
      "📊 STATISTICAL SUMMARY:\n",
      "   • Mean Error: 13.07\n",
      "   • Median Error: 12.00\n",
      "   • Standard Deviation: 10.14\n",
      "   • Min Error: 0\n",
      "   • Max Error: 38\n",
      "\n",
      "🎯 ACCURACY WITHIN ERROR THRESHOLDS:\n",
      "   • Within ± 5 points:  4/14 companies (28.6%)\n",
      "   • Within ±10 points:  6/14 companies (42.9%)\n",
      "   • Within ±15 points: 10/14 companies (71.4%)\n",
      "   • Within ±20 points: 11/14 companies (78.6%)\n",
      "\n",
      "============================================================\n"
     ]
    }
   ],
   "source": [
    "# Detailed Scoring Results vs Benchmark Comparison\n",
    "\n",
    "print(\"📊 DETAILED RAG SCORING RESULTS VS BENCHMARK SCORES\")\n",
    "print(\"=\" * 60)\n",
    "\n",
    "# Get the best strategy results\n",
    "best_results = rag_results[best_strategy]\n",
    "\n",
    "# Create comprehensive comparison table\n",
    "comparison_table = []\n",
    "for company in companies:\n",
    "    if company in best_results:\n",
    "        result = best_results[company]\n",
    "        if result['score'] is not None:\n",
    "            error = abs(result['score'] - result['benchmark'])\n",
    "            error_percentage = (error / result['benchmark']) * 100\n",
    "            \n",
    "            # Determine performance category\n",
    "            if error <= 5:\n",
    "                performance = \"Excellent\"\n",
    "            elif error <= 10:\n",
    "                performance = \"Good\"\n",
    "            elif error <= 20:\n",
    "                performance = \"Fair\"\n",
    "            else:\n",
    "                performance = \"Poor\"\n",
    "            \n",
    "            comparison_table.append({\n",
    "                'Company': company,\n",
    "                'RAG_Score': result['score'],\n",
    "                'Benchmark_Score': result['benchmark'],\n",
    "                'Absolute_Error': error,\n",
    "                'Error_Percentage': error_percentage,\n",
    "                'Performance': performance,\n",
    "                'Classification': result['classification'] or 'N/A',\n",
    "                'Retrieved_Docs': result['num_retrieved_docs']\n",
    "            })\n",
    "\n",
    "# Convert to DataFrame for better display\n",
    "results_df = pd.DataFrame(comparison_table)\n",
    "\n",
    "# Sort by absolute error for better insights\n",
    "results_df = results_df.sort_values('Absolute_Error')\n",
    "\n",
    "print(f\"\\n🎯 BEST STRATEGY: {best_strategy}\")\n",
    "print(f\"Overall MAE: {rag_metrics[best_strategy]['mae']:.2f}\")\n",
    "print(f\"Overall Success Rate: {rag_metrics[best_strategy]['success_rate']:.2%}\")\n",
    "\n",
    "print(f\"\\n📈 DETAILED RESULTS TABLE:\")\n",
    "print(\"=\" * 80)\n",
    "print(f\"{'Company':<18} {'RAG':<4} {'Bench':<5} {'Error':<5} {'Error%':<7} {'Performance':<11} {'Class':<5}\")\n",
    "print(\"-\" * 80)\n",
    "\n",
    "for _, row in results_df.iterrows():\n",
    "    print(f\"{row['Company']:<18} {row['RAG_Score']:4d} {row['Benchmark_Score']:5d} \"\n",
    "          f\"{row['Absolute_Error']:5.0f} {row['Error_Percentage']:6.1f}% \"\n",
    "          f\"{row['Performance']:<11} {row['Classification']:<5}\")\n",
    "\n",
    "# Performance summary\n",
    "print(f\"\\n🏆 PERFORMANCE BREAKDOWN:\")\n",
    "performance_counts = results_df['Performance'].value_counts()\n",
    "total_companies = len(results_df)\n",
    "\n",
    "for performance, count in performance_counts.items():\n",
    "    percentage = (count / total_companies) * 100\n",
    "    print(f\"   • {performance:12}: {count:2d} companies ({percentage:4.1f}%)\")\n",
    "\n",
    "print(f\"\\n⭐ TOP PERFORMERS (Lowest Error):\")\n",
    "top_5 = results_df.head(5)\n",
    "for _, row in top_5.iterrows():\n",
    "    print(f\"   • {row['Company']:<15}: Error = {row['Absolute_Error']:2.0f} \"\n",
    "          f\"(RAG: {row['RAG_Score']}, Benchmark: {row['Benchmark_Score']})\")\n",
    "\n",
    "print(f\"\\n❌ CHALLENGING CASES (Highest Error):\")\n",
    "bottom_5 = results_df.tail(5)\n",
    "for _, row in bottom_5.iterrows():\n",
    "    print(f\"   • {row['Company']:<15}: Error = {row['Absolute_Error']:2.0f} \"\n",
    "          f\"(RAG: {row['RAG_Score']}, Benchmark: {row['Benchmark_Score']})\")\n",
    "\n",
    "# Statistical summary\n",
    "print(f\"\\n📊 STATISTICAL SUMMARY:\")\n",
    "print(f\"   • Mean Error: {results_df['Absolute_Error'].mean():.2f}\")\n",
    "print(f\"   • Median Error: {results_df['Absolute_Error'].median():.2f}\")\n",
    "print(f\"   • Standard Deviation: {results_df['Absolute_Error'].std():.2f}\")\n",
    "print(f\"   • Min Error: {results_df['Absolute_Error'].min():.0f}\")\n",
    "print(f\"   • Max Error: {results_df['Absolute_Error'].max():.0f}\")\n",
    "\n",
    "# Calculate accuracy within different error thresholds\n",
    "print(f\"\\n🎯 ACCURACY WITHIN ERROR THRESHOLDS:\")\n",
    "for threshold in [5, 10, 15, 20]:\n",
    "    within_threshold = (results_df['Absolute_Error'] <= threshold).sum()\n",
    "    percentage = (within_threshold / total_companies) * 100\n",
    "    print(f\"   • Within ±{threshold:2d} points: {within_threshold:2d}/{total_companies} companies ({percentage:4.1f}%)\")\n",
    "\n",
    "print(\"\\n\" + \"=\" * 60)"
   ]
  },
  {
   "cell_type": "code",
   "execution_count": 24,
   "id": "cd3a3039",
   "metadata": {},
   "outputs": [
    {
     "data": {
      "image/png": "[encoded data removed]",
      "text/plain": [
       "<Figure size 2000x1600 with 9 Axes>"
      ]
     },
     "metadata": {},
     "output_type": "display_data"
    },
    {
     "name": "stdout",
     "output_type": "stream",
     "text": [
      "\n",
      "📊 COMPREHENSIVE PERFORMANCE SUMMARY\n",
      "==================================================\n",
      "             Metric                        Value\n",
      "    Total Companies                           14\n",
      "Perfect Predictions                            1\n",
      "    Within ±5 Error                            4\n",
      "   Within ±10 Error                            6\n",
      "   Within ±20 Error                           11\n",
      "Mean Absolute Error                        13.07\n",
      "       Median Error                         12.0\n",
      "      Std Deviation                        10.14\n",
      "   Best Performance Johnson & Johnson (Error: 0)\n",
      "  Worst Performance          Netflix (Error: 38)\n",
      "\n",
      "🎯 KEY INSIGHTS:\n",
      "   • RAG achieved 100% success rate in generating scores\n",
      "   • 6/14 companies within ±10 error tolerance\n",
      "   • Average prediction error: 13.1 points\n",
      "   • RAG tends to score companies in the 75-85 range (potential optimistic bias)\n",
      "   • Best predictions are for established companies with comprehensive ESG programs\n"
     ]
    }
   ],
   "source": [
    "# Comprehensive Visualizations: RAG Scores vs Benchmark Scores\n",
    "\n",
    "import matplotlib.pyplot as plt\n",
    "import seaborn as sns\n",
    "import numpy as np\n",
    "from matplotlib.patches import Rectangle\n",
    "\n",
    "# Set up the plotting style\n",
    "plt.style.use('default')\n",
    "sns.set_palette(\"husl\")\n",
    "\n",
    "# Create a comprehensive figure with multiple subplots\n",
    "fig = plt.figure(figsize=(20, 16))\n",
    "\n",
    "# 1. Scatter plot: RAG vs Benchmark scores\n",
    "ax1 = plt.subplot(3, 3, 1)\n",
    "colors = ['red' if error > 20 else 'orange' if error > 10 else 'yellow' if error > 5 else 'green' \n",
    "          for error in results_df['Absolute_Error']]\n",
    "\n",
    "scatter = ax1.scatter(results_df['Benchmark_Score'], results_df['RAG_Score'], \n",
    "                     c=colors, s=100, alpha=0.7, edgecolors='black', linewidth=0.5)\n",
    "\n",
    "# Add perfect prediction line\n",
    "min_score = min(results_df['Benchmark_Score'].min(), results_df['RAG_Score'].min()) - 5\n",
    "max_score = max(results_df['Benchmark_Score'].max(), results_df['RAG_Score'].max()) + 5\n",
    "ax1.plot([min_score, max_score], [min_score, max_score], 'k--', alpha=0.5, label='Perfect Prediction')\n",
    "\n",
    "# Add error bands\n",
    "ax1.fill_between([min_score, max_score], [min_score-10, max_score-10], [min_score+10, max_score+10], \n",
    "                alpha=0.2, color='green', label='±10 Error Band')\n",
    "\n",
    "ax1.set_xlabel('Benchmark Score')\n",
    "ax1.set_ylabel('RAG Score')\n",
    "ax1.set_title('RAG Scores vs Benchmark Scores\\n(Color: Green=≤5 error, Yellow=6-10, Orange=11-20, Red=>20)')\n",
    "ax1.legend()\n",
    "ax1.grid(True, alpha=0.3)\n",
    "\n",
    "# Add company labels for extreme cases\n",
    "for _, row in results_df.iterrows():\n",
    "    if row['Absolute_Error'] > 20 or row['Absolute_Error'] == 0:\n",
    "        ax1.annotate(row['Company'], (row['Benchmark_Score'], row['RAG_Score']), \n",
    "                    xytext=(5, 5), textcoords='offset points', fontsize=8, alpha=0.8)\n",
    "\n",
    "# 2. Bar chart: Side-by-side comparison\n",
    "ax2 = plt.subplot(3, 3, 2)\n",
    "x = np.arange(len(results_df))\n",
    "width = 0.35\n",
    "\n",
    "bars1 = ax2.bar(x - width/2, results_df['Benchmark_Score'], width, label='Benchmark', alpha=0.8, color='skyblue')\n",
    "bars2 = ax2.bar(x + width/2, results_df['RAG_Score'], width, label='RAG Score', alpha=0.8, color='lightcoral')\n",
    "\n",
    "ax2.set_xlabel('Companies')\n",
    "ax2.set_ylabel('ESG Score')\n",
    "ax2.set_title('Side-by-Side Score Comparison')\n",
    "ax2.set_xticks(x)\n",
    "ax2.set_xticklabels(results_df['Company'], rotation=45, ha='right', fontsize=8)\n",
    "ax2.legend()\n",
    "ax2.grid(True, alpha=0.3, axis='y')\n",
    "\n",
    "# 3. Error distribution histogram\n",
    "ax3 = plt.subplot(3, 3, 3)\n",
    "ax3.hist(results_df['Absolute_Error'], bins=8, alpha=0.7, color='orange', edgecolor='black')\n",
    "ax3.axvline(results_df['Absolute_Error'].mean(), color='red', linestyle='--', \n",
    "           label=f'Mean: {results_df[\"Absolute_Error\"].mean():.1f}')\n",
    "ax3.axvline(results_df['Absolute_Error'].median(), color='blue', linestyle='--', \n",
    "           label=f'Median: {results_df[\"Absolute_Error\"].median():.1f}')\n",
    "ax3.set_xlabel('Absolute Error')\n",
    "ax3.set_ylabel('Number of Companies')\n",
    "ax3.set_title('Distribution of Prediction Errors')\n",
    "ax3.legend()\n",
    "ax3.grid(True, alpha=0.3)\n",
    "\n",
    "# 4. Error by company (horizontal bar chart)\n",
    "ax4 = plt.subplot(3, 3, 4)\n",
    "colors_bar = ['green' if error <= 5 else 'yellow' if error <= 10 else 'orange' if error <= 20 else 'red' \n",
    "              for error in results_df['Absolute_Error']]\n",
    "bars = ax4.barh(range(len(results_df)), results_df['Absolute_Error'], color=colors_bar, alpha=0.7)\n",
    "ax4.set_yticks(range(len(results_df)))\n",
    "ax4.set_yticklabels(results_df['Company'], fontsize=8)\n",
    "ax4.set_xlabel('Absolute Error')\n",
    "ax4.set_title('Prediction Error by Company')\n",
    "ax4.grid(True, alpha=0.3, axis='x')\n",
    "\n",
    "# Add error values on bars\n",
    "for i, (bar, error) in enumerate(zip(bars, results_df['Absolute_Error'])):\n",
    "    ax4.text(error + 0.5, i, f'{error:.0f}', va='center', fontsize=7)\n",
    "\n",
    "# 5. Performance category pie chart\n",
    "ax5 = plt.subplot(3, 3, 5)\n",
    "performance_counts = results_df['Performance'].value_counts()\n",
    "colors_pie = ['green', 'yellow', 'orange', 'red'][:len(performance_counts)]\n",
    "wedges, texts, autotexts = ax5.pie(performance_counts.values, labels=performance_counts.index, \n",
    "                                  autopct='%1.1f%%', colors=colors_pie, startangle=90)\n",
    "ax5.set_title('Performance Category Distribution')\n",
    "\n",
    "# 6. Score ranges comparison\n",
    "ax6 = plt.subplot(3, 3, 6)\n",
    "data_to_plot = [results_df['Benchmark_Score'], results_df['RAG_Score']]\n",
    "bp = ax6.boxplot(data_to_plot, labels=['Benchmark', 'RAG'], patch_artist=True)\n",
    "bp['boxes'][0].set_facecolor('skyblue')\n",
    "bp['boxes'][1].set_facecolor('lightcoral')\n",
    "ax6.set_ylabel('Score')\n",
    "ax6.set_title('Score Distribution Comparison')\n",
    "ax6.grid(True, alpha=0.3)\n",
    "\n",
    "# 7. Error vs Benchmark Score\n",
    "ax7 = plt.subplot(3, 3, 7)\n",
    "ax7.scatter(results_df['Benchmark_Score'], results_df['Absolute_Error'], \n",
    "           alpha=0.7, color='purple', s=80)\n",
    "# Add trend line\n",
    "z = np.polyfit(results_df['Benchmark_Score'], results_df['Absolute_Error'], 1)\n",
    "p = np.poly1d(z)\n",
    "ax7.plot(results_df['Benchmark_Score'], p(results_df['Benchmark_Score']), \"r--\", alpha=0.8)\n",
    "ax7.set_xlabel('Benchmark Score')\n",
    "ax7.set_ylabel('Absolute Error')\n",
    "ax7.set_title('Error vs Benchmark Score\\n(Check for bias patterns)')\n",
    "ax7.grid(True, alpha=0.3)\n",
    "\n",
    "# 8. Classification accuracy\n",
    "ax8 = plt.subplot(3, 3, 8)\n",
    "# Create classification mapping\n",
    "def score_to_tier(score):\n",
    "    if score >= 80: return 'A'\n",
    "    elif score >= 60: return 'B'\n",
    "    elif score >= 40: return 'C'\n",
    "    else: return 'D'\n",
    "\n",
    "results_df['Benchmark_Tier'] = results_df['Benchmark_Score'].apply(score_to_tier)\n",
    "results_df['RAG_Tier'] = results_df['RAG_Score'].apply(score_to_tier)\n",
    "\n",
    "# Confusion matrix for tiers\n",
    "from sklearn.metrics import confusion_matrix\n",
    "cm = confusion_matrix(results_df['Benchmark_Tier'], results_df['RAG_Tier'], \n",
    "                     labels=['A', 'B', 'C', 'D'])\n",
    "im = ax8.imshow(cm, interpolation='nearest', cmap=plt.cm.Blues)\n",
    "ax8.set_title('Classification Confusion Matrix')\n",
    "ax8.set_xlabel('Predicted Tier')\n",
    "ax8.set_ylabel('True Tier')\n",
    "\n",
    "# Add text annotations\n",
    "for i in range(cm.shape[0]):\n",
    "    for j in range(cm.shape[1]):\n",
    "        ax8.text(j, i, format(cm[i, j], 'd'), ha=\"center\", va=\"center\", \n",
    "                color=\"white\" if cm[i, j] > cm.max() / 2 else \"black\")\n",
    "\n",
    "ax8.set_xticks(range(len(['A', 'B', 'C', 'D'])))\n",
    "ax8.set_yticks(range(len(['A', 'B', 'C', 'D'])))\n",
    "ax8.set_xticklabels(['A', 'B', 'C', 'D'])\n",
    "ax8.set_yticklabels(['A', 'B', 'C', 'D'])\n",
    "\n",
    "# 9. Top and bottom performers comparison\n",
    "ax9 = plt.subplot(3, 3, 9)\n",
    "top_3 = results_df.head(3)\n",
    "bottom_3 = results_df.tail(3)\n",
    "combined = pd.concat([top_3, bottom_3])\n",
    "\n",
    "x_pos = np.arange(len(combined))\n",
    "ax9.bar(x_pos, combined['Absolute_Error'], \n",
    "       color=['green']*3 + ['red']*3, alpha=0.7)\n",
    "ax9.set_xticks(x_pos)\n",
    "ax9.set_xticklabels(combined['Company'], rotation=45, ha='right', fontsize=8)\n",
    "ax9.set_ylabel('Absolute Error')\n",
    "ax9.set_title('Best vs Worst Performers')\n",
    "ax9.axhline(y=results_df['Absolute_Error'].mean(), color='orange', linestyle='--', \n",
    "           label=f'Mean Error: {results_df[\"Absolute_Error\"].mean():.1f}')\n",
    "ax9.legend()\n",
    "ax9.grid(True, alpha=0.3)\n",
    "\n",
    "plt.tight_layout()\n",
    "plt.show()\n",
    "\n",
    "# Summary statistics table\n",
    "print(\"\\n📊 COMPREHENSIVE PERFORMANCE SUMMARY\")\n",
    "print(\"=\" * 50)\n",
    "summary_stats = {\n",
    "    'Metric': ['Total Companies', 'Perfect Predictions', 'Within ±5 Error', 'Within ±10 Error', \n",
    "               'Within ±20 Error', 'Mean Absolute Error', 'Median Error', 'Std Deviation', \n",
    "               'Best Performance', 'Worst Performance'],\n",
    "    'Value': [\n",
    "        len(results_df),\n",
    "        (results_df['Absolute_Error'] == 0).sum(),\n",
    "        (results_df['Absolute_Error'] <= 5).sum(),\n",
    "        (results_df['Absolute_Error'] <= 10).sum(),\n",
    "        (results_df['Absolute_Error'] <= 20).sum(),\n",
    "        f\"{results_df['Absolute_Error'].mean():.2f}\",\n",
    "        f\"{results_df['Absolute_Error'].median():.1f}\",\n",
    "        f\"{results_df['Absolute_Error'].std():.2f}\",\n",
    "        f\"{results_df.iloc[0]['Company']} (Error: {results_df.iloc[0]['Absolute_Error']:.0f})\",\n",
    "        f\"{results_df.iloc[-1]['Company']} (Error: {results_df.iloc[-1]['Absolute_Error']:.0f})\"\n",
    "    ]\n",
    "}\n",
    "\n",
    "summary_df = pd.DataFrame(summary_stats)\n",
    "print(summary_df.to_string(index=False))\n",
    "\n",
    "print(f\"\\n🎯 KEY INSIGHTS:\")\n",
    "print(f\"   • RAG achieved 100% success rate in generating scores\")\n",
    "print(f\"   • {(results_df['Absolute_Error'] <= 10).sum()}/{len(results_df)} companies within ±10 error tolerance\")\n",
    "print(f\"   • Average prediction error: {results_df['Absolute_Error'].mean():.1f} points\")\n",
    "print(f\"   • RAG tends to score companies in the 75-85 range (potential optimistic bias)\")\n",
    "print(f\"   • Best predictions are for established companies with comprehensive ESG programs\")"
   ]
  }
 ],
 "metadata": {
  "kernelspec": {
   "display_name": ".venv",
   "language": "python",
   "name": "python3"
  },
  "language_info": {
   "codemirror_mode": {
    "name": "ipython",
    "version": 3
   },
   "file_extension": ".py",
   "mimetype": "text/x-python",
   "name": "python",
   "nbconvert_exporter": "python",
   "pygments_lexer": "ipython3",
   "version": "3.13.2"
  }
 },
 "nbformat": 4,
 "nbformat_minor": 5
}
