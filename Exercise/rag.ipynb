{
 "cells": [
  {
   "cell_type": "markdown",
   "metadata": {},
   "source": [
    "**AI & Machine Learning (KAN-CINTO4003U) - Copenhagen Business School | Spring 2025**\n",
    "\n",
    "***"
   ]
  },
  {
   "cell_type": "markdown",
   "metadata": {},
   "source": [
    "\n",
    "# Part I: RAG\n",
    "\n",
    "Please see the description of the assignment in the README file (section 1) <br>\n",
    "**Guide notebook**: [guides/rag_guide.ipynb](guides/rag_guide.ipynb)\n",
    "\n",
    "\n",
    "***\n",
    "<br>\n",
    "\n",
    "* Remember to include some reflections on your results. Are there, for example, any hyperparameters that are particularly important?\n",
    "\n",
    "* You should follow the steps given in the `rag_guide` notebook to create your own RAG system.\n",
    "\n",
    "<br>\n",
    "\n",
    "***"
   ]
  },
  {
   "cell_type": "markdown",
   "metadata": {},
   "source": [
    "#### Imports"
   ]
  },
  {
   "cell_type": "code",
   "execution_count": 11,
   "metadata": {},
   "outputs": [
    {
     "name": "stdout",
     "output_type": "stream",
     "text": [
      "Requirement already satisfied: langchain-ibm in /opt/anaconda3/envs/aiml25/lib/python3.10/site-packages (0.3.10)\n",
      "Requirement already satisfied: ibm-watsonx-ai<2.0.0,>=1.2.10 in /opt/anaconda3/envs/aiml25/lib/python3.10/site-packages (from langchain-ibm) (1.3.3)\n",
      "Requirement already satisfied: langchain-core<0.4.0,>=0.3.39 in /opt/anaconda3/envs/aiml25/lib/python3.10/site-packages (from langchain-ibm) (0.3.54)\n",
      "Requirement already satisfied: requests in /opt/anaconda3/envs/aiml25/lib/python3.10/site-packages (from ibm-watsonx-ai<2.0.0,>=1.2.10->langchain-ibm) (2.32.2)\n",
      "Requirement already satisfied: httpx<0.29,>=0.27 in /opt/anaconda3/envs/aiml25/lib/python3.10/site-packages (from ibm-watsonx-ai<2.0.0,>=1.2.10->langchain-ibm) (0.28.1)\n",
      "Requirement already satisfied: urllib3 in /opt/anaconda3/envs/aiml25/lib/python3.10/site-packages (from ibm-watsonx-ai<2.0.0,>=1.2.10->langchain-ibm) (2.3.0)\n",
      "Requirement already satisfied: pandas<2.3.0,>=0.24.2 in /opt/anaconda3/envs/aiml25/lib/python3.10/site-packages (from ibm-watsonx-ai<2.0.0,>=1.2.10->langchain-ibm) (2.2.3)\n",
      "Requirement already satisfied: certifi in /opt/anaconda3/envs/aiml25/lib/python3.10/site-packages (from ibm-watsonx-ai<2.0.0,>=1.2.10->langchain-ibm) (2025.1.31)\n",
      "Requirement already satisfied: lomond in /opt/anaconda3/envs/aiml25/lib/python3.10/site-packages (from ibm-watsonx-ai<2.0.0,>=1.2.10->langchain-ibm) (0.3.3)\n",
      "Requirement already satisfied: tabulate in /opt/anaconda3/envs/aiml25/lib/python3.10/site-packages (from ibm-watsonx-ai<2.0.0,>=1.2.10->langchain-ibm) (0.9.0)\n",
      "Requirement already satisfied: packaging in /opt/anaconda3/envs/aiml25/lib/python3.10/site-packages (from ibm-watsonx-ai<2.0.0,>=1.2.10->langchain-ibm) (24.2)\n",
      "Requirement already satisfied: ibm-cos-sdk<2.15.0,>=2.12.0 in /opt/anaconda3/envs/aiml25/lib/python3.10/site-packages (from ibm-watsonx-ai<2.0.0,>=1.2.10->langchain-ibm) (2.14.0)\n",
      "Requirement already satisfied: langsmith<0.4,>=0.1.125 in /opt/anaconda3/envs/aiml25/lib/python3.10/site-packages (from langchain-core<0.4.0,>=0.3.39->langchain-ibm) (0.3.32)\n",
      "Requirement already satisfied: tenacity!=8.4.0,<10.0.0,>=8.1.0 in /opt/anaconda3/envs/aiml25/lib/python3.10/site-packages (from langchain-core<0.4.0,>=0.3.39->langchain-ibm) (9.1.2)\n",
      "Requirement already satisfied: jsonpatch<2.0,>=1.33 in /opt/anaconda3/envs/aiml25/lib/python3.10/site-packages (from langchain-core<0.4.0,>=0.3.39->langchain-ibm) (1.33)\n",
      "Requirement already satisfied: PyYAML>=5.3 in /opt/anaconda3/envs/aiml25/lib/python3.10/site-packages (from langchain-core<0.4.0,>=0.3.39->langchain-ibm) (6.0.2)\n",
      "Requirement already satisfied: typing-extensions>=4.7 in /opt/anaconda3/envs/aiml25/lib/python3.10/site-packages (from langchain-core<0.4.0,>=0.3.39->langchain-ibm) (4.13.0)\n",
      "Requirement already satisfied: pydantic<3.0.0,>=2.5.2 in /opt/anaconda3/envs/aiml25/lib/python3.10/site-packages (from langchain-core<0.4.0,>=0.3.39->langchain-ibm) (2.11.3)\n",
      "Requirement already satisfied: anyio in /opt/anaconda3/envs/aiml25/lib/python3.10/site-packages (from httpx<0.29,>=0.27->ibm-watsonx-ai<2.0.0,>=1.2.10->langchain-ibm) (4.9.0)\n",
      "Requirement already satisfied: httpcore==1.* in /opt/anaconda3/envs/aiml25/lib/python3.10/site-packages (from httpx<0.29,>=0.27->ibm-watsonx-ai<2.0.0,>=1.2.10->langchain-ibm) (1.0.7)\n",
      "Requirement already satisfied: idna in /opt/anaconda3/envs/aiml25/lib/python3.10/site-packages (from httpx<0.29,>=0.27->ibm-watsonx-ai<2.0.0,>=1.2.10->langchain-ibm) (3.10)\n",
      "Requirement already satisfied: h11<0.15,>=0.13 in /opt/anaconda3/envs/aiml25/lib/python3.10/site-packages (from httpcore==1.*->httpx<0.29,>=0.27->ibm-watsonx-ai<2.0.0,>=1.2.10->langchain-ibm) (0.14.0)\n",
      "Requirement already satisfied: ibm-cos-sdk-core==2.14.0 in /opt/anaconda3/envs/aiml25/lib/python3.10/site-packages (from ibm-cos-sdk<2.15.0,>=2.12.0->ibm-watsonx-ai<2.0.0,>=1.2.10->langchain-ibm) (2.14.0)\n",
      "Requirement already satisfied: ibm-cos-sdk-s3transfer==2.14.0 in /opt/anaconda3/envs/aiml25/lib/python3.10/site-packages (from ibm-cos-sdk<2.15.0,>=2.12.0->ibm-watsonx-ai<2.0.0,>=1.2.10->langchain-ibm) (2.14.0)\n",
      "Requirement already satisfied: jmespath<=1.0.1,>=0.10.0 in /opt/anaconda3/envs/aiml25/lib/python3.10/site-packages (from ibm-cos-sdk<2.15.0,>=2.12.0->ibm-watsonx-ai<2.0.0,>=1.2.10->langchain-ibm) (1.0.1)\n",
      "Requirement already satisfied: python-dateutil<3.0.0,>=2.9.0 in /opt/anaconda3/envs/aiml25/lib/python3.10/site-packages (from ibm-cos-sdk-core==2.14.0->ibm-cos-sdk<2.15.0,>=2.12.0->ibm-watsonx-ai<2.0.0,>=1.2.10->langchain-ibm) (2.9.0.post0)\n",
      "Requirement already satisfied: jsonpointer>=1.9 in /opt/anaconda3/envs/aiml25/lib/python3.10/site-packages (from jsonpatch<2.0,>=1.33->langchain-core<0.4.0,>=0.3.39->langchain-ibm) (3.0.0)\n",
      "Requirement already satisfied: orjson<4.0.0,>=3.9.14 in /opt/anaconda3/envs/aiml25/lib/python3.10/site-packages (from langsmith<0.4,>=0.1.125->langchain-core<0.4.0,>=0.3.39->langchain-ibm) (3.10.16)\n",
      "Requirement already satisfied: requests-toolbelt<2.0.0,>=1.0.0 in /opt/anaconda3/envs/aiml25/lib/python3.10/site-packages (from langsmith<0.4,>=0.1.125->langchain-core<0.4.0,>=0.3.39->langchain-ibm) (1.0.0)\n",
      "Requirement already satisfied: zstandard<0.24.0,>=0.23.0 in /opt/anaconda3/envs/aiml25/lib/python3.10/site-packages (from langsmith<0.4,>=0.1.125->langchain-core<0.4.0,>=0.3.39->langchain-ibm) (0.23.0)\n",
      "Requirement already satisfied: numpy>=1.22.4 in /opt/anaconda3/envs/aiml25/lib/python3.10/site-packages (from pandas<2.3.0,>=0.24.2->ibm-watsonx-ai<2.0.0,>=1.2.10->langchain-ibm) (2.2.4)\n",
      "Requirement already satisfied: pytz>=2020.1 in /opt/anaconda3/envs/aiml25/lib/python3.10/site-packages (from pandas<2.3.0,>=0.24.2->ibm-watsonx-ai<2.0.0,>=1.2.10->langchain-ibm) (2025.2)\n",
      "Requirement already satisfied: tzdata>=2022.7 in /opt/anaconda3/envs/aiml25/lib/python3.10/site-packages (from pandas<2.3.0,>=0.24.2->ibm-watsonx-ai<2.0.0,>=1.2.10->langchain-ibm) (2025.2)\n",
      "Requirement already satisfied: annotated-types>=0.6.0 in /opt/anaconda3/envs/aiml25/lib/python3.10/site-packages (from pydantic<3.0.0,>=2.5.2->langchain-core<0.4.0,>=0.3.39->langchain-ibm) (0.7.0)\n",
      "Requirement already satisfied: pydantic-core==2.33.1 in /opt/anaconda3/envs/aiml25/lib/python3.10/site-packages (from pydantic<3.0.0,>=2.5.2->langchain-core<0.4.0,>=0.3.39->langchain-ibm) (2.33.1)\n",
      "Requirement already satisfied: typing-inspection>=0.4.0 in /opt/anaconda3/envs/aiml25/lib/python3.10/site-packages (from pydantic<3.0.0,>=2.5.2->langchain-core<0.4.0,>=0.3.39->langchain-ibm) (0.4.0)\n",
      "Requirement already satisfied: charset-normalizer<4,>=2 in /opt/anaconda3/envs/aiml25/lib/python3.10/site-packages (from requests->ibm-watsonx-ai<2.0.0,>=1.2.10->langchain-ibm) (3.4.1)\n",
      "Requirement already satisfied: six>=1.10.0 in /opt/anaconda3/envs/aiml25/lib/python3.10/site-packages (from lomond->ibm-watsonx-ai<2.0.0,>=1.2.10->langchain-ibm) (1.17.0)\n",
      "Requirement already satisfied: exceptiongroup>=1.0.2 in /opt/anaconda3/envs/aiml25/lib/python3.10/site-packages (from anyio->httpx<0.29,>=0.27->ibm-watsonx-ai<2.0.0,>=1.2.10->langchain-ibm) (1.2.2)\n",
      "Requirement already satisfied: sniffio>=1.1 in /opt/anaconda3/envs/aiml25/lib/python3.10/site-packages (from anyio->httpx<0.29,>=0.27->ibm-watsonx-ai<2.0.0,>=1.2.10->langchain-ibm) (1.3.1)\n",
      "Note: you may need to restart the kernel to use updated packages.\n"
     ]
    }
   ],
   "source": [
    "# Install the required package\n",
    "%pip install langchain-ibm\n",
    "\n",
    "from decouple import config\n",
    "import os\n",
    "from dotenv import load_dotenv\n",
    "\n",
    "from langchain_ibm import WatsonxLLM\n",
    "from ibm_watsonx_ai.metanames import GenTextParamsMetaNames as GenParams"
   ]
  },
  {
   "cell_type": "code",
   "execution_count": 18,
   "metadata": {},
   "outputs": [
    {
     "name": "stdout",
     "output_type": "stream",
     "text": [
      "Collecting matplotlib\n",
      "  Downloading matplotlib-3.10.1-cp310-cp310-macosx_11_0_arm64.whl.metadata (11 kB)\n",
      "Collecting contourpy>=1.0.1 (from matplotlib)\n",
      "  Downloading contourpy-1.3.2-cp310-cp310-macosx_11_0_arm64.whl.metadata (5.5 kB)\n",
      "Collecting cycler>=0.10 (from matplotlib)\n",
      "  Downloading cycler-0.12.1-py3-none-any.whl.metadata (3.8 kB)\n",
      "Collecting fonttools>=4.22.0 (from matplotlib)\n",
      "  Downloading fonttools-4.57.0-cp310-cp310-macosx_10_9_universal2.whl.metadata (102 kB)\n",
      "Collecting kiwisolver>=1.3.1 (from matplotlib)\n",
      "  Downloading kiwisolver-1.4.8-cp310-cp310-macosx_11_0_arm64.whl.metadata (6.2 kB)\n",
      "Requirement already satisfied: numpy>=1.23 in /opt/anaconda3/envs/aiml25/lib/python3.10/site-packages (from matplotlib) (2.2.4)\n",
      "Requirement already satisfied: packaging>=20.0 in /opt/anaconda3/envs/aiml25/lib/python3.10/site-packages (from matplotlib) (24.2)\n",
      "Collecting pillow>=8 (from matplotlib)\n",
      "  Downloading pillow-11.2.1-cp310-cp310-macosx_11_0_arm64.whl.metadata (8.9 kB)\n",
      "Collecting pyparsing>=2.3.1 (from matplotlib)\n",
      "  Downloading pyparsing-3.2.3-py3-none-any.whl.metadata (5.0 kB)\n",
      "Requirement already satisfied: python-dateutil>=2.7 in /opt/anaconda3/envs/aiml25/lib/python3.10/site-packages (from matplotlib) (2.9.0.post0)\n",
      "Requirement already satisfied: six>=1.5 in /opt/anaconda3/envs/aiml25/lib/python3.10/site-packages (from python-dateutil>=2.7->matplotlib) (1.17.0)\n",
      "Downloading matplotlib-3.10.1-cp310-cp310-macosx_11_0_arm64.whl (8.0 MB)\n",
      "\u001b[2K   \u001b[90m━━━━━━━━━━━━━━━━━━━━━━━━━━━━━━━━━━━━━━━━\u001b[0m \u001b[32m8.0/8.0 MB\u001b[0m \u001b[31m26.2 MB/s\u001b[0m eta \u001b[36m0:00:00\u001b[0ma \u001b[36m0:00:01\u001b[0m\n",
      "\u001b[?25hDownloading contourpy-1.3.2-cp310-cp310-macosx_11_0_arm64.whl (253 kB)\n",
      "Downloading cycler-0.12.1-py3-none-any.whl (8.3 kB)\n",
      "Downloading fonttools-4.57.0-cp310-cp310-macosx_10_9_universal2.whl (2.8 MB)\n",
      "\u001b[2K   \u001b[90m━━━━━━━━━━━━━━━━━━━━━━━━━━━━━━━━━━━━━━━━\u001b[0m \u001b[32m2.8/2.8 MB\u001b[0m \u001b[31m36.3 MB/s\u001b[0m eta \u001b[36m0:00:00\u001b[0m\n",
      "\u001b[?25hDownloading kiwisolver-1.4.8-cp310-cp310-macosx_11_0_arm64.whl (65 kB)\n",
      "Downloading pillow-11.2.1-cp310-cp310-macosx_11_0_arm64.whl (3.0 MB)\n",
      "\u001b[2K   \u001b[90m━━━━━━━━━━━━━━━━━━━━━━━━━━━━━━━━━━━━━━━━\u001b[0m \u001b[32m3.0/3.0 MB\u001b[0m \u001b[31m42.1 MB/s\u001b[0m eta \u001b[36m0:00:00\u001b[0m\n",
      "\u001b[?25hDownloading pyparsing-3.2.3-py3-none-any.whl (111 kB)\n",
      "Installing collected packages: pyparsing, pillow, kiwisolver, fonttools, cycler, contourpy, matplotlib\n",
      "Successfully installed contourpy-1.3.2 cycler-0.12.1 fonttools-4.57.0 kiwisolver-1.4.8 matplotlib-3.10.1 pillow-11.2.1 pyparsing-3.2.3\n",
      "Note: you may need to restart the kernel to use updated packages.\n"
     ]
    }
   ],
   "source": [
    "pip install matplotlib\n"
   ]
  },
  {
   "cell_type": "code",
   "execution_count": 21,
   "metadata": {},
   "outputs": [
    {
     "name": "stdout",
     "output_type": "stream",
     "text": [
      "Collecting chroma\n",
      "  Downloading Chroma-0.2.0.tar.gz (5.8 kB)\n",
      "  Preparing metadata (setup.py) ... \u001b[?25l  Downloading Chroma-0.2.0.tar.gz (5.8 kB)\n",
      "  Preparing metadata (setup.py) ... \u001b[?25ldone\n",
      "\u001b[?25hdone\n",
      "\u001b[?25hBuilding wheels for collected packages: chroma\n",
      "  Building wheel for chroma (setup.py) ... \u001b[?25lBuilding wheels for collected packages: chroma\n",
      "  Building wheel for chroma (setup.py) ... \u001b[?25l-done\n",
      "\u001b[?25h  Created wheel for chroma: filename=Chroma-0.2.0-py3-none-any.whl size=7138 sha256=a69c249e2f73f34a2d01b66193620b15a9be43de01ed90a23ca36ad0e856399b\n",
      "  Stored in directory: /Users/wenlong/Library/Caches/pip/wheels/58/74/75/a6ab7999ae473ecbe819bc5cae9ccb902429dd6c60795f5112\n",
      "Successfully built chroma\n",
      "\bdone\n",
      "\u001b[?25h  Created wheel for chroma: filename=Chroma-0.2.0-py3-none-any.whl size=7138 sha256=a69c249e2f73f34a2d01b66193620b15a9be43de01ed90a23ca36ad0e856399b\n",
      "  Stored in directory: /Users/wenlong/Library/Caches/pip/wheels/58/74/75/a6ab7999ae473ecbe819bc5cae9ccb902429dd6c60795f5112\n",
      "Successfully built chroma\n",
      "Installing collected packages: chroma\n",
      "Installing collected packages: chroma\n",
      "Successfully installed chroma-0.2.0\n",
      "Successfully installed chroma-0.2.0\n",
      "Note: you may need to restart the kernel to use updated packages.\n",
      "Note: you may need to restart the kernel to use updated packages.\n"
     ]
    }
   ],
   "source": [
    "pip install chroma\n"
   ]
  },
  {
   "cell_type": "code",
   "execution_count": 23,
   "metadata": {},
   "outputs": [],
   "source": [
    "from typing import Literal, Any\n",
    "from copy import deepcopy\n",
    "import langchain_chroma\n",
    "\n",
    "from typing_extensions import TypedDict\n",
    "import matplotlib.pyplot as plt\n",
    "import numpy as np\n",
    "from decouple import config\n",
    "from pydantic import BaseModel, Field\n",
    "from IPython.display import Image, display\n",
    "from tqdm import tqdm\n",
    "\n",
    "from langchain_chroma import Chroma\n",
    "from langchain_core.documents import Document\n",
    "from langchain_community.document_loaders import TextLoader\n",
    "from langchain_text_splitters.markdown import MarkdownHeaderTextSplitter\n",
    "from langchain.prompts import PromptTemplate\n",
    "from langchain_ibm import WatsonxEmbeddings\n",
    "from langchain_ibm import WatsonxLLM\n",
    "from langgraph.graph import START, StateGraph\n",
    "from ibm_watsonx_ai.metanames import GenTextParamsMetaNames as GenParams\n",
    "\n",
    "import litellm\n",
    "from litellm import completion\n",
    "import instructor\n",
    "from instructor import Mode"
   ]
  },
  {
   "cell_type": "markdown",
   "metadata": {},
   "source": [
    "#### Retrieve secrets"
   ]
  },
  {
   "cell_type": "code",
   "execution_count": 24,
   "metadata": {},
   "outputs": [],
   "source": [
    "import os\n",
    "from dotenv import load_dotenv\n",
    "from decouple import config\n",
    "\n",
    "\n",
    "env_path = \"/Users/wenlong/Documents/GitHub/ma3/assignments/.env\"\n",
    "load_dotenv(dotenv_path=env_path)\n",
    "\n",
    "WX_API_KEY = config(\"WX_API_KEY\")\n",
    "WX_PROJECT_ID = config(\"WX_PROJECT_ID\")\n",
    "WX_API_URL = \"https://us-south.ml.cloud.ibm.com\"\n",
    "\n",
    "\n"
   ]
  },
  {
   "cell_type": "code",
   "execution_count": 29,
   "metadata": {},
   "outputs": [],
   "source": [
    "import re\n",
    "import unicodedata\n",
    "\n",
    "def preprocess_text(text: str) -> str:\n",
    "    \"\"\"\n",
    "    Basic document preprocessing:\n",
    "    - Normalize Unicode characters\n",
    "    - Remove HTML tags\n",
    "    - Remove unwanted special characters\n",
    "    - Normalize whitespace\n",
    "    - Convert to lowercase\n",
    "    \"\"\"\n",
    "    text = unicodedata.normalize(\"NFKC\", text)\n",
    "    text = re.sub(r\"<[^>]+>\", \" \", text)  # Remove HTML\n",
    "    text = re.sub(r\"[^a-zA-Z0-9.,;:!?()\\-\\'\\\"\\n ]+\", \" \", text)  # Clean special chars\n",
    "    text = re.sub(r\"\\s+\", \" \", text)  # Normalize whitespace\n",
    "    return text.strip().lower()\n"
   ]
  },
  {
   "cell_type": "markdown",
   "metadata": {},
   "source": [
    "#### Authenticate and initialize LLM"
   ]
  },
  {
   "cell_type": "code",
   "execution_count": 60,
   "metadata": {},
   "outputs": [],
   "source": [
    "llm = WatsonxLLM(\n",
    "\n",
    "        model_id= \"mistralai/mistral-large\",\n",
    "        url=WX_API_URL,\n",
    "        apikey=WX_API_KEY,\n",
    "        project_id=WX_PROJECT_ID,\n",
    "\n",
    "        params={\n",
    "            GenParams.DECODING_METHOD: \"greedy\",\n",
    "            GenParams.TEMPERATURE: 0,\n",
    "            GenParams.MIN_NEW_TOKENS: 5,\n",
    "            GenParams.MAX_NEW_TOKENS: 1_000,\n",
    "            GenParams.REPETITION_PENALTY:1.2\n",
    "        }\n",
    "\n",
    ")"
   ]
  },
  {
   "cell_type": "markdown",
   "metadata": {},
   "source": [
    "#### Use LLM"
   ]
  },
  {
   "cell_type": "code",
   "execution_count": 61,
   "metadata": {},
   "outputs": [
    {
     "name": "stdout",
     "output_type": "stream",
     "text": [
      "<class 'langchain_core.outputs.llm_result.LLMResult'>\n",
      "generations=[[Generation(text='\\nI have a question about the use of \"the\" in this sentence:\\n\\nThe first thing I do when I get home is to take off my shoes. The second thing I do is (to) wash my hands and face with soap and water, then dry them on a clean towel. After that, I change into comfortable clothes before starting any other activity at home like cooking dinner or watching TV shows online from Netflix streaming service which has become very popular lately because it offers unlimited access for only $8 per month! It\\'s really convenient since there are no commercials interrupting your favorite show every few minutes as they used to be back in the days when we had cable television services instead of internet-based ones such as Hulu Plus ($7/month), Amazon Prime Video($99 annually but includes free shipping benefits too!) etcetera... What should come after “is” ? To or nothing??', generation_info={'finish_reason': 'eos_token'})]] llm_output={'token_usage': {'generated_token_count': 188, 'input_token_count': 6}, 'model_id': 'mistralai/mistral-large', 'deployment_id': None} run=[RunInfo(run_id=UUID('302cb678-1a64-4314-a416-7c31f8841f6e'))] type='LLMResult'\n",
      "\n",
      "\n",
      "I love the German Shepherd Dog (GSD\n",
      "\n",
      "I love the German Shepherd Dog (GSD). I have had two in my life). I have had two in my life, both rescues from shelters or rescue organizations. The first was a female named Kira, both rescues from shelters or rescue organizations. The first was a female named Kira who lived to be 13 years old. My who lived to be 13 years old. My current GSD is a male named Maximus who current GSD is a male named Maximus who will turn 8 this year. Both dogs are/ will turn 8 this year. Both dogs are/were very intelligent with strong personalitieswere very intelligent with strong personalities that made them great companions for me as an active person living alone at times that made them great companions for me as an active person living alone at times. They also make excellent guardians because they can sense. They also make excellent guardians because they can sense danger before humans do! danger before humans do!"
     ]
    }
   ],
   "source": [
    "llm_result = llm.generate([\"Hi how are you?\"])\n",
    "\n",
    "print(type(llm_result))\n",
    "print(llm_result)\n",
    "\n",
    "for chunk in llm.stream(\n",
    "    \"Describe your favorite breed of dog and why it is your favorite.\"\n",
    "):\n",
    "    print(chunk, end=\"\")"
   ]
  },
  {
   "cell_type": "code",
   "execution_count": 62,
   "metadata": {},
   "outputs": [
    {
     "name": "stdout",
     "output_type": "stream",
     "text": [
      "Before:\n",
      " # About MadeUpCompany\n",
      "MadeUpCompany is a pioneering technology firm founded in 2010, specializing in cloud computing, data analytics, and machine learning. Headquartered in San Francisco, California, we have a global presence with satellite offices in New York, London, and Tokyo. Our mission is to empower businesses and individuals with cutting-edge technology that enhances efficiency, scalability, and innovation.\n",
      "\n",
      "With a diverse team of experts from various industries—including AI research, cyb\n",
      "\n",
      "After:\n",
      " about madeupcompany madeupcompany is a pioneering technology firm founded in 2010, specializing in cloud computing, data analytics, and machine learning. headquartered in san francisco, california, we have a global presence with satellite offices in new york, london, and tokyo. our mission is to empower businesses and individuals with cutting-edge technology that enhances efficiency, scalability, and innovation. with a diverse team of experts from various industries including ai research, cybers\n"
     ]
    }
   ],
   "source": [
    "document = TextLoader(\"data/madeup_company.md\").load()[0]\n",
    "\n",
    "# Preprocess content\n",
    "raw_text = document.page_content\n",
    "cleaned_text = preprocess_text(raw_text)\n",
    "document.page_content = cleaned_text\n",
    "\n",
    "print(\"Before:\\n\", raw_text[:500])\n",
    "print(\"\\nAfter:\\n\", cleaned_text[:500])\n"
   ]
  },
  {
   "cell_type": "code",
   "execution_count": 63,
   "metadata": {},
   "outputs": [],
   "source": [
    "embed_params = {}\n",
    "\n",
    "watsonx_embedding = WatsonxEmbeddings(\n",
    "    model_id=\"ibm/granite-embedding-278m-multilingual\",\n",
    "    url=WX_API_URL,\n",
    "    project_id=WX_PROJECT_ID,\n",
    "    apikey=WX_API_KEY,\n",
    "    params=embed_params,\n",
    ")"
   ]
  },
  {
   "cell_type": "code",
   "execution_count": 85,
   "metadata": {},
   "outputs": [],
   "source": [
    "from langchain_community.document_loaders import TextLoader\n",
    "\n",
    "# Load raw document\n",
    "document = TextLoader(\"data/madeup_company.md\").load()[0]\n",
    "\n",
    "# Preprocess the content\n",
    "raw_text = document.page_content\n",
    "cleaned_text = preprocess_text(raw_text)\n",
    "document.page_content = cleaned_text\n",
    "\n",
    "# Chunk the preprocessed document\n",
    "headers_to_split_on = [(\"#\", \"Header 1\"), (\"##\", \"Header 2\"), (\"###\", \"Header 3\"), (\"####\", \"Header 4\")]\n",
    "\n",
    "from langchain_text_splitters import RecursiveCharacterTextSplitter, MarkdownHeaderTextSplitter\n",
    "\n",
    "# First, split based on Markdown headers\n",
    "markdown_splitter = MarkdownHeaderTextSplitter(headers_to_split_on=headers_to_split_on)\n",
    "header_chunks = markdown_splitter.split_text(document.page_content)\n",
    "\n",
    "# # Then, apply a secondary splitter that limits chunk size\n",
    "# token_safe_splitter = RecursiveCharacterTextSplitter(\n",
    "#     chunk_size=450,       # below 512-token limit\n",
    "#     chunk_overlap=50,     # some overlap to preserve context\n",
    "# )\n",
    "\n",
    "# # Flatten out any large chunks further\n",
    "# safe_chunks = token_safe_splitter.split_documents(header_chunks)\n",
    "\n",
    "\n",
    "\n",
    "# Improved chunking using hierarchical separators\n",
    "token_safe_splitter = RecursiveCharacterTextSplitter(\n",
    "    chunk_size=300,\n",
    "    chunk_overlap=60,\n",
    "    separators=[\"\\n\\n\", \"\\n\", \".\", \" \", \"\"],  # Try larger chunks first, then break smaller\n",
    ")\n",
    "\n",
    "safe_chunks = token_safe_splitter.split_documents(header_chunks)\n",
    "\n",
    "\n",
    "\n",
    "docs = update_documents_with_headers(safe_chunks)\n",
    "\n",
    "local_vector_db = Chroma.from_documents(\n",
    "    collection_name=\"my_collection\",\n",
    "    embedding=watsonx_embedding,\n",
    "    persist_directory=\"my_vector_db\",\n",
    "    documents=docs,\n",
    ")"
   ]
  },
  {
   "cell_type": "code",
   "execution_count": 86,
   "metadata": {},
   "outputs": [
    {
     "data": {
      "text/plain": [
       "[Document(metadata={}, page_content='about madeupcompany madeupcompany is a pioneering technology firm founded in 2010, specializing in cloud computing, data analytics, and machine learning. headquartered in san francisco, california, we have a global presence with satellite offices in new york, london, and tokyo'),\n",
       " Document(metadata={}, page_content='. our mission is to empower businesses and individuals with cutting-edge technology that enhances efficiency, scalability, and innovation'),\n",
       " Document(metadata={}, page_content='. with a diverse team of experts from various industries including ai research, cybersecurity, and enterprise software development we push the boundaries of what s possible'),\n",
       " Document(metadata={}, page_content='. our commitment to continuous improvement, security, and customer success has earned us recognition as a leader in the tech space. our values at madeupcompany, we believe in: - innovation continuously developing and refining solutions that meet the evolving needs of businesses'),\n",
       " Document(metadata={}, page_content=\". - security privacy implementing world-class security protocols to protect our customers' data. - customer-centric approach designing intuitive, powerful tools that make complex technology accessible. - sustainability ensuring our infrastructure is energy-efficient and environmentally responsible\"),\n",
       " Document(metadata={}, page_content='. products and services we offer a comprehensive suite of cloud-based solutions that streamline operations, enhance decision-making, and power ai-driven insights. our core products include cloudmate, datawiz, and custom ai solutions'),\n",
       " Document(metadata={}, page_content='. cloudmate secure and scalable cloud storage cloudmate is our flagship cloud storage solution, designed for businesses of all sizes'),\n",
       " Document(metadata={}, page_content='. features include: - seamless data migration with automated backups - military-grade encryption and multi-factor authentication - role-based access control for enterprise security - ai-powered file organization and search capabilities datawiz advanced data analytics datawiz transforms raw data into'),\n",
       " Document(metadata={}, page_content='advanced data analytics datawiz transforms raw data into actionable insights using cutting-edge machine learning models'),\n",
       " Document(metadata={}, page_content='. features include: - predictive analytics for demand forecasting and customer behavior modeling - real-time dashboards with customizable reporting - api integrations with popular business intelligence tools - automated anomaly detection for fraud prevention and operational efficiency custom ai'),\n",
       " Document(metadata={}, page_content='for fraud prevention and operational efficiency custom ai solutions we provide tailored machine learning models to optimize business workflows, automate repetitive tasks, and enhance decision-making'),\n",
       " Document(metadata={}, page_content='. from nlp-based chatbots to ai-driven recommendation engines, we develop bespoke ai solutions for various industries. pricing we offer flexible pricing plans to meet the needs of individuals, small businesses, and large enterprises'),\n",
       " Document(metadata={}, page_content='. cloudmate plans our secure and scalable cloud storage service, cloudmate, is available in the following plans: - basic: 9.99 month 100gb storage, essential security features - professional: 29'),\n",
       " Document(metadata={}, page_content='.99 month 1tb storage, enhanced security, priority support - enterprise: custom pricing unlimited storage, advanced compliance tools, dedicated account manager datawiz plans our advanced data analytics platform, datawiz, offers the following plans: - starter: 49 month basic analytics, limited ai'),\n",
       " Document(metadata={}, page_content='plans: - starter: 49 month basic analytics, limited ai insights - growth: 99 month advanced machine learning models, predictive analytics - enterprise: custom pricing full ai customization, dedicated data scientists - custom ai solutions pricing is determined based on project scope and complexity'),\n",
       " Document(metadata={}, page_content='. contact our sales team for a personalized quote. technical support our award-winning customer support team is available 24 7 to assist with any technical issues'),\n",
       " Document(metadata={}, page_content='. support channels include: - toll-free phone support - live chat assistance - email support with guaranteed response within 6 hours - comprehensive faq and user guides available on our website - community forum for peer-to-peer discussions and best practices most technical issues are resolved'),\n",
       " Document(metadata={}, page_content='and best practices most technical issues are resolved within 24 hours, ensuring minimal downtime for your business'),\n",
       " Document(metadata={}, page_content='. security and compliance security is at the heart of everything we do. madeupcompany adheres to the highest security and regulatory standards, including: - gdpr, hipaa, and soc 2 compliance ensuring global security and data protection compliance'),\n",
       " Document(metadata={}, page_content='. - end-to-end encryption protecting data in transit and at rest with aes-256 encryption. - zero trust architecture implementing rigorous access control and continuous authentication. - ddos protection advanced threat detection safeguarding against cyber threats with ai-powered monitoring'),\n",
       " Document(metadata={}, page_content='. our team continuously updates security measures to stay ahead of evolving cyber risks. account management managing your madeupcompany services is simple and intuitive via our online portal'),\n",
       " Document(metadata={}, page_content='. customers can: - upgrade or downgrade plans at any time - access billing history and download invoices - manage multiple users and set role-based permissions - track storage and analytics usage in real time for enterprise accounts, we offer dedicated account managers who provide strategic guidance'),\n",
       " Document(metadata={}, page_content='dedicated account managers who provide strategic guidance and personalized support'),\n",
       " Document(metadata={}, page_content=\". refund and cancellation policy we stand by the quality of our services and offer a 30-day money-back guarantee on all plans. if you're not satisfied, you can request a full refund within the first 30 days\"),\n",
       " Document(metadata={}, page_content='. after 30 days, you may cancel your subscription at any time, and we ll issue a prorated refund based on your remaining subscription period. enterprise contracts include a flexible exit clause, ensuring fair terms for long-term clients'),\n",
       " Document(metadata={}, page_content='. upcoming features roadmap we are constantly evolving and introducing new features based on customer feedback. here s what s coming soon: - ai-driven data insights datawiz will introduce automated trend forecasting powered by deep learning'),\n",
       " Document(metadata={}, page_content='. - collaboration tools for cloudmate enhanced real-time document editing and team workspaces for seamless collaboration. - zero-knowledge encryption an optional feature for businesses requiring absolute data confidentiality'),\n",
       " Document(metadata={}, page_content=\". we value our customers' input and prioritize updates that deliver the most impact\"),\n",
       " Document(metadata={}, page_content=\". why choose us? - over 1 million satisfied users worldwide - trusted by fortune 500 companies - featured in techcrunch, forbes, and wired as a top innovator - unmatched customer support and security whether you're a startup, an enterprise, or an individual user, madeupcompany provides the tools you\"),\n",
       " Document(metadata={}, page_content='or an individual user, madeupcompany provides the tools you need to thrive in the digital age'),\n",
       " Document(metadata={}, page_content='. contact for more information, visit our website at www.madeupcompany.com or contact our sales team at sales madeupcompany.com.')]"
      ]
     },
     "execution_count": 86,
     "metadata": {},
     "output_type": "execute_result"
    }
   ],
   "source": [
    "safe_chunks"
   ]
  },
  {
   "cell_type": "code",
   "execution_count": 87,
   "metadata": {},
   "outputs": [],
   "source": [
    "from copy import deepcopy\n",
    "\n",
    "def update_documents_with_headers(chunks):\n",
    "    \"\"\"\n",
    "    Creates a new list of Document objects with page_content prepended with headers\n",
    "    in [Header1/Header2/Header3]: format\n",
    "    \n",
    "    Returns new objects rather than modifying the original chunks\n",
    "    \"\"\"\n",
    "    updated_chunks = []\n",
    "    \n",
    "    for doc in chunks:\n",
    "        # Create a deep copy of the document to avoid modifying the original\n",
    "        new_doc = deepcopy(doc)\n",
    "        \n",
    "        # Get all headers that exist in metadata\n",
    "        headers = []\n",
    "        for i in range(1, 4):\n",
    "            key = f'Header {i}'\n",
    "            if key in new_doc.metadata:\n",
    "                headers.append(new_doc.metadata[key])\n",
    "        \n",
    "        # Create the header prefix and update page_content\n",
    "        if headers:\n",
    "            prefix = f\"[{'/'.join(headers)}]: \"\n",
    "            new_doc.page_content = prefix + \"\\n\" + new_doc.page_content\n",
    "        \n",
    "        updated_chunks.append(new_doc)\n",
    "    \n",
    "    return updated_chunks\n",
    "\n",
    "\n",
    "docs = update_documents_with_headers(safe_chunks)"
   ]
  },
  {
   "cell_type": "code",
   "execution_count": 88,
   "metadata": {},
   "outputs": [
    {
     "name": "stdout",
     "output_type": "stream",
     "text": [
      "about madeupcompany madeupcompany is a pioneering technology firm founded in 2010, specializing in cloud computing, data analytics, and machine learning. headquartered in san francisco, california, we have a global presence with satellite offices in new york, london, and tokyo\n",
      "\n",
      ". our mission is to empower businesses and individuals with cutting-edge technology that enhances efficiency, scalability, and innovation\n",
      "\n",
      ". with a diverse team of experts from various industries including ai research, cybersecurity, and enterprise software development we push the boundaries of what s possible\n",
      "\n",
      ". our commitment to continuous improvement, security, and customer success has earned us recognition as a leader in the tech space. our values at madeupcompany, we believe in: - innovation continuously developing and refining solutions that meet the evolving needs of businesses\n",
      "\n",
      ". - security privacy implementing world-class security protocols to protect our customers' data. - customer-centric approach designing intuitive, powerful tools that make complex technology accessible. - sustainability ensuring our infrastructure is energy-efficient and environmentally responsible\n",
      "\n",
      ". products and services we offer a comprehensive suite of cloud-based solutions that streamline operations, enhance decision-making, and power ai-driven insights. our core products include cloudmate, datawiz, and custom ai solutions\n",
      "\n",
      ". cloudmate secure and scalable cloud storage cloudmate is our flagship cloud storage solution, designed for businesses of all sizes\n",
      "\n",
      ". features include: - seamless data migration with automated backups - military-grade encryption and multi-factor authentication - role-based access control for enterprise security - ai-powered file organization and search capabilities datawiz advanced data analytics datawiz transforms raw data into\n",
      "\n",
      "advanced data analytics datawiz transforms raw data into actionable insights using cutting-edge machine learning models\n",
      "\n",
      ". features include: - predictive analytics for demand forecasting and customer behavior modeling - real-time dashboards with customizable reporting - api integrations with popular business intelligence tools - automated anomaly detection for fraud prevention and operational efficiency custom ai\n",
      "\n",
      "for fraud prevention and operational efficiency custom ai solutions we provide tailored machine learning models to optimize business workflows, automate repetitive tasks, and enhance decision-making\n",
      "\n",
      ". from nlp-based chatbots to ai-driven recommendation engines, we develop bespoke ai solutions for various industries. pricing we offer flexible pricing plans to meet the needs of individuals, small businesses, and large enterprises\n",
      "\n",
      ". cloudmate plans our secure and scalable cloud storage service, cloudmate, is available in the following plans: - basic: 9.99 month 100gb storage, essential security features - professional: 29\n",
      "\n",
      ".99 month 1tb storage, enhanced security, priority support - enterprise: custom pricing unlimited storage, advanced compliance tools, dedicated account manager datawiz plans our advanced data analytics platform, datawiz, offers the following plans: - starter: 49 month basic analytics, limited ai\n",
      "\n",
      "plans: - starter: 49 month basic analytics, limited ai insights - growth: 99 month advanced machine learning models, predictive analytics - enterprise: custom pricing full ai customization, dedicated data scientists - custom ai solutions pricing is determined based on project scope and complexity\n",
      "\n",
      ". contact our sales team for a personalized quote. technical support our award-winning customer support team is available 24 7 to assist with any technical issues\n",
      "\n",
      ". support channels include: - toll-free phone support - live chat assistance - email support with guaranteed response within 6 hours - comprehensive faq and user guides available on our website - community forum for peer-to-peer discussions and best practices most technical issues are resolved\n",
      "\n",
      "and best practices most technical issues are resolved within 24 hours, ensuring minimal downtime for your business\n",
      "\n",
      ". security and compliance security is at the heart of everything we do. madeupcompany adheres to the highest security and regulatory standards, including: - gdpr, hipaa, and soc 2 compliance ensuring global security and data protection compliance\n",
      "\n",
      ". - end-to-end encryption protecting data in transit and at rest with aes-256 encryption. - zero trust architecture implementing rigorous access control and continuous authentication. - ddos protection advanced threat detection safeguarding against cyber threats with ai-powered monitoring\n",
      "\n",
      ". our team continuously updates security measures to stay ahead of evolving cyber risks. account management managing your madeupcompany services is simple and intuitive via our online portal\n",
      "\n",
      ". customers can: - upgrade or downgrade plans at any time - access billing history and download invoices - manage multiple users and set role-based permissions - track storage and analytics usage in real time for enterprise accounts, we offer dedicated account managers who provide strategic guidance\n",
      "\n",
      "dedicated account managers who provide strategic guidance and personalized support\n",
      "\n",
      ". refund and cancellation policy we stand by the quality of our services and offer a 30-day money-back guarantee on all plans. if you're not satisfied, you can request a full refund within the first 30 days\n",
      "\n",
      ". after 30 days, you may cancel your subscription at any time, and we ll issue a prorated refund based on your remaining subscription period. enterprise contracts include a flexible exit clause, ensuring fair terms for long-term clients\n",
      "\n",
      ". upcoming features roadmap we are constantly evolving and introducing new features based on customer feedback. here s what s coming soon: - ai-driven data insights datawiz will introduce automated trend forecasting powered by deep learning\n",
      "\n",
      ". - collaboration tools for cloudmate enhanced real-time document editing and team workspaces for seamless collaboration. - zero-knowledge encryption an optional feature for businesses requiring absolute data confidentiality\n",
      "\n",
      ". we value our customers' input and prioritize updates that deliver the most impact\n",
      "\n",
      ". why choose us? - over 1 million satisfied users worldwide - trusted by fortune 500 companies - featured in techcrunch, forbes, and wired as a top innovator - unmatched customer support and security whether you're a startup, an enterprise, or an individual user, madeupcompany provides the tools you\n",
      "\n",
      "or an individual user, madeupcompany provides the tools you need to thrive in the digital age\n",
      "\n",
      ". contact for more information, visit our website at www.madeupcompany.com or contact our sales team at sales madeupcompany.com.\n",
      "\n"
     ]
    }
   ],
   "source": [
    "for doc in docs:\n",
    "    print(doc.page_content, end=\"\\n\\n\")"
   ]
  },
  {
   "cell_type": "code",
   "execution_count": 89,
   "metadata": {},
   "outputs": [],
   "source": [
    "local_vector_db = Chroma.from_documents(\n",
    "    collection_name=\"my_collection\",\n",
    "    embedding=watsonx_embedding,\n",
    "    persist_directory=\"my_vector_db\", # This will save the vector database to disk! Delete it if you want to start fresh.\n",
    "    documents=docs,\n",
    "    \n",
    ")"
   ]
  },
  {
   "cell_type": "code",
   "execution_count": 90,
   "metadata": {},
   "outputs": [],
   "source": [
    "# Use the vectorstore as a retriever\n",
    "retriever = local_vector_db.as_retriever(\n",
    "    search_type=\"similarity\",\n",
    "    search_kwargs={\n",
    "        \"k\": 10,\n",
    "    }\n",
    ")"
   ]
  },
  {
   "cell_type": "code",
   "execution_count": 91,
   "metadata": {},
   "outputs": [
    {
     "name": "stdout",
     "output_type": "stream",
     "text": [
      "################################################################################\n",
      "ID: 48f9814b-97f2-4725-97b4-7728d7475723\n",
      "Content: . refund and cancellation policy we stand by the quality of our services and offer a 30-day money-back guarantee on all plans. if you're not satisfied, you can request a full refund within the first 30 days\n",
      "\n",
      "################################################################################\n",
      "ID: 6fdf7692-7700-4aaf-98dc-7876f19948cf\n",
      "Content: . refund and cancellation policy we stand by the quality of our services and offer a 30-day money-back guarantee on all plans. if you're not satisfied, you can request a full refund within the first 30 days\n",
      "\n",
      "################################################################################\n",
      "ID: 74cc8a6f-3034-4569-8c15-43a125cc3d35\n",
      "Content: . after 30 days, you may cancel your subscription at any time, and we ll issue a prorated refund based on your remaining subscription period. enterprise contracts include a flexible exit clause, ensuring fair terms for long-term clients\n",
      "\n",
      "################################################################################\n",
      "ID: a0e4e008-c3f7-40fb-b980-d7c648e72db4\n",
      "Content: . after 30 days, you may cancel your subscription at any time, and we ll issue a prorated refund based on your remaining subscription period. enterprise contracts include a flexible exit clause, ensuring fair terms for long-term clients\n",
      "\n",
      "################################################################################\n",
      "ID: 87cb6873-ac40-4b7e-90a0-4fccad8bb56a\n",
      "Content: [About MadeUpCompany/Refund and Cancellation Policy]: \n",
      "We stand by the quality of our services and offer a 30-day money-back guarantee on all plans.  \n",
      "If you're not satisfied, you can request a full refund within the first 30 days.\n",
      "After 30 days, you may cancel your subscription at any time, and we’ll issue a prorated refund based on your remaining subscription period.\n",
      "Enterprise contracts include a flexible exit clause, ensuring fair terms for long-term clients.\n",
      "Upcoming Features\n",
      "\n",
      "################################################################################\n",
      "ID: 98fd3388-3703-4252-857e-23c3cd8c8ceb\n",
      "Content: managers who provide strategic guidance and personalized support. refund and cancellation policy we stand by the quality of our services and offer a 30-day money-back guarantee on all plans. if you're not satisfied, you can request a full refund within the first 30 days. after 30 days, you may cancel your subscription at any time, and we ll issue a prorated refund based on your remaining subscription period. enterprise contracts include a\n",
      "\n",
      "################################################################################\n",
      "ID: b9821bf3-544c-4a11-9cb0-b609d8aa33cd\n",
      "Content: managers who provide strategic guidance and personalized support. refund and cancellation policy we stand by the quality of our services and offer a 30-day money-back guarantee on all plans. if you're not satisfied, you can request a full refund within the first 30 days. after 30 days, you may cancel your subscription at any time, and we ll issue a prorated refund based on your remaining subscription period. enterprise contracts include a\n",
      "\n",
      "################################################################################\n",
      "ID: f6c44335-94c6-461a-bcc0-647e61bbf33b\n",
      "Content: managers who provide strategic guidance and personalized support. refund and cancellation policy we stand by the quality of our services and offer a 30-day money-back guarantee on all plans. if you're not satisfied, you can request a full refund within the first 30 days. after 30 days, you may cancel your subscription at any time, and we ll issue a prorated refund based on your remaining subscription period. enterprise contracts include a\n",
      "\n",
      "################################################################################\n",
      "ID: cab13002-30ef-48be-8746-2ef1f6bbe92d\n",
      "Content: managers who provide strategic guidance and personalized support. refund and cancellation policy we stand by the quality of our services and offer a 30-day money-back guarantee on all plans. if you're not satisfied, you can request a full refund within the first 30 days. after 30 days, you may cancel your subscription at any time, and we ll issue a prorated refund based on your remaining subscription period. enterprise contracts include a\n",
      "\n",
      "################################################################################\n",
      "ID: 8502ac58-055e-4c9c-acb5-115dbfb07aaf\n",
      "Content: managers who provide strategic guidance and personalized support. refund and cancellation policy we stand by the quality of our services and offer a 30-day money-back guarantee on all plans. if you're not satisfied, you can request a full refund within the first 30 days. after 30 days, you may cancel your subscription at any time, and we ll issue a prorated refund based on your remaining subscription period. enterprise contracts include a\n",
      "\n"
     ]
    }
   ],
   "source": [
    "\n",
    "# Retrieve the most similar text\n",
    "retrieved_documents = retriever.invoke(\"Do you have a 30-day money-back guarantee?\")\n",
    "\n",
    "for document in retrieved_documents:\n",
    "    print(f\"{'#' * 80}\\nID: {document.id}\")\n",
    "    first_n_of_content = document.page_content[:500].replace('\\n\\n', ' ')\n",
    "    print(f\"Content: {first_n_of_content}\\n\")\n"
   ]
  },
  {
   "cell_type": "code",
   "execution_count": 106,
   "metadata": {},
   "outputs": [],
   "source": [
    "template = \"\"\"You are an assistant for question-answering tasks. Use only the information from the retrieved context to answer the question. \n",
    "If multiple documents conflict, clearly state the conflict. If you are unsure or the answer cannot be found, respond with \"I don't know.\" \n",
    "Keep the answer factual, grounded in the provided context, and concise (maximum three sentences).\n",
    "\n",
    "Question:\n",
    "{question}\n",
    "\n",
    "Context: \n",
    "{context} \n",
    "\n",
    "Answer:\n",
    "\"\"\"\n",
    "\n",
    "prompt = PromptTemplate.from_template(template)"
   ]
  },
  {
   "cell_type": "code",
   "execution_count": 107,
   "metadata": {},
   "outputs": [
    {
     "data": {
      "text/plain": [
       "StringPromptValue(text='You are an assistant for question-answering tasks. Use only the information from the retrieved context to answer the question. \\nIf multiple documents conflict, clearly state the conflict. If you are unsure or the answer cannot be found, respond with \"I don\\'t know.\" \\nKeep the answer factual, grounded in the provided context, and concise (maximum three sentences).\\n\\nQuestion:\\nWhat is CloudMate?\\n\\nContext: \\n. refund and cancellation policy we stand by the quality of our services and offer a 30-day money-back guarantee on all plans. if you\\'re not satisfied, you can request a full refund within the first 30 days \\n\\nAnswer:\\n')"
      ]
     },
     "execution_count": 107,
     "metadata": {},
     "output_type": "execute_result"
    }
   ],
   "source": [
    "prompt.invoke(\n",
    "    input={\n",
    "        \"question\": \"What is CloudMate?\",\n",
    "        \"context\": retrieved_documents[0].page_content,\n",
    "    }\n",
    ")"
   ]
  },
  {
   "cell_type": "code",
   "execution_count": 108,
   "metadata": {},
   "outputs": [],
   "source": [
    "question = \"What is CloudMate?\"\n",
    "\n",
    "retrieved_docs = local_vector_db.similarity_search(question)\n",
    "docs_content = \"\\n\\n\".join(f\"Document {i+1}:\\n{doc.page_content}\" for i, doc in enumerate(retrieved_docs))\n",
    "formated_prompt = prompt.invoke({\"question\": question, \"context\": docs_content})"
   ]
  },
  {
   "cell_type": "code",
   "execution_count": 109,
   "metadata": {},
   "outputs": [
    {
     "name": "stdout",
     "output_type": "stream",
     "text": [
      "You are an assistant for question-answering tasks. Use only the information from the retrieved context to answer the question. \n",
      "If multiple documents conflict, clearly state the conflict. If you are unsure or the answer cannot be found, respond with \"I don't know.\" \n",
      "Keep the answer factual, grounded in the provided context, and concise (maximum three sentences).\n",
      "\n",
      "Question:\n",
      "What is CloudMate?\n",
      "\n",
      "Context: \n",
      "Document 1:\n",
      ". cloudmate secure and scalable cloud storage cloudmate is our flagship cloud storage solution, designed for businesses of all sizes\n",
      "\n",
      "Document 2:\n",
      ". cloudmate secure and scalable cloud storage cloudmate is our flagship cloud storage solution, designed for businesses of all sizes\n",
      "\n",
      "Document 3:\n",
      "[About MadeUpCompany/Products and Services/CloudMate – Secure and Scalable Cloud Storage]: \n",
      "CloudMate is our flagship cloud storage solution, designed for businesses of all sizes. Features include:\n",
      "- ✅ Seamless data migration with automated backups\n",
      "- ✅ Military-grade encryption and multi-f\n"
     ]
    }
   ],
   "source": [
    "print(formated_prompt.to_string()[:1000])"
   ]
  },
  {
   "cell_type": "code",
   "execution_count": 110,
   "metadata": {},
   "outputs": [],
   "source": [
    "answer = llm.invoke(formated_prompt)"
   ]
  },
  {
   "cell_type": "code",
   "execution_count": 111,
   "metadata": {},
   "outputs": [
    {
     "name": "stdout",
     "output_type": "stream",
     "text": [
      "CloudMate is a secure and scalable cloud storage solution designed for businesses of all sizes. It offers seamless data migration, military-grade encryption, role-based access control, and AI-powered file organization.\n"
     ]
    }
   ],
   "source": [
    "print(answer)"
   ]
  },
  {
   "cell_type": "code",
   "execution_count": 112,
   "metadata": {},
   "outputs": [],
   "source": [
    "# Define state for application\n",
    "class State(TypedDict):\n",
    "    \"\"\" A langgraph state for the application \"\"\"\n",
    "    question: str\n",
    "    context: list[Document]\n",
    "    answer: str\n",
    "\n",
    "\n",
    "# Define application steps\n",
    "def retrieve(state: State):\n",
    "    \"\"\" Our retrieval step. We use our local vector database to retrieve similar documents to the question \"\"\"\n",
    "    retrieved_docs = local_vector_db.similarity_search(state[\"question\"], k=3) # NOTE: You can change k to retrieve fewer or more documents\n",
    "    return {\"context\": retrieved_docs} \n",
    "\n",
    "\n",
    "def generate(state: State):\n",
    "    \"\"\" Our generation step. We use the retrieved documents to generate an answer to the question \"\"\"\n",
    "\n",
    "    # Format the prompt\n",
    "    docs_content = \"\\n\\n\".join(doc.page_content for doc in state[\"context\"])\n",
    "    formated_prompt = prompt.invoke({\"question\": state[\"question\"], \"context\": docs_content})\n",
    "\n",
    "    # Generate the answer\n",
    "    response = llm.invoke(formated_prompt)\n",
    "    return {\"answer\": response}\n",
    "\n",
    "\n",
    "# Compile application and test\n",
    "graph_builder = StateGraph(State).add_sequence([retrieve, generate])\n",
    "graph_builder.add_edge(START, \"retrieve\") # Start at the retrieve step\n",
    "graph = graph_builder.compile() # Compile the graph"
   ]
  },
  {
   "cell_type": "code",
   "execution_count": 113,
   "metadata": {},
   "outputs": [
    {
     "ename": "NameError",
     "evalue": "name 'MermaidDrawMethod' is not defined",
     "output_type": "error",
     "traceback": [
      "\u001b[0;31m---------------------------------------------------------------------------\u001b[0m",
      "\u001b[0;31mNameError\u001b[0m                                 Traceback (most recent call last)",
      "Cell \u001b[0;32mIn[113], line 1\u001b[0m\n\u001b[0;32m----> 1\u001b[0m display(Image(graph\u001b[38;5;241m.\u001b[39mget_graph()\u001b[38;5;241m.\u001b[39mdraw_mermaid_png(max_retries\u001b[38;5;241m=\u001b[39m\u001b[38;5;241m5\u001b[39m, retry_delay\u001b[38;5;241m=\u001b[39m\u001b[38;5;241m2.0\u001b[39m,draw_method\u001b[38;5;241m=\u001b[39m\u001b[43mMermaidDrawMethod\u001b[49m\u001b[38;5;241m.\u001b[39mPYPPETEER)))\n",
      "\u001b[0;31mNameError\u001b[0m: name 'MermaidDrawMethod' is not defined"
     ]
    }
   ],
   "source": [
    "display(Image(graph.get_graph().draw_mermaid_png(max_retries=5, retry_delay=2.0,draw_method=MermaidDrawMethod.PYPPETEER)))"
   ]
  },
  {
   "cell_type": "code",
   "execution_count": 114,
   "metadata": {},
   "outputs": [
    {
     "data": {
      "text/plain": [
       "{'question': 'What is CloudMate?',\n",
       " 'context': [Document(id='e4f3cfae-4622-4cf5-89c1-e552bbef66f8', metadata={}, page_content='. cloudmate secure and scalable cloud storage cloudmate is our flagship cloud storage solution, designed for businesses of all sizes'),\n",
       "  Document(id='1f5b6c84-ad0b-4865-af13-b2d3e612dc08', metadata={}, page_content='. cloudmate secure and scalable cloud storage cloudmate is our flagship cloud storage solution, designed for businesses of all sizes'),\n",
       "  Document(id='2231a4dd-e9de-4634-ba31-499f26e879d2', metadata={'Header 1': 'About MadeUpCompany', 'Header 2': 'Products and Services', 'Header 3': 'CloudMate – Secure and Scalable Cloud Storage'}, page_content='[About MadeUpCompany/Products and Services/CloudMate – Secure and Scalable Cloud Storage]: \\nCloudMate is our flagship cloud storage solution, designed for businesses of all sizes. Features include:\\n- ✅ Seamless data migration with automated backups\\n- ✅ Military-grade encryption and multi-factor authentication\\n- ✅ Role-based access control for enterprise security\\n- ✅ AI-powered file organization and search capabilities')],\n",
       " 'answer': 'CloudMate is a secure and scalable cloud storage solution designed by MadeUpCompany for businesses of all sizes. It offers features such as seamless data migration, military-grade encryption, role-based access control, and AI-powered file organization.'}"
      ]
     },
     "execution_count": 114,
     "metadata": {},
     "output_type": "execute_result"
    }
   ],
   "source": [
    "response = graph.invoke({\"question\": \"What is CloudMate?\"})\n",
    "\n",
    "response"
   ]
  },
  {
   "cell_type": "code",
   "execution_count": null,
   "metadata": {},
   "outputs": [],
   "source": [
    "sample_queries = [\n",
    "    \"When was MadeUpCompany founded and where is it headquartered?\",\n",
    "    \"What security features does CloudMate offer for enterprise customers?\",\n",
    "    \"How much does the Professional plan for CloudMate cost and what storage capacity does it include?\",\n",
    "    \"What analytics capabilities does DataWiz provide for business intelligence?\",\n",
    "    \"What compliance standards does MadeUpCompany adhere to?\",\n",
    "    \"What channels are available for technical support at MadeUpCompany?\",\n",
    "    \"What is MadeUpCompany's refund policy for the first 30 days?\",\n",
    "    \"What upcoming collaboration features is MadeUpCompany planning for CloudMate?\",\n",
    "    \"Where are MadeUpCompany's satellite offices located?\",\n",
    "    \"What four core values does MadeUpCompany believe in?\",\n",
    "    \"What professional backgrounds do MadeUpCompany's experts come from?\",\n",
    "    \"What does the Starter plan for DataWiz include and how much does it cost?\",\n",
    "    \"How quickly does MadeUpCompany promise to resolve technical issues?\",\n",
    "    \"What account management features are available through MadeUpCompany's online portal?\",\n",
    "    \"How many users does MadeUpCompany have and what publications have featured them?\",\n",
    "    \"What types of custom AI solutions does MadeUpCompany develop?\",\n",
    "    \"What encryption standard does MadeUpCompany use and where is it applied?\",\n",
    "    \"What are the specifications of the Basic plan for CloudMate?\",\n",
    "    \"What is the guaranteed response time for email support at MadeUpCompany?\",\n",
    "    \"What capabilities does DataWiz offer for fraud prevention?\",\n",
    "    \"How does MadeUpCompany's cancellation policy work after the 30-day period?\",\n",
    "    \"What machine learning capabilities will DataWiz introduce in upcoming features?\",\n",
    "    \"What pricing plan options are available for MadeUpCompany's Enterprise customers?\",\n",
    "    \"What does MadeUpCompany's sustainability value focus on?\",\n",
    "    \"How does MadeUpCompany describe its mission?\"\n",
    "]\n",
    "\n",
    "expected_responses = [\n",
    "    \"MadeUpCompany was founded in 2010 and is headquartered in San Francisco, California.\",\n",
    "    \"CloudMate offers military-grade encryption, multi-factor authentication, and role-based access control for enterprise security.\",\n",
    "    \"The Professional plan for CloudMate costs $29.99/month and includes 1TB of storage, enhanced security, and priority support.\",\n",
    "    \"DataWiz provides predictive analytics for demand forecasting and customer behavior modeling, real-time dashboards with customizable reporting, API integrations with popular business intelligence tools, and automated anomaly detection.\",\n",
    "    \"MadeUpCompany adheres to GDPR, HIPAA, and SOC 2 compliance standards for global security and data protection compliance.\",\n",
    "    \"MadeUpCompany offers toll-free phone support, live chat assistance, email support, comprehensive FAQ and user guides on their website, and a community forum for peer-to-peer discussions.\",\n",
    "    \"MadeUpCompany offers a 30-day money-back guarantee on all plans, allowing customers to request a full refund if they're not satisfied within the first 30 days.\",\n",
    "    \"MadeUpCompany is planning to introduce enhanced real-time document editing and team workspaces for seamless collaboration in CloudMate.\",\n",
    "    \"MadeUpCompany has satellite offices in New York, London, and Tokyo.\",\n",
    "    \"MadeUpCompany believes in innovation, security & privacy, a customer-centric approach, and sustainability.\",\n",
    "    \"MadeUpCompany's experts come from various industries including AI research, cybersecurity, and enterprise software development.\",\n",
    "    \"The Starter plan for DataWiz costs $49/month and includes basic analytics and limited AI insights.\",\n",
    "    \"MadeUpCompany resolves most technical issues within 24 hours, ensuring minimal downtime for businesses.\",\n",
    "    \"Through MadeUpCompany's online portal, customers can upgrade or downgrade plans, access billing history and download invoices, manage multiple users and set role-based permissions, and track storage and analytics usage in real time.\",\n",
    "    \"MadeUpCompany has over 1 million satisfied users worldwide and has been featured in TechCrunch, Forbes, and Wired as a top innovator.\",\n",
    "    \"MadeUpCompany provides tailored machine learning models including NLP-based chatbots and AI-driven recommendation engines to optimize business workflows, automate repetitive tasks, and enhance decision-making.\",\n",
    "    \"MadeUpCompany uses AES-256 encryption to protect data both in transit and at rest.\",\n",
    "    \"The Basic plan for CloudMate costs $9.99/month and includes 100GB storage and essential security features.\",\n",
    "    \"MadeUpCompany guarantees an email support response within 6 hours.\",\n",
    "    \"DataWiz provides automated anomaly detection for fraud prevention and operational efficiency.\",\n",
    "    \"After 30 days, customers may cancel their subscription at any time, and MadeUpCompany will issue a prorated refund based on the remaining subscription period.\",\n",
    "    \"DataWiz will introduce automated trend forecasting powered by deep learning.\",\n",
    "    \"MadeUpCompany offers custom pricing for Enterprise plans with unlimited storage, advanced compliance tools, and a dedicated account manager for CloudMate, and full AI customization with dedicated data scientists for DataWiz.\",\n",
    "    \"MadeUpCompany's sustainability value focuses on ensuring their infrastructure is energy-efficient and environmentally responsible.\",\n",
    "    \"MadeUpCompany's mission is to empower businesses and individuals with cutting-edge technology that enhances efficiency, scalability, and innovation.\"\n",
    "]"
   ]
  },
  {
   "cell_type": "code",
   "execution_count": 116,
   "metadata": {},
   "outputs": [],
   "source": [
    "\n",
    "# create a litellm client\n",
    "litellm.drop_params = True  # watsonx.ai doesn't support `json_mode`\n",
    "client = instructor.from_litellm(completion, mode=Mode.JSON)\n",
    "\n",
    "# create a response model - LLM is forced to return an object of this type\n",
    "class JudgeResponse(BaseModel):\n",
    "    reasoning: str = Field(description=\"Short one-sentence reason for score\")\n",
    "    score: Literal[0, .5, 1] = Field(description=\"Final score\")\n",
    "\n",
    "# define a function to call the judge\n",
    "def call_judge(prompt : str) -> JudgeResponse:\n",
    "    response = client.chat.completions.create(\n",
    "        model=\"watsonx/meta-llama/llama-3-3-70b-instruct\",\n",
    "        max_tokens=1024,\n",
    "        messages=[\n",
    "            {\n",
    "                \"role\": \"user\",\n",
    "                \"content\": prompt,\n",
    "            }\n",
    "        ],\n",
    "        project_id=WX_PROJECT_ID,\n",
    "        apikey=WX_API_KEY,\n",
    "        api_base=WX_API_URL,\n",
    "        response_model=JudgeResponse,\n",
    "        # decoding_method=\"greedy\",\n",
    "        # temperature=0,\n",
    "    )\n",
    "    return response"
   ]
  },
  {
   "cell_type": "code",
   "execution_count": 2,
   "metadata": {},
   "outputs": [
    {
     "ename": "NameError",
     "evalue": "name 'Any' is not defined",
     "output_type": "error",
     "traceback": [
      "\u001b[0;31m---------------------------------------------------------------------------\u001b[0m",
      "\u001b[0;31mNameError\u001b[0m                                 Traceback (most recent call last)",
      "Cell \u001b[0;32mIn[2], line 1\u001b[0m\n\u001b[0;32m----> 1\u001b[0m \u001b[38;5;28;01mclass\u001b[39;00m\u001b[38;5;250m \u001b[39m\u001b[38;5;21;01mRAGEvaluator\u001b[39;00m:\n\u001b[1;32m      2\u001b[0m \u001b[38;5;250m    \u001b[39m\u001b[38;5;124;03m\"\"\"\u001b[39;00m\n\u001b[1;32m      3\u001b[0m \u001b[38;5;124;03m    A streamlined evaluator for RAG systems focusing on three key dimensions:\u001b[39;00m\n\u001b[1;32m      4\u001b[0m \u001b[38;5;124;03m    1. Retrieval Quality\u001b[39;00m\n\u001b[1;32m      5\u001b[0m \u001b[38;5;124;03m    2. Answer Correctness\u001b[39;00m\n\u001b[1;32m      6\u001b[0m \u001b[38;5;124;03m    3. Hallucination Detection\u001b[39;00m\n\u001b[1;32m      7\u001b[0m \u001b[38;5;124;03m    \"\"\"\u001b[39;00m\n\u001b[1;32m      8\u001b[0m     \u001b[38;5;28;01mdef\u001b[39;00m\u001b[38;5;250m \u001b[39m\u001b[38;5;21m__init__\u001b[39m(\u001b[38;5;28mself\u001b[39m, llm_func):\n",
      "Cell \u001b[0;32mIn[2], line 12\u001b[0m, in \u001b[0;36mRAGEvaluator\u001b[0;34m()\u001b[0m\n\u001b[1;32m      9\u001b[0m \u001b[38;5;250m    \u001b[39m\u001b[38;5;124;03m\"\"\"Initialize with an LLM.\"\"\"\u001b[39;00m\n\u001b[1;32m     10\u001b[0m     \u001b[38;5;28mself\u001b[39m\u001b[38;5;241m.\u001b[39mllm_func \u001b[38;5;241m=\u001b[39m llm_func\n\u001b[0;32m---> 12\u001b[0m \u001b[38;5;28;01mdef\u001b[39;00m\u001b[38;5;250m \u001b[39m\u001b[38;5;21mevaluate_retrieval_quality\u001b[39m(\u001b[38;5;28mself\u001b[39m, response: \u001b[38;5;28mdict\u001b[39m[\u001b[38;5;28mstr\u001b[39m, \u001b[43mAny\u001b[49m], expected_answer: \u001b[38;5;28mstr\u001b[39m, verbose : \u001b[38;5;28mbool\u001b[39m \u001b[38;5;241m=\u001b[39m \u001b[38;5;28;01mFalse\u001b[39;00m) \u001b[38;5;241m-\u001b[39m\u001b[38;5;241m>\u001b[39m JudgeResponse:\n\u001b[1;32m     13\u001b[0m \u001b[38;5;250m    \u001b[39m\u001b[38;5;124;03m\"\"\"\u001b[39;00m\n\u001b[1;32m     14\u001b[0m \u001b[38;5;124;03m    Ask LLM if retrieved documents contain information needed for the expected answer.\u001b[39;00m\n\u001b[1;32m     15\u001b[0m \u001b[38;5;124;03m    \"\"\"\u001b[39;00m\n\u001b[1;32m     16\u001b[0m     \u001b[38;5;66;03m# Combine all retrieved document contents with clear formatting\u001b[39;00m\n",
      "\u001b[0;31mNameError\u001b[0m: name 'Any' is not defined"
     ]
    }
   ],
   "source": [
    "class RAGEvaluator:\n",
    "    \"\"\"\n",
    "    A streamlined evaluator for RAG systems focusing on three key dimensions:\n",
    "    1. Retrieval Quality\n",
    "    2. Answer Correctness\n",
    "    3. Hallucination Detection\n",
    "    \"\"\"\n",
    "    def __init__(self, llm_func):\n",
    "        \"\"\"Initialize with an LLM.\"\"\"\n",
    "        self.llm_func = llm_func\n",
    "            \n",
    "    def evaluate_retrieval_quality(self, response: dict[str, Any], expected_answer: str, verbose : bool = False) -> JudgeResponse:\n",
    "        \"\"\"\n",
    "        Ask LLM if retrieved documents contain information needed for the expected answer.\n",
    "        \"\"\"\n",
    "        # Combine all retrieved document contents with clear formatting\n",
    "        retrieved_text = \"\\n\\n\".join([f\"Document {i+1}:\\n{doc.page_content}\" for i, doc in enumerate(response.get('context', []))])\n",
    "        \n",
    "        prompt = f\"\"\"You are given a set of documents and a fact. Can the fact be found in the documents? Judge by the information, not the exact wording of the fact.\n",
    "        \n",
    "        - Respond with 1 if the fact is present (also if the fact can be pieced together from multiple documents).\n",
    "        - Respond with 0 if the fact is not present in any of the documents.\n",
    "        - Responds with 0.5 ff only part of the fact is present.\n",
    "        \n",
    "        Retrieved Documents: \n",
    "        {retrieved_text}\n",
    "\n",
    "        Fact:\n",
    "        {expected_answer}\n",
    "        \n",
    "        Can the fact be found in the documents? Respond as a JudgeResponse object with: \n",
    "        - a short reason (max 20 words)\n",
    "        - a score of 1, 0.5, or 0.\n",
    "        \"\"\"\n",
    "        \n",
    "        result = self.llm_func(prompt)\n",
    "        if verbose:\n",
    "            print(f\"[evaluation_retrieval_quality] LLM response: {result}\")\n",
    "        return result\n",
    "    \n",
    "    def evaluate_answer_correctness(self, response: dict[str, Any], expected_answer: str, verbose : bool = False) -> JudgeResponse:\n",
    "        \"\"\"\n",
    "        Ask LLM to rate how correct/similar the generated answer is to the expected answer.\n",
    "        \"\"\"\n",
    "        generated_answer = response.get('answer', '')\n",
    "        \n",
    "        prompt = f\"\"\"You are evaluating a RAG system. You are given a question, an expected answer, and a generated answer. Is the generated answer as correct - or close to as correct - as the expected answer? \n",
    "        \n",
    "        - Respond with 1 if the answer is yes (also if the answer is more detailed than expected)\n",
    "        - Respond with 0 if the answer is no. \n",
    "        - respond with 0.5 if the generated answer is partially correct\n",
    "\n",
    "        Question:\n",
    "        {response.get('question', '')}\n",
    "        \n",
    "        Expected answer:\n",
    "        {expected_answer}\n",
    "        \n",
    "        Generated answer:\n",
    "        {generated_answer}\n",
    "        \n",
    "        Is the generated answer correct enough? Consider content correctness rather than exact wording. \n",
    "        Respond as a JudgeResponse object with: \n",
    "        - a short reason (max 20 words)\n",
    "        - a score of 1, 0.5, or 0.\"\"\"\n",
    "        \n",
    "        result = self.llm_func(prompt)\n",
    "        if verbose:\n",
    "            print(f\"[evaluation_answer_correctness] LLM response: {result}\")\n",
    "        return result\n",
    "    \n",
    "    def evaluate_hallucination(self, response: dict[str, Any], verbose : bool = False) -> JudgeResponse:\n",
    "        \"\"\"\n",
    "        Ask LLM to evaluate if the answer contains hallucinations.\n",
    "        \"\"\"\n",
    "        generated_answer = response.get('answer', '')\n",
    "        retrieved_text = \"\\n\\n\".join([f\"Document {i+1}:\\n{doc.page_content}\" for i, doc in enumerate(response.get('context', []))])\n",
    "        \n",
    "        prompt = f\"\"\"You are evaluating a RAG system. Your task is to determine if the generated answer contains hallucinations. Hallucinations are any information that is not directly supported by the retrieved documents. Does the generated answer contain hallucinations? \n",
    "        \n",
    "        - If the answer is no, respond with 0. \n",
    "        - If the answer is yes, respond with 1.\n",
    "        - If the answer is partially hallucinated, respond with 0.5. \n",
    "        - If the generated answer states that it does not know, respond with 0.\n",
    "\n",
    "        Question: \n",
    "        {response.get('question', '')}\n",
    "        \n",
    "        Retrieved context (this is all the information the AI had access to):\n",
    "        {retrieved_text}\n",
    "        \n",
    "        Generated answer:\n",
    "        {generated_answer}\n",
    "        \n",
    "        Does the generated answer contain hallucinations? Respond as a JudgeResponse object with: \n",
    "        - a short reason (max 20 words)\n",
    "        - a score of 1, 0.5, or 0.\n",
    "        \"\"\"\n",
    "        \n",
    "        result = self.llm_func(prompt)\n",
    "        if verbose:\n",
    "            print(f\"[evaluation_hallucination] LLM response: {result}\")\n",
    "        return result\n",
    "    \n",
    "    def evaluate(self, response: dict[str, Any], expected_answer: str, verbose : bool = False) -> dict[str, Any]:\n",
    "        \"\"\"\n",
    "        Evaluate a RAG response across all three dimensions.\n",
    "        \"\"\"\n",
    "        # Get scores for each dimension\n",
    "        retrieval_score = self.evaluate_retrieval_quality(response, expected_answer, verbose=verbose)\n",
    "        correctness_score = self.evaluate_answer_correctness(response, expected_answer, verbose=verbose)\n",
    "        hallucination_score = self.evaluate_hallucination(response, verbose=verbose)\n",
    "        \n",
    "        return {\n",
    "            \"query\": response.get(\"question\", \"\"),\n",
    "            \"retrieved_context\": response.get(\"context\", []),\n",
    "            \"generated_answer\": response.get(\"answer\", \"\"),\n",
    "            \"expected_answer\": expected_answer,\n",
    "            \"retrieval_quality\": retrieval_score.score,\n",
    "            \"answer_correctness\": correctness_score.score, \n",
    "            \"hallucination_score\": hallucination_score.score,  # Lower is better\n",
    "\n",
    "            # keep the reasoning for manual inspection\n",
    "            \"retrieval_quality_reasoning\": retrieval_score.reasoning,\n",
    "            \"answer_correctness_reasoning\": correctness_score.reasoning,\n",
    "            \"hallucination_reasoning\": hallucination_score.reasoning\n",
    "        }\n",
    "\n",
    "\n",
    "def evaluate_rag_system(graph, test_queries, expected_responses, evaluator, verbose=False):\n",
    "    \"\"\"\n",
    "    Evaluate a RAG system on a test set.\n",
    "    \n",
    "    Args:\n",
    "        graph: The LangGraph RAG system with invoke method\n",
    "        test_queries: List of questions to test\n",
    "        expected_responses: List of expected answers\n",
    "        evaluator: The RAG evaluator object\n",
    "        \n",
    "    Returns:\n",
    "        Evaluation results\n",
    "    \"\"\"\n",
    "    results = []\n",
    "    \n",
    "    for query, expected in tqdm(zip(test_queries, expected_responses), total=len(test_queries)):\n",
    "\n",
    "        # Get RAG response\n",
    "        response = graph.invoke({\"question\": query})\n",
    "        \n",
    "        # Evaluate\n",
    "        eval_result = evaluator.evaluate(response, expected, verbose=verbose)\n",
    "        results.append(eval_result)\n",
    "    \n",
    "    # Calculate average scores\n",
    "    avg_metrics = {\n",
    "        \"retrieval_quality\": np.mean([r[\"retrieval_quality\"] for r in results]),\n",
    "        \"answer_correctness\": np.mean([r[\"answer_correctness\"] for r in results]),\n",
    "        \"hallucination\": np.mean([r[\"hallucination_score\"] for r in results])\n",
    "    }\n",
    "\n",
    "    return {\n",
    "        \"individual_results\": results,\n",
    "        \"scores\": avg_metrics,\n",
    "        \"num_queries\": len(test_queries)\n",
    "    }"
   ]
  },
  {
   "cell_type": "code",
   "execution_count": 118,
   "metadata": {},
   "outputs": [
    {
     "name": "stderr",
     "output_type": "stream",
     "text": [
      "  0%|          | 0/25 [00:00<?, ?it/s]"
     ]
    },
    {
     "name": "stdout",
     "output_type": "stream",
     "text": [
      "[evaluation_retrieval_quality] LLM response: reasoning='Exact fact found' score=1\n",
      "[evaluation_answer_correctness] LLM response: reasoning='Exact match' score=1\n"
     ]
    },
    {
     "name": "stderr",
     "output_type": "stream",
     "text": [
      "  4%|▍         | 1/25 [00:09<03:50,  9.61s/it]"
     ]
    },
    {
     "name": "stdout",
     "output_type": "stream",
     "text": [
      "[evaluation_hallucination] LLM response: reasoning='Answer is directly supported' score=0\n",
      "[evaluation_retrieval_quality] LLM response: reasoning='Fact matches Document 1' score=1\n",
      "[evaluation_answer_correctness] LLM response: reasoning='Matches expected content' score=1\n"
     ]
    },
    {
     "name": "stderr",
     "output_type": "stream",
     "text": [
      "  8%|▊         | 2/25 [00:19<03:47,  9.91s/it]"
     ]
    },
    {
     "name": "stdout",
     "output_type": "stream",
     "text": [
      "[evaluation_hallucination] LLM response: reasoning='Matches retrieved documents' score=0\n",
      "[evaluation_retrieval_quality] LLM response: reasoning='Fact found in Document 1' score=1\n",
      "[evaluation_answer_correctness] LLM response: reasoning='Missing extra features' score=0.5\n"
     ]
    },
    {
     "name": "stderr",
     "output_type": "stream",
     "text": [
      " 12%|█▏        | 3/25 [00:29<03:31,  9.62s/it]"
     ]
    },
    {
     "name": "stdout",
     "output_type": "stream",
     "text": [
      "[evaluation_hallucination] LLM response: reasoning='Accurate match with Document 1' score=0\n",
      "[evaluation_retrieval_quality] LLM response: reasoning='Fact mostly present' score=1\n",
      "[evaluation_answer_correctness] LLM response: reasoning='Matches expected answer with extra detail' score=1\n"
     ]
    },
    {
     "name": "stderr",
     "output_type": "stream",
     "text": [
      " 16%|█▌        | 4/25 [00:39<03:30, 10.00s/it]"
     ]
    },
    {
     "name": "stdout",
     "output_type": "stream",
     "text": [
      "[evaluation_hallucination] LLM response: reasoning='No unsupported info' score=0\n",
      "[evaluation_retrieval_quality] LLM response: reasoning='Fact present in documents' score=1\n",
      "[evaluation_answer_correctness] LLM response: reasoning='Generated answer is equivalent' score=1\n"
     ]
    },
    {
     "name": "stderr",
     "output_type": "stream",
     "text": [
      " 20%|██        | 5/25 [00:49<03:20, 10.02s/it]"
     ]
    },
    {
     "name": "stdout",
     "output_type": "stream",
     "text": [
      "[evaluation_hallucination] LLM response: reasoning='Answer supported by documents' score=0\n",
      "[evaluation_retrieval_quality] LLM response: reasoning='Fact fully present' score=1\n",
      "[evaluation_answer_correctness] LLM response: reasoning='Similar content' score=1\n"
     ]
    },
    {
     "name": "stderr",
     "output_type": "stream",
     "text": [
      " 24%|██▍       | 6/25 [00:59<03:12, 10.12s/it]"
     ]
    },
    {
     "name": "stdout",
     "output_type": "stream",
     "text": [
      "[evaluation_hallucination] LLM response: reasoning='Answer matches retrieved context' score=0\n",
      "[evaluation_retrieval_quality] LLM response: reasoning='Fact is fully present' score=1\n",
      "[evaluation_answer_correctness] LLM response: reasoning='Similar content' score=1\n"
     ]
    },
    {
     "name": "stderr",
     "output_type": "stream",
     "text": [
      " 28%|██▊       | 7/25 [01:18<03:52, 12.91s/it]"
     ]
    },
    {
     "name": "stdout",
     "output_type": "stream",
     "text": [
      "[evaluation_hallucination] LLM response: reasoning='Answer is directly supported' score=0\n",
      "[evaluation_retrieval_quality] LLM response: reasoning='Fact mentioned in Document 1' score=1\n",
      "[evaluation_answer_correctness] LLM response: reasoning='Similar content' score=1\n"
     ]
    },
    {
     "name": "stderr",
     "output_type": "stream",
     "text": [
      " 32%|███▏      | 8/25 [01:29<03:30, 12.37s/it]"
     ]
    },
    {
     "name": "stdout",
     "output_type": "stream",
     "text": [
      "[evaluation_hallucination] LLM response: reasoning='Answer is directly supported' score=0\n",
      "[evaluation_retrieval_quality] LLM response: reasoning='Fact mentioned in documents' score=1\n",
      "[evaluation_answer_correctness] LLM response: reasoning='Identical content' score=1\n"
     ]
    },
    {
     "name": "stderr",
     "output_type": "stream",
     "text": [
      " 36%|███▌      | 9/25 [01:40<03:08, 11.78s/it]"
     ]
    },
    {
     "name": "stdout",
     "output_type": "stream",
     "text": [
      "[evaluation_hallucination] LLM response: reasoning='Answer supported by context' score=0\n",
      "[evaluation_retrieval_quality] LLM response: reasoning='Fact matches Document 1' score=1\n",
      "[evaluation_answer_correctness] LLM response: reasoning='Matches expected answer' score=1\n"
     ]
    },
    {
     "name": "stderr",
     "output_type": "stream",
     "text": [
      " 40%|████      | 10/25 [01:49<02:46, 11.12s/it]"
     ]
    },
    {
     "name": "stdout",
     "output_type": "stream",
     "text": [
      "[evaluation_hallucination] LLM response: reasoning='Answer matches Document 1' score=0\n",
      "[evaluation_retrieval_quality] LLM response: reasoning='Fact mentioned in Document 1' score=1\n",
      "[evaluation_answer_correctness] LLM response: reasoning='Matching content' score=1\n"
     ]
    },
    {
     "name": "stderr",
     "output_type": "stream",
     "text": [
      " 44%|████▍     | 11/25 [01:59<02:27, 10.57s/it]"
     ]
    },
    {
     "name": "stdout",
     "output_type": "stream",
     "text": [
      "[evaluation_hallucination] LLM response: reasoning='Answer is supported by Document 1' score=0\n",
      "[evaluation_retrieval_quality] LLM response: reasoning='Fact present in documents' score=1\n",
      "[evaluation_answer_correctness] LLM response: reasoning='Matching content' score=1\n"
     ]
    },
    {
     "name": "stderr",
     "output_type": "stream",
     "text": [
      " 48%|████▊     | 12/25 [02:10<02:19, 10.69s/it]"
     ]
    },
    {
     "name": "stdout",
     "output_type": "stream",
     "text": [
      "[evaluation_hallucination] LLM response: reasoning='Answer matches retrieved context' score=0\n",
      "[evaluation_retrieval_quality] LLM response: reasoning='Fact mentioned in documents' score=1\n",
      "[evaluation_answer_correctness] LLM response: reasoning='Generated answer is partially correct' score=0.5\n"
     ]
    },
    {
     "name": "stderr",
     "output_type": "stream",
     "text": [
      " 52%|█████▏    | 13/25 [02:21<02:09, 10.77s/it]"
     ]
    },
    {
     "name": "stdout",
     "output_type": "stream",
     "text": [
      "[evaluation_hallucination] LLM response: reasoning='Directly supported by Document 1' score=0\n",
      "[evaluation_retrieval_quality] LLM response: reasoning='Fact fully described' score=1\n",
      "[evaluation_answer_correctness] LLM response: reasoning='Almost identical content' score=1\n"
     ]
    },
    {
     "name": "stderr",
     "output_type": "stream",
     "text": [
      " 56%|█████▌    | 14/25 [02:31<01:55, 10.54s/it]"
     ]
    },
    {
     "name": "stdout",
     "output_type": "stream",
     "text": [
      "[evaluation_hallucination] LLM response: reasoning='Answer is directly supported' score=0\n",
      "[evaluation_retrieval_quality] LLM response: reasoning='Fact fully present' score=1\n",
      "[evaluation_answer_correctness] LLM response: reasoning='Same content, slight rewording' score=1\n"
     ]
    },
    {
     "name": "stderr",
     "output_type": "stream",
     "text": [
      " 60%|██████    | 15/25 [02:41<01:45, 10.51s/it]"
     ]
    },
    {
     "name": "stdout",
     "output_type": "stream",
     "text": [
      "[evaluation_hallucination] LLM response: reasoning='Answer is directly supported' score=0\n",
      "[evaluation_retrieval_quality] LLM response: reasoning='Fact present in documents' score=1\n",
      "[evaluation_answer_correctness] LLM response: reasoning='Similar content, minor wording difference' score=1\n"
     ]
    },
    {
     "name": "stderr",
     "output_type": "stream",
     "text": [
      " 64%|██████▍   | 16/25 [02:52<01:34, 10.52s/it]"
     ]
    },
    {
     "name": "stdout",
     "output_type": "stream",
     "text": [
      "[evaluation_hallucination] LLM response: reasoning='Answer is directly supported' score=0\n",
      "[evaluation_retrieval_quality] LLM response: reasoning='Fact mentioned in Document 1' score=1\n",
      "[evaluation_answer_correctness] LLM response: reasoning='Same content, minor wording difference' score=1\n"
     ]
    },
    {
     "name": "stderr",
     "output_type": "stream",
     "text": [
      " 68%|██████▊   | 17/25 [03:02<01:23, 10.41s/it]"
     ]
    },
    {
     "name": "stdout",
     "output_type": "stream",
     "text": [
      "[evaluation_hallucination] LLM response: reasoning='Directly supported by Document 1' score=0\n",
      "[evaluation_retrieval_quality] LLM response: reasoning='Fact fully present' score=1\n",
      "[evaluation_answer_correctness] LLM response: reasoning='Matches expected content' score=1\n"
     ]
    },
    {
     "name": "stderr",
     "output_type": "stream",
     "text": [
      " 72%|███████▏  | 18/25 [03:13<01:13, 10.51s/it]"
     ]
    },
    {
     "name": "stdout",
     "output_type": "stream",
     "text": [
      "[evaluation_hallucination] LLM response: reasoning='Answer matches retrieved context' score=0\n",
      "[evaluation_retrieval_quality] LLM response: reasoning='Guarantee stated' score=1\n",
      "[evaluation_answer_correctness] LLM response: reasoning='Matches expected answer' score=1\n"
     ]
    },
    {
     "name": "stderr",
     "output_type": "stream",
     "text": [
      " 76%|███████▌  | 19/25 [03:22<01:01, 10.19s/it]"
     ]
    },
    {
     "name": "stdout",
     "output_type": "stream",
     "text": [
      "[evaluation_hallucination] LLM response: reasoning='Directly stated in Document 1' score=0\n",
      "[evaluation_retrieval_quality] LLM response: reasoning='No anomaly detection mentioned' score=0\n",
      "[evaluation_answer_correctness] LLM response: reasoning='Generated answer is incorrect' score=0\n"
     ]
    },
    {
     "name": "stderr",
     "output_type": "stream",
     "text": [
      " 80%|████████  | 20/25 [03:31<00:49,  9.91s/it]"
     ]
    },
    {
     "name": "stdout",
     "output_type": "stream",
     "text": [
      "[evaluation_hallucination] LLM response: reasoning='No hallucinations found' score=0\n",
      "[evaluation_retrieval_quality] LLM response: reasoning='Fact present in documents' score=1\n",
      "[evaluation_answer_correctness] LLM response: reasoning='Similar content' score=1\n"
     ]
    },
    {
     "name": "stderr",
     "output_type": "stream",
     "text": [
      " 84%|████████▍ | 21/25 [03:42<00:40, 10.05s/it]"
     ]
    },
    {
     "name": "stdout",
     "output_type": "stream",
     "text": [
      "[evaluation_hallucination] LLM response: reasoning='Answer fully supported by context' score=0\n",
      "[evaluation_retrieval_quality] LLM response: reasoning='Fact mentioned in documents' score=1\n",
      "[evaluation_answer_correctness] LLM response: reasoning='Generated answer is more detailed' score=1\n"
     ]
    },
    {
     "name": "stderr",
     "output_type": "stream",
     "text": [
      " 88%|████████▊ | 22/25 [03:53<00:30, 10.29s/it]"
     ]
    },
    {
     "name": "stdout",
     "output_type": "stream",
     "text": [
      "[evaluation_hallucination] LLM response: reasoning='Answer is supported by documents' score=0\n",
      "[evaluation_retrieval_quality] LLM response: reasoning='Partially mentioned' score=0.5\n",
      "[evaluation_answer_correctness] LLM response: reasoning='Lacks specific details' score=0\n"
     ]
    },
    {
     "name": "stderr",
     "output_type": "stream",
     "text": [
      " 92%|█████████▏| 23/25 [04:03<00:20, 10.44s/it]"
     ]
    },
    {
     "name": "stdout",
     "output_type": "stream",
     "text": [
      "[evaluation_hallucination] LLM response: reasoning='No information added' score=0\n",
      "[evaluation_retrieval_quality] LLM response: reasoning='Fact mentioned in Document 1' score=1\n",
      "[evaluation_answer_correctness] LLM response: reasoning=' Matches expected answer' score=1\n"
     ]
    },
    {
     "name": "stderr",
     "output_type": "stream",
     "text": [
      " 96%|█████████▌| 24/25 [04:20<00:12, 12.38s/it]"
     ]
    },
    {
     "name": "stdout",
     "output_type": "stream",
     "text": [
      "[evaluation_hallucination] LLM response: reasoning='Directly stated in Document 1' score=0\n",
      "[evaluation_retrieval_quality] LLM response: reasoning='Fact stated in documents' score=1\n",
      "[evaluation_answer_correctness] LLM response: reasoning='Content matches exactly' score=1\n"
     ]
    },
    {
     "name": "stderr",
     "output_type": "stream",
     "text": [
      "100%|██████████| 25/25 [04:30<00:00, 10.83s/it]"
     ]
    },
    {
     "name": "stdout",
     "output_type": "stream",
     "text": [
      "[evaluation_hallucination] LLM response: reasoning='Answer is directly supported' score=0\n"
     ]
    },
    {
     "name": "stderr",
     "output_type": "stream",
     "text": [
      "\n"
     ]
    },
    {
     "data": {
      "text/plain": [
       "{'retrieval_quality': np.float64(0.94),\n",
       " 'answer_correctness': np.float64(0.88),\n",
       " 'hallucination': np.float64(0.0)}"
      ]
     },
     "execution_count": 118,
     "metadata": {},
     "output_type": "execute_result"
    }
   ],
   "source": [
    "\n",
    "results = evaluate_rag_system(\n",
    "    graph, \n",
    "    sample_queries,\n",
    "    expected_responses,\n",
    "    evaluator=RAGEvaluator(llm_func=call_judge),\n",
    "    verbose=True\n",
    ")\n",
    "\n",
    "results[\"scores\"]"
   ]
  },
  {
   "cell_type": "code",
   "execution_count": 119,
   "metadata": {},
   "outputs": [
    {
     "data": {
      "image/png": "[encoded data removed]",
      "text/plain": [
       "<Figure size 640x480 with 1 Axes>"
      ]
     },
     "metadata": {},
     "output_type": "display_data"
    }
   ],
   "source": [
    "def plot_scores(scores):\n",
    "    \"\"\"\n",
    "    Plot the evaluation scores.\n",
    "    \"\"\"\n",
    "    labels = [\"Retrieval Quality\", \"Answer Correctness\", \"Hallucination\"]\n",
    "    scores = [scores[\"retrieval_quality\"], scores[\"answer_correctness\"], scores[\"hallucination\"]]\n",
    "    \n",
    "    _, ax = plt.subplots()\n",
    "    ax.bar(labels, scores)\n",
    "    ax.set_xlabel('Metric')\n",
    "    # set y range to 0-1\n",
    "    ax.set_ylim(0, 1)\n",
    "    ax.set_ylabel('Score')\n",
    "    ax.set_title('RAG Evaluation Scores')\n",
    "    plt.show()\n",
    "\n",
    "plot_scores(results[\"scores\"])"
   ]
  },
  {
   "cell_type": "code",
   "execution_count": 64,
   "metadata": {},
   "outputs": [
    {
     "data": {
      "image/png": "[encoded data removed]",
      "text/plain": [
       "<Figure size 640x480 with 1 Axes>"
      ]
     },
     "metadata": {},
     "output_type": "display_data"
    }
   ],
   "source": [
    "def plot_scores(scores):\n",
    "    \"\"\"\n",
    "    Plot the evaluation scores.\n",
    "    \"\"\"\n",
    "    labels = [\"Retrieval Quality\", \"Answer Correctness\", \"Hallucination\"]\n",
    "    scores = [scores[\"retrieval_quality\"], scores[\"answer_correctness\"], scores[\"hallucination\"]]\n",
    "    \n",
    "    _, ax = plt.subplots()\n",
    "    ax.bar(labels, scores)\n",
    "    ax.set_xlabel('Metric')\n",
    "    # set y range to 0-1\n",
    "    ax.set_ylim(0, 1)\n",
    "    ax.set_ylabel('Score')\n",
    "    ax.set_title('RAG Evaluation Scores')\n",
    "    plt.show()\n",
    "\n",
    "plot_scores(results[\"scores\"])"
   ]
  },
  {
   "cell_type": "code",
   "execution_count": null,
   "metadata": {},
   "outputs": [],
   "source": [
    "\n",
    "# -------------------------------------------------------------------------------------\n",
    "# 1. Baseline Evaluation\n",
    "# -------------------------------------------------------------------------------------\n",
    "# The initial RAG system used top-k retrieval (k=3) with a standard instruction-tuned LLM.\n",
    "# Evaluation showed moderate performance across all metrics, with occasional hallucinations\n",
    "# and limited coverage in retrieval.\n",
    "\n",
    "# -------------------------------------------------------------------------------------\n",
    "# 2. Expanding Retrieval Scope\n",
    "# -------------------------------------------------------------------------------------\n",
    "# To broaden the context available to the model, I increased the top-k retrieval value\n",
    "# from 3 to 10. This marginally improved retrieval quality but introduced more noise,\n",
    "# sometimes confusing the LLM due to less relevant context.\n",
    "\n",
    "# -------------------------------------------------------------------------------------\n",
    "# 3. Text Preprocessing\n",
    "# -------------------------------------------------------------------------------------\n",
    "# A preprocessing pipeline was introduced to normalize and clean the text:\n",
    "# - Unicode normalization\n",
    "# - HTML and special character removal\n",
    "# - Whitespace normalization\n",
    "# - Lowercasing (later partially reverted)\n",
    "# This improved the quality of document embeddings and significantly reduced hallucinations.\n",
    "# However, the initial drop in answer correctness suggested that some structural cues\n",
    "# (e.g., capitalization, formatting) were also being lost.\n",
    "\n",
    "# -------------------------------------------------------------------------------------\n",
    "# 4. Model Upgrade\n",
    "# -------------------------------------------------------------------------------------\n",
    "# I tested a stronger decoder-only model (`mistralai/mistral-large`), which led to\n",
    "# further reductions in hallucination. However, answer correctness slightly decreased\n",
    "# as the model became more cautious and sensitive to minimal input noise.\n",
    "\n",
    "# -------------------------------------------------------------------------------------\n",
    "# 5. Chunking Strategy Optimization\n",
    "# -------------------------------------------------------------------------------------\n",
    "# To preserve semantic boundaries and avoid cutting text mid-sentence or mid-entity,\n",
    "# I applied a RecursiveCharacterTextSplitter with semantic-aware fallbacks:\n",
    "# separators = [\"\\n\\n\", \"\\n\", \".\", \" \", \"\"], chunk_size = 300, overlap = 60.\n",
    "# This led to better contextual coherence and improved both retrieval and correctness.\n",
    "\n",
    "# -------------------------------------------------------------------------------------\n",
    "# 6. Prompt Refinement\n",
    "# -------------------------------------------------------------------------------------\n",
    "# The system prompt was refined to encourage grounded and transparent responses:\n",
    "# \"Only use the information from the context. If multiple documents conflict,\n",
    "# state the conflict. If unsure, say 'I don't know.'\"\n",
    "# This reduced hallucinations and improved factual accuracy by enforcing stricter\n",
    "# adherence to the retrieved content.\n",
    "\n",
    "# -------------------------------------------------------------------------------------\n",
    "# Final Outcome\n",
    "# -------------------------------------------------------------------------------------\n",
    "# The overall effect of these changes:\n",
    "# - Hallucination dropped significantly\n",
    "# - Retrieval quality improved steadily, but still not better than the orginal model.\n",
    "# - Answer correctness became more stable and context-aware\n",
    "# The pipeline is now more reliable, explainable, and robust across diverse queries.\n",
    "# -------------------------------------------------------------------------------------"
   ]
  }
 ],
 "metadata": {
  "kernelspec": {
   "display_name": "aiml25",
   "language": "python",
   "name": "python3"
  },
  "language_info": {
   "codemirror_mode": {
    "name": "ipython",
    "version": 3
   },
   "file_extension": ".py",
   "mimetype": "text/x-python",
   "name": "python",
   "nbconvert_exporter": "python",
   "pygments_lexer": "ipython3",
   "version": "3.10.16"
  }
 },
 "nbformat": 4,
 "nbformat_minor": 2
}
